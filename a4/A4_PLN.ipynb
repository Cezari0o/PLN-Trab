{
  "nbformat": 4,
  "nbformat_minor": 0,
  "metadata": {
    "colab": {
      "name": "A4_PLN.ipynb",
      "provenance": [],
      "collapsed_sections": [],
      "authorship_tag": "ABX9TyO6UpdeGNX/zV5R2dqO96Dh",
      "include_colab_link": true
    },
    "kernelspec": {
      "name": "python3",
      "display_name": "Python 3"
    },
    "language_info": {
      "name": "python"
    }
  },
  "cells": [
    {
      "cell_type": "markdown",
      "metadata": {
        "id": "view-in-github",
        "colab_type": "text"
      },
      "source": [
        "<a href=\"https://colab.research.google.com/github/Cezari0o/PLN-Trab/blob/main/a4/A4_PLN.ipynb\" target=\"_parent\"><img src=\"https://colab.research.google.com/assets/colab-badge.svg\" alt=\"Open In Colab\"/></a>"
      ]
    },
    {
      "cell_type": "code",
      "source": [
        "import numpy as np\n",
        "import math"
      ],
      "metadata": {
        "id": "6g6OkZ2VB4jI"
      },
      "execution_count": 4,
      "outputs": []
    },
    {
      "cell_type": "code",
      "execution_count": 5,
      "metadata": {
        "id": "3DUN1-ba4xk5"
      },
      "outputs": [],
      "source": [
        "def activate_fn(val, type, t):\n",
        "\n",
        "  functions = [\n",
        "               ('degrau', lambda v: 1 if v >= t else 0),\n",
        "               ('sinal', lambda v: 1 if v >= 0 else -1),\n",
        "               ('sigmoide', lambda v: 1 / (1 + math.exp(-v)))\n",
        "               ]\n",
        "\n",
        "  \n",
        "  for n, fn in functions:\n",
        "    if n == type:\n",
        "      return fn(val)\n",
        "\n",
        "  raise Exception('Nao tem a funcao')"
      ]
    },
    {
      "cell_type": "markdown",
      "source": [
        "# Dados do problema"
      ],
      "metadata": {
        "id": "5T_7WIsy69rh"
      }
    },
    {
      "cell_type": "markdown",
      "source": [
        "Definindo as entradas e labels"
      ],
      "metadata": {
        "id": "o8c-7RHOlSzp"
      }
    },
    {
      "cell_type": "code",
      "source": [
        "X = [[0,0], [0, 1], [1, 0], [1, 1]]\n",
        "labels = [0,1,1,0]"
      ],
      "metadata": {
        "id": "ttfMtlt_653u"
      },
      "execution_count": 2,
      "outputs": []
    },
    {
      "cell_type": "markdown",
      "source": [
        "Iniciando os pesos. Cada posicao do dicionário `pesos` se refere a um neurônio, cada um com seus pesos."
      ],
      "metadata": {
        "id": "kdm0ifz4lYrA"
      }
    },
    {
      "cell_type": "code",
      "source": [
        "pesos = {}\n",
        "num_neuronios = 3\n",
        "# Inicializando os pesos\n",
        "for i in range(0, num_neuronios):\n",
        "  pesos[i] = [np.random.uniform(0, 1) for i in range(2)]\n",
        "\n",
        "pesos"
      ],
      "metadata": {
        "colab": {
          "base_uri": "https://localhost:8080/"
        },
        "id": "I5vw4vMpK8Af",
        "outputId": "4473e22a-fc30-4622-a0ac-af26ef5ed3ee"
      },
      "execution_count": 113,
      "outputs": [
        {
          "output_type": "execute_result",
          "data": {
            "text/plain": [
              "{0: [0.4347768355536238, 0.5587434541315112],\n",
              " 1: [0.0626647815950907, 0.6721257372388915],\n",
              " 2: [0.15683363832059516, 0.4265781308632429]}"
            ]
          },
          "metadata": {},
          "execution_count": 113
        }
      ]
    },
    {
      "cell_type": "markdown",
      "source": [
        "Definindo a fase de propagação."
      ],
      "metadata": {
        "id": "v1RFZy22CGZ1"
      }
    },
    {
      "cell_type": "code",
      "source": [
        "# Cada camada abaixo indica quais sao os seus neuronios\n",
        "camadas = {\n",
        "    0: [0, 1],\n",
        "    1: [2],\n",
        "}\n",
        "\n",
        "saidas = {}\n",
        "\n",
        "net = 0\n",
        "for num_amostra, amostra in enumerate(X):\n",
        "  output_camadas = {0: dict(), 1: dict()}\n",
        "\n",
        "  # Primeira camada\n",
        "  for n in camadas[0]:\n",
        "    net = 0\n",
        "    for idx, ent in enumerate(amostra):\n",
        "      net += ent * pesos[camadas[0][n]][idx]\n",
        "    \n",
        "    output_camadas[0][n] = activate_fn(net, 'sigmoide', 0.5)\n",
        "  \n",
        "  # Segunda camada\n",
        "  net = 0\n",
        "  for idx, s in enumerate(output_camadas[0]):\n",
        "    net += output_camadas[0][s] * pesos[camadas[1][0]][idx]\n",
        "\n",
        "  output_camadas[1][2] = activate_fn(net, 'sigmoide', 0.5)\n",
        "  saidas[num_amostra] = output_camadas\n",
        "\n",
        "\n",
        "for amostra in saidas:\n",
        "  print(f\" - Amostra {amostra} - \")\n",
        "  for cam in saidas[amostra]:\n",
        "    print(f\" (Camada {cam})\")\n",
        "    for n in saidas[amostra][cam]:\n",
        "      print(f\"\\tNeur. {n} : {saidas[amostra][cam][n]}\")\n",
        "  print()\n",
        "# saidas"
      ],
      "metadata": {
        "colab": {
          "base_uri": "https://localhost:8080/"
        },
        "id": "3GmsJmrwCFiP",
        "outputId": "1fc66964-9557-4d2a-ac1c-c5c998410cf8"
      },
      "execution_count": 116,
      "outputs": [
        {
          "output_type": "stream",
          "name": "stdout",
          "text": [
            " - Amostra 0 - \n",
            " (Camada 0)\n",
            "\tNeur. 0 : 0.5\n",
            "\tNeur. 1 : 0.5\n",
            " (Camada 1)\n",
            "\tNeur. 2 : 0.5011302211562537\n",
            "\n",
            " - Amostra 1 - \n",
            " (Camada 0)\n",
            "\tNeur. 0 : 0.6361617499932771\n",
            "\tNeur. 1 : 0.6619789837973248\n",
            " (Camada 1)\n",
            "\tNeur. 2 : 0.501469192604389\n",
            "\n",
            " - Amostra 2 - \n",
            " (Camada 0)\n",
            "\tNeur. 0 : 0.6070137538982875\n",
            "\tNeur. 1 : 0.5156610708120624\n",
            " (Camada 1)\n",
            "\tNeur. 2 : 0.5012617643847496\n",
            "\n",
            " - Amostra 3 - \n",
            " (Camada 0)\n",
            "\tNeur. 0 : 0.7297826844629853\n",
            "\tNeur. 1 : 0.675855637373177\n",
            " (Camada 1)\n",
            "\tNeur. 2 : 0.5015844848156913\n",
            "\n"
          ]
        }
      ]
    },
    {
      "cell_type": "markdown",
      "source": [
        "Fase de retropropagação. Infelizmente, não consegui implementar ela completamente. Faltou calcular o gradiente e o ajuste dos pesos para a camada 0 (a camada de input). Do jeito que ela se encontra abaixo, consigo apenas fazer o ajuste de pesos da camada 1 para a 2 (camada interna para a de saída)."
      ],
      "metadata": {
        "id": "z00qZb41mGd5"
      }
    },
    {
      "cell_type": "code",
      "source": [
        "lr = 0.2\n",
        "\n",
        "print(\"Antes:\",pesos)\n",
        "for t in range(2000):\n",
        "  # Calculando o erro na camada de saida\n",
        "  for num_amostra, amostra in enumerate(X):\n",
        "    la = labels[num_amostra]\n",
        "    s  = saidas[num_amostra][1][2]\n",
        "\n",
        "    # Obtendo o erro na camada de saida (camada 1)\n",
        "    grad_layer2 = (1 - s)*s * (la - s)\n",
        "\n",
        "    grad_layer1 = dict()\n",
        "\n",
        "    # Obtendo o erro na camada 0\n",
        "    for neuron in camadas[0]:\n",
        "      s = saidas[num_amostra][0][neuron]\n",
        "      grad_layer1[neuron] = s * (1 - s) * (grad_layer2 * pesos[camadas[1][0]][neuron])\n",
        "      # grad_layer1[neuron] = layer1_o[neuron]*grad_layer2*layer2[neuron]\n",
        "\n",
        "    for neuron in camadas[1]:\n",
        "      for p in range(0, len(pesos[neuron])):\n",
        "        pesos[neuron][p] += lr * grad_layer1[p] * saidas[num_amostra][0][p]\n",
        "\n",
        "print(\"Depois:\",pesos)"
      ],
      "metadata": {
        "colab": {
          "base_uri": "https://localhost:8080/"
        },
        "id": "MQtlVRK6LrOH",
        "outputId": "8ba9c616-56de-49f6-9c9a-1f47165d0097"
      },
      "execution_count": 115,
      "outputs": [
        {
          "output_type": "stream",
          "name": "stdout",
          "text": [
            "Antes: {0: [0.4347768355536238, 0.5587434541315112], 1: [0.0626647815950907, 0.6721257372388915], 2: [0.15683363832059516, 0.4265781308632429]}\n",
            "Depois: {0: [0.4347768355536238, 0.5587434541315112], 1: [0.0626647815950907, 0.6721257372388915], 2: [0.004209749346386546, 0.004832035303629646]}\n"
          ]
        }
      ]
    }
  ]
}