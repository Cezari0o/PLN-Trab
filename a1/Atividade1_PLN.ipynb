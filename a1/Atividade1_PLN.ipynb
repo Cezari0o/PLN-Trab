{
  "cells": [
    {
      "cell_type": "code",
      "execution_count": 1,
      "metadata": {
        "id": "djwTMTs7STPb"
      },
      "outputs": [],
      "source": [
        "import re\n",
        "import pandas as pd\n",
        "import urllib\n",
        "from numpy import NaN"
      ]
    },
    {
      "cell_type": "code",
      "execution_count": 2,
      "metadata": {
        "colab": {
          "base_uri": "https://localhost:8080/"
        },
        "id": "Kt1hZ9FQJQW9",
        "outputId": "0b5bb877-efc6-4c41-82b6-5ab471e1b244"
      },
      "outputs": [
        {
          "name": "stdout",
          "output_type": "stream",
          "text": [
            "                                Data Retranca Tipo do Conteúdo  \\\n",
            "ID                                                               \n",
            "2016/01/29/0    2016-01-29T00:00:00Z  efmaadm       LICITAÇÕES   \n",
            "2016/01/29/1    2016-01-29T00:00:00Z  efaaadm       LICITAÇÕES   \n",
            "2016/01/29/2    2016-01-29T00:00:00Z  efmaadm       LICITAÇÕES   \n",
            "2016/01/29/3    2016-01-29T00:00:00Z  epaaadm       LICITAÇÕES   \n",
            "2016/01/29/4    2016-01-29T00:00:00Z  epwbadm       LICITAÇÕES   \n",
            "...                              ...      ...              ...   \n",
            "2016/01/29/702  2016-01-29T00:00:00Z  dseaadm          EDITAIS   \n",
            "2016/01/29/703  2016-01-29T00:00:00Z  bpaaadm       SERVIDORES   \n",
            "2016/01/29/704  2016-01-29T00:00:00Z  bofaadm       SERVIDORES   \n",
            "2016/01/29/705  2016-01-29T00:00:00Z  abnxidm         DESPACHO   \n",
            "2016/01/29/706  2016-01-29T00:00:00Z  agidadm         DESPACHO   \n",
            "\n",
            "                                    Secretaria  \\\n",
            "ID                                               \n",
            "2016/01/29/0                                 -   \n",
            "2016/01/29/1                           CULTURA   \n",
            "2016/01/29/2                                 -   \n",
            "2016/01/29/3                             SAÚDE   \n",
            "2016/01/29/4    AUTARQUIA HOSPITALAR MUNICIPAL   \n",
            "...                                        ...   \n",
            "2016/01/29/702                     TRANSPORTES   \n",
            "2016/01/29/703                           SAÚDE   \n",
            "2016/01/29/704          DESENVOLVIMENTO URBANO   \n",
            "2016/01/29/705    DIREITOS HUMANOS E CIDADANIA   \n",
            "2016/01/29/706                        EDUCAÇÃO   \n",
            "\n",
            "                                                     Orgão  \\\n",
            "ID                                                           \n",
            "2016/01/29/0                                             -   \n",
            "2016/01/29/1                        GABINETE DO SECRETÁRIO   \n",
            "2016/01/29/2                                             -   \n",
            "2016/01/29/3                        GABINETE DO SECRETÁRIO   \n",
            "2016/01/29/4                DIRETORIA DE GESTÃO DE PESSOAL   \n",
            "...                                                    ...   \n",
            "2016/01/29/702               DEPTO DE TRANSPORTES PÚBLICOS   \n",
            "2016/01/29/703                      GABINETE DO SECRETÁRIO   \n",
            "2016/01/29/704                      GABINETE DO SECRETÁRIO   \n",
            "2016/01/29/705                      GABINETE DO SECRETÁRIO   \n",
            "2016/01/29/706  DIRETORIA REGIONAL DE EDUCAÇÃO DE PIRITUBA   \n",
            "\n",
            "                                                            Texto Unnamed: 7  \\\n",
            "ID                                                                             \n",
            "2016/01/29/0    ((TITULO))Extrato de Termo de Aditamento\\n((TE...        NaN   \n",
            "2016/01/29/1    ((TITULO))CONTRAÇÃO DE NATUREZA ARTÍSTICA\\n\\n(...        NaN   \n",
            "2016/01/29/2    ((TITULO))Extrato de Termo de Aditamento\\n((TE...        NaN   \n",
            "2016/01/29/3    ((TITULO))PROCESSO: 2015-0.272.291-3\\n((TEXTO)...        NaN   \n",
            "2016/01/29/4    ((TITULO))PENALIDADE\\n((TEXTO))((NG))PROCESSO ...        NaN   \n",
            "...                                                           ...        ...   \n",
            "2016/01/29/702  ((TEXTO))((NG))INTIMAÇÃO((CL))\\nProcesso Admin...        NaN   \n",
            "2016/01/29/703  ((TITULO))COORDENAÇÃO DE GESTÃO DE PESSOAS - C...        NaN   \n",
            "2016/01/29/704  ((TITULO))LICENÇA MÉDICA - RGPS\\n((TEXTO))Conc...        NaN   \n",
            "2016/01/29/705  ((TITULO))Processo Eletrônico nº 6074.2016/000...        NaN   \n",
            "2016/01/29/706  ((TITULO))DIRETORIA REGIONAL DE EDUCAÇÃO - PIR...        NaN   \n",
            "\n",
            "               Unnamed: 8 Unnamed: 9 Unnamed: 10 Unnamed: 11 Unnamed: 12  \n",
            "ID                                                                        \n",
            "2016/01/29/0          NaN        NaN         NaN         NaN         NaN  \n",
            "2016/01/29/1          NaN        NaN         NaN         NaN         NaN  \n",
            "2016/01/29/2          NaN        NaN         NaN         NaN         NaN  \n",
            "2016/01/29/3          NaN        NaN         NaN         NaN         NaN  \n",
            "2016/01/29/4          NaN        NaN         NaN         NaN         NaN  \n",
            "...                   ...        ...         ...         ...         ...  \n",
            "2016/01/29/702        NaN        NaN         NaN         NaN         NaN  \n",
            "2016/01/29/703        NaN        NaN         NaN         NaN         NaN  \n",
            "2016/01/29/704        NaN        NaN         NaN         NaN         NaN  \n",
            "2016/01/29/705        NaN        NaN         NaN         NaN         NaN  \n",
            "2016/01/29/706        NaN        NaN         NaN         NaN         NaN  \n",
            "\n",
            "[706 rows x 12 columns]\n"
          ]
        }
      ],
      "source": [
        "with open(\"dosp_29012016.csv\") as file:\n",
        "    dt = pd.read_csv(file, index_col='ID')\n",
        "    print(dt)"
      ]
    },
    {
      "cell_type": "code",
      "execution_count": 3,
      "metadata": {
        "colab": {
          "base_uri": "https://localhost:8080/"
        },
        "id": "WTQl2NPSe-1L",
        "outputId": "506b7d52-9d57-496c-9e5f-102a9eb15d70"
      },
      "outputs": [
        {
          "name": "stdout",
          "output_type": "stream",
          "text": [
            "{'Título da Publicação': [], 'Número do Processo': [], 'Valor (Valor Global) em R$': []}\n"
          ]
        }
      ],
      "source": [
        "data_dict = {'Título da Publicação': [],\n",
        "             'Número do Processo': [],\n",
        "             'Valor (Valor Global) em R$': []\n",
        "             }\n",
        "print(data_dict)"
      ]
    },
    {
      "cell_type": "code",
      "execution_count": 4,
      "metadata": {
        "colab": {
          "base_uri": "https://localhost:8080/"
        },
        "id": "ENbt2806gdzf",
        "outputId": "d969778d-5e07-4465-efbd-abafab3d17d8"
      },
      "outputs": [
        {
          "name": "stdout",
          "output_type": "stream",
          "text": [
            "10 primeiros valores encontrados:\n",
            "\n",
            "dict_keys(['Título da Publicação', 'Número do Processo', 'Valor (Valor Global) em R$']) \n",
            "\n",
            "Extrato de Termo de Aditamento\t2013-0.009.972-7\t14.100,00\t\n",
            "CONTRAÇÃO DE NATUREZA ARTÍSTICA\t6025.2016/0000082-0\t14.000,00\t\n",
            "Extrato de Termo de Aditamento\t2013-0.009.972-7\t14.100,00\t\n",
            "PROCESSO: 2015-0.272.291-3\t2015-0.272.291-3\t30.560,00\t\n",
            "PENALIDADE\t2015-0.245.159-6\tnan\t\n",
            "2015-0.038.991-5\t2015-0.038.991-5\tnan\t\n",
            "DISPENSA DE LICITAÇÃO\t6025.2016/0000004-8\t11.999.014,74\t\n",
            "EXTRATO DE ORDEM DE EXCECUÇÃO DE SERVIÇO\t2015-0.336.332-1\tnan\t\n",
            "CONTRAÇÃO DE NATUREZA ARTÍSTICA\t6025.2016/0000078-1\t55.000,00\t\n",
            "CONTRAÇÃO DE NATUREZA ARTÍSTICA\t6025.2016/0000086-2\t15.000,00\t\n"
          ]
        }
      ],
      "source": [
        "counter = 0\n",
        "# Limpando o dataset, para varias execucoes deste mesmo bloco\n",
        "for k in data_dict.keys():\n",
        "    data_dict[k].clear()\n",
        "\n",
        "limite = 10\n",
        "print(f\"{limite} primeiros valores encontrados:\\n\")\n",
        "print(data_dict.keys(), '\\n')\n",
        "\n",
        "for texto in dt['Texto']:\n",
        "    titulo = re.search(r'(t[íi]tulo|T[ÍI]TULO)\\){1,2}[^\\(\\)\\n]+[\\s\\(]', texto)\n",
        "\n",
        "    if titulo:\n",
        "        data_dict['Título da Publicação'].append(re.sub(r'(t[íi]tulo|T[ÍI]TULO)\\){1,2}\\s*|[\\s\\(]$', '', titulo.group()))\n",
        "    else:\n",
        "        data_dict['Título da Publicação'].append(NaN)\n",
        "\n",
        "    n_processo = re.search(r'\\d{4}[\\-\\.]\\d\\.(\\d{1,3}[\\-\\.])+\\d|(\\d{4}\\.?)+/\\d+\\-\\d', texto)\n",
        "\n",
        "    if n_processo:\n",
        "        data_dict['Número do Processo'].append(n_processo.group())\n",
        "    else:\n",
        "        data_dict['Número do Processo'].append(NaN)\n",
        "\n",
        "    valor = re.search(r'([Vv]alor|VALOR).*?(R\\$ *(\\d{1,3}\\.?)+,\\d{2})', texto)\n",
        "\n",
        "    if(valor):\n",
        "        data_dict['Valor (Valor Global) em R$'].append(re.search(r'(\\d{1,3}\\.?)+,\\d{2}', valor.group()).group())\n",
        "    else:\n",
        "        data_dict['Valor (Valor Global) em R$'].append(NaN)\n",
        "\n",
        "    if(counter < 10):\n",
        "        for k in data_dict.keys():\n",
        "            print(data_dict[k][counter], end='\\t')\n",
        "\n",
        "        print()\n",
        "        \n",
        "    counter += 1"
      ]
    },
    {
      "cell_type": "code",
      "execution_count": 5,
      "metadata": {
        "colab": {
          "base_uri": "https://localhost:8080/"
        },
        "id": "qTaABKaYuv5F",
        "outputId": "4feeb553-6cf2-428e-a5de-b62bc60e9589"
      },
      "outputs": [
        {
          "name": "stdout",
          "output_type": "stream",
          "text": [
            "                           Título da Publicação   Número do Processo  \\\n",
            "0                Extrato de Termo de Aditamento     2013-0.009.972-7   \n",
            "1               CONTRAÇÃO DE NATUREZA ARTÍSTICA  6025.2016/0000082-0   \n",
            "2                Extrato de Termo de Aditamento     2013-0.009.972-7   \n",
            "3                    PROCESSO: 2015-0.272.291-3     2015-0.272.291-3   \n",
            "4                                    PENALIDADE     2015-0.245.159-6   \n",
            "..                                          ...                  ...   \n",
            "701                                         NaN     2015-0.218.431-8   \n",
            "702      COORDENAÇÃO DE GESTÃO DE PESSOAS - CGP     2015-0.323.706-7   \n",
            "703                       LICENÇA MÉDICA - RGPS                  NaN   \n",
            "704  Processo Eletrônico nº 6074.2016/0000050-9  6074.2016/0000050-9   \n",
            "705   DIRETORIA REGIONAL DE EDUCAÇÃO - PIRITUBA     2016-0.010.708-3   \n",
            "\n",
            "    Valor (Valor Global) em R$  \n",
            "0                    14.100,00  \n",
            "1                    14.000,00  \n",
            "2                    14.100,00  \n",
            "3                    30.560,00  \n",
            "4                          NaN  \n",
            "..                         ...  \n",
            "701                        NaN  \n",
            "702                        NaN  \n",
            "703                        NaN  \n",
            "704                        NaN  \n",
            "705                        NaN  \n",
            "\n",
            "[706 rows x 3 columns]\n"
          ]
        }
      ],
      "source": [
        "# Convertendo o resultado pro dataset do pandas\n",
        "result_df = pd.DataFrame(data_dict)\n",
        "print(result_df)"
      ]
    },
    {
      "cell_type": "code",
      "execution_count": 6,
      "metadata": {
        "id": "6f2w0S_GlpsK"
      },
      "outputs": [],
      "source": [
        "# Salvando\n",
        "result_df.to_csv('dosp_processado.csv')"
      ]
    }
  ],
  "metadata": {
    "colab": {
      "collapsed_sections": [],
      "name": "Atividade1_PLN.ipynb",
      "provenance": []
    },
    "kernelspec": {
      "display_name": "Python 3",
      "name": "python3"
    },
    "language_info": {
      "name": "python"
    }
  },
  "nbformat": 4,
  "nbformat_minor": 0
}
