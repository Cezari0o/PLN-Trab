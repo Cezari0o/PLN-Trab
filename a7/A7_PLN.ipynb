{
  "nbformat": 4,
  "nbformat_minor": 0,
  "metadata": {
    "colab": {
      "name": "A7_PLN.ipynb",
      "provenance": [],
      "collapsed_sections": [],
      "mount_file_id": "1lmo7h2HPR2qzUB4iy7A990OYvr57vN2F",
      "authorship_tag": "ABX9TyPYr+c1RFOmw5duWhOtUlWZ"
    },
    "kernelspec": {
      "name": "python3",
      "display_name": "Python 3"
    },
    "language_info": {
      "name": "python"
    },
    "accelerator": "GPU",
    "gpuClass": "standard"
  },
  "cells": [
    {
      "cell_type": "markdown",
      "source": [
        "# Atividade 7\n",
        "Nome: Gabriel Cesário Silva Martins - 180100912"
      ],
      "metadata": {
        "id": "d7J0qCliBd_6"
      }
    },
    {
      "cell_type": "markdown",
      "source": [
        "Montando o google drive, e fazendo pré-configurações."
      ],
      "metadata": {
        "id": "T038II1cBmmM"
      }
    },
    {
      "cell_type": "code",
      "source": [
        "from google.colab import drive\n",
        "drive.mount('/content/drive/')"
      ],
      "metadata": {
        "colab": {
          "base_uri": "https://localhost:8080/"
        },
        "id": "rOURiGyx3W-c",
        "outputId": "fa257fc4-1300-45b2-dd59-0eeb27876158"
      },
      "execution_count": 2,
      "outputs": [
        {
          "output_type": "stream",
          "name": "stdout",
          "text": [
            "Mounted at /content/drive/\n"
          ]
        }
      ]
    },
    {
      "cell_type": "code",
      "source": [
        "!cp -r '/content/drive/MyDrive/UnB/documents/' 'documents'"
      ],
      "metadata": {
        "id": "_0nqIILT-9Li"
      },
      "execution_count": 3,
      "outputs": []
    },
    {
      "cell_type": "code",
      "execution_count": 4,
      "metadata": {
        "id": "xkJeDBE0KFcg",
        "colab": {
          "base_uri": "https://localhost:8080/"
        },
        "outputId": "befc1f22-5a79-4247-d4f8-6af2aaef8136"
      },
      "outputs": [
        {
          "output_type": "stream",
          "name": "stdout",
          "text": [
            "Looking in indexes: https://pypi.org/simple, https://us-python.pkg.dev/colab-wheels/public/simple/\n",
            "Requirement already satisfied: keras in /usr/local/lib/python3.7/dist-packages (2.8.0)\n",
            "Collecting keras\n",
            "  Downloading keras-2.9.0-py2.py3-none-any.whl (1.6 MB)\n",
            "\u001b[K     |████████████████████████████████| 1.6 MB 5.0 MB/s \n",
            "\u001b[?25hInstalling collected packages: keras\n",
            "  Attempting uninstall: keras\n",
            "    Found existing installation: keras 2.8.0\n",
            "    Uninstalling keras-2.8.0:\n",
            "      Successfully uninstalled keras-2.8.0\n",
            "\u001b[31mERROR: pip's dependency resolver does not currently take into account all the packages that are installed. This behaviour is the source of the following dependency conflicts.\n",
            "tensorflow 2.8.2+zzzcolab20220719082949 requires keras<2.9,>=2.8.0rc0, but you have keras 2.9.0 which is incompatible.\u001b[0m\n",
            "Successfully installed keras-2.9.0\n",
            "Looking in indexes: https://pypi.org/simple, https://us-python.pkg.dev/colab-wheels/public/simple/\n",
            "Requirement already satisfied: tensorflow in /usr/local/lib/python3.7/dist-packages (2.8.2+zzzcolab20220719082949)\n",
            "Collecting keras<2.9,>=2.8.0rc0\n",
            "  Downloading keras-2.8.0-py2.py3-none-any.whl (1.4 MB)\n",
            "\u001b[K     |████████████████████████████████| 1.4 MB 5.2 MB/s \n",
            "\u001b[?25hRequirement already satisfied: typing-extensions>=3.6.6 in /usr/local/lib/python3.7/dist-packages (from tensorflow) (4.1.1)\n",
            "Requirement already satisfied: protobuf<3.20,>=3.9.2 in /usr/local/lib/python3.7/dist-packages (from tensorflow) (3.17.3)\n",
            "Requirement already satisfied: tensorflow-io-gcs-filesystem>=0.23.1 in /usr/local/lib/python3.7/dist-packages (from tensorflow) (0.26.0)\n",
            "Requirement already satisfied: h5py>=2.9.0 in /usr/local/lib/python3.7/dist-packages (from tensorflow) (3.1.0)\n",
            "Requirement already satisfied: google-pasta>=0.1.1 in /usr/local/lib/python3.7/dist-packages (from tensorflow) (0.2.0)\n",
            "Requirement already satisfied: grpcio<2.0,>=1.24.3 in /usr/local/lib/python3.7/dist-packages (from tensorflow) (1.47.0)\n",
            "Requirement already satisfied: tensorboard<2.9,>=2.8 in /usr/local/lib/python3.7/dist-packages (from tensorflow) (2.8.0)\n",
            "Requirement already satisfied: tensorflow-estimator<2.9,>=2.8 in /usr/local/lib/python3.7/dist-packages (from tensorflow) (2.8.0)\n",
            "Requirement already satisfied: astunparse>=1.6.0 in /usr/local/lib/python3.7/dist-packages (from tensorflow) (1.6.3)\n",
            "Requirement already satisfied: libclang>=9.0.1 in /usr/local/lib/python3.7/dist-packages (from tensorflow) (14.0.6)\n",
            "Requirement already satisfied: setuptools in /usr/local/lib/python3.7/dist-packages (from tensorflow) (57.4.0)\n",
            "Requirement already satisfied: six>=1.12.0 in /usr/local/lib/python3.7/dist-packages (from tensorflow) (1.15.0)\n",
            "Requirement already satisfied: termcolor>=1.1.0 in /usr/local/lib/python3.7/dist-packages (from tensorflow) (1.1.0)\n",
            "Requirement already satisfied: numpy>=1.20 in /usr/local/lib/python3.7/dist-packages (from tensorflow) (1.21.6)\n",
            "Requirement already satisfied: opt-einsum>=2.3.2 in /usr/local/lib/python3.7/dist-packages (from tensorflow) (3.3.0)\n",
            "Requirement already satisfied: keras-preprocessing>=1.1.1 in /usr/local/lib/python3.7/dist-packages (from tensorflow) (1.1.2)\n",
            "Requirement already satisfied: wrapt>=1.11.0 in /usr/local/lib/python3.7/dist-packages (from tensorflow) (1.14.1)\n",
            "Requirement already satisfied: flatbuffers>=1.12 in /usr/local/lib/python3.7/dist-packages (from tensorflow) (2.0)\n",
            "Requirement already satisfied: gast>=0.2.1 in /usr/local/lib/python3.7/dist-packages (from tensorflow) (0.5.3)\n",
            "Requirement already satisfied: absl-py>=0.4.0 in /usr/local/lib/python3.7/dist-packages (from tensorflow) (1.2.0)\n",
            "Requirement already satisfied: wheel<1.0,>=0.23.0 in /usr/local/lib/python3.7/dist-packages (from astunparse>=1.6.0->tensorflow) (0.37.1)\n",
            "Requirement already satisfied: cached-property in /usr/local/lib/python3.7/dist-packages (from h5py>=2.9.0->tensorflow) (1.5.2)\n",
            "Requirement already satisfied: markdown>=2.6.8 in /usr/local/lib/python3.7/dist-packages (from tensorboard<2.9,>=2.8->tensorflow) (3.4.1)\n",
            "Requirement already satisfied: google-auth-oauthlib<0.5,>=0.4.1 in /usr/local/lib/python3.7/dist-packages (from tensorboard<2.9,>=2.8->tensorflow) (0.4.6)\n",
            "Requirement already satisfied: requests<3,>=2.21.0 in /usr/local/lib/python3.7/dist-packages (from tensorboard<2.9,>=2.8->tensorflow) (2.23.0)\n",
            "Requirement already satisfied: google-auth<3,>=1.6.3 in /usr/local/lib/python3.7/dist-packages (from tensorboard<2.9,>=2.8->tensorflow) (1.35.0)\n",
            "Requirement already satisfied: tensorboard-plugin-wit>=1.6.0 in /usr/local/lib/python3.7/dist-packages (from tensorboard<2.9,>=2.8->tensorflow) (1.8.1)\n",
            "Requirement already satisfied: werkzeug>=0.11.15 in /usr/local/lib/python3.7/dist-packages (from tensorboard<2.9,>=2.8->tensorflow) (1.0.1)\n",
            "Requirement already satisfied: tensorboard-data-server<0.7.0,>=0.6.0 in /usr/local/lib/python3.7/dist-packages (from tensorboard<2.9,>=2.8->tensorflow) (0.6.1)\n",
            "Requirement already satisfied: cachetools<5.0,>=2.0.0 in /usr/local/lib/python3.7/dist-packages (from google-auth<3,>=1.6.3->tensorboard<2.9,>=2.8->tensorflow) (4.2.4)\n",
            "Requirement already satisfied: rsa<5,>=3.1.4 in /usr/local/lib/python3.7/dist-packages (from google-auth<3,>=1.6.3->tensorboard<2.9,>=2.8->tensorflow) (4.9)\n",
            "Requirement already satisfied: pyasn1-modules>=0.2.1 in /usr/local/lib/python3.7/dist-packages (from google-auth<3,>=1.6.3->tensorboard<2.9,>=2.8->tensorflow) (0.2.8)\n",
            "Requirement already satisfied: requests-oauthlib>=0.7.0 in /usr/local/lib/python3.7/dist-packages (from google-auth-oauthlib<0.5,>=0.4.1->tensorboard<2.9,>=2.8->tensorflow) (1.3.1)\n",
            "Requirement already satisfied: importlib-metadata>=4.4 in /usr/local/lib/python3.7/dist-packages (from markdown>=2.6.8->tensorboard<2.9,>=2.8->tensorflow) (4.12.0)\n",
            "Requirement already satisfied: zipp>=0.5 in /usr/local/lib/python3.7/dist-packages (from importlib-metadata>=4.4->markdown>=2.6.8->tensorboard<2.9,>=2.8->tensorflow) (3.8.1)\n",
            "Requirement already satisfied: pyasn1<0.5.0,>=0.4.6 in /usr/local/lib/python3.7/dist-packages (from pyasn1-modules>=0.2.1->google-auth<3,>=1.6.3->tensorboard<2.9,>=2.8->tensorflow) (0.4.8)\n",
            "Requirement already satisfied: idna<3,>=2.5 in /usr/local/lib/python3.7/dist-packages (from requests<3,>=2.21.0->tensorboard<2.9,>=2.8->tensorflow) (2.10)\n",
            "Requirement already satisfied: certifi>=2017.4.17 in /usr/local/lib/python3.7/dist-packages (from requests<3,>=2.21.0->tensorboard<2.9,>=2.8->tensorflow) (2022.6.15)\n",
            "Requirement already satisfied: chardet<4,>=3.0.2 in /usr/local/lib/python3.7/dist-packages (from requests<3,>=2.21.0->tensorboard<2.9,>=2.8->tensorflow) (3.0.4)\n",
            "Requirement already satisfied: urllib3!=1.25.0,!=1.25.1,<1.26,>=1.21.1 in /usr/local/lib/python3.7/dist-packages (from requests<3,>=2.21.0->tensorboard<2.9,>=2.8->tensorflow) (1.24.3)\n",
            "Requirement already satisfied: oauthlib>=3.0.0 in /usr/local/lib/python3.7/dist-packages (from requests-oauthlib>=0.7.0->google-auth-oauthlib<0.5,>=0.4.1->tensorboard<2.9,>=2.8->tensorflow) (3.2.0)\n",
            "Installing collected packages: keras\n",
            "  Attempting uninstall: keras\n",
            "    Found existing installation: keras 2.9.0\n",
            "    Uninstalling keras-2.9.0:\n",
            "      Successfully uninstalled keras-2.9.0\n",
            "Successfully installed keras-2.8.0\n"
          ]
        }
      ],
      "source": [
        "!pip install -U keras\n",
        "!pip install tensorflow"
      ]
    },
    {
      "cell_type": "code",
      "source": [
        "!pip install pytesseract\n",
        "!sudo apt install tesseract-ocr"
      ],
      "metadata": {
        "colab": {
          "base_uri": "https://localhost:8080/",
          "height": 1000
        },
        "id": "rJguzXSDvSRi",
        "outputId": "cb1a289c-38ff-434d-c854-3046bbcf4173"
      },
      "execution_count": 5,
      "outputs": [
        {
          "output_type": "stream",
          "name": "stdout",
          "text": [
            "Looking in indexes: https://pypi.org/simple, https://us-python.pkg.dev/colab-wheels/public/simple/\n",
            "Collecting pytesseract\n",
            "  Downloading pytesseract-0.3.10-py3-none-any.whl (14 kB)\n",
            "Requirement already satisfied: packaging>=21.3 in /usr/local/lib/python3.7/dist-packages (from pytesseract) (21.3)\n",
            "Collecting Pillow>=8.0.0\n",
            "  Downloading Pillow-9.2.0-cp37-cp37m-manylinux_2_17_x86_64.manylinux2014_x86_64.whl (3.1 MB)\n",
            "\u001b[K     |████████████████████████████████| 3.1 MB 5.0 MB/s \n",
            "\u001b[?25hRequirement already satisfied: pyparsing!=3.0.5,>=2.0.2 in /usr/local/lib/python3.7/dist-packages (from packaging>=21.3->pytesseract) (3.0.9)\n",
            "Installing collected packages: Pillow, pytesseract\n",
            "  Attempting uninstall: Pillow\n",
            "    Found existing installation: Pillow 7.1.2\n",
            "    Uninstalling Pillow-7.1.2:\n",
            "      Successfully uninstalled Pillow-7.1.2\n",
            "Successfully installed Pillow-9.2.0 pytesseract-0.3.10\n"
          ]
        },
        {
          "output_type": "display_data",
          "data": {
            "application/vnd.colab-display-data+json": {
              "pip_warning": {
                "packages": [
                  "PIL"
                ]
              }
            }
          },
          "metadata": {}
        },
        {
          "output_type": "stream",
          "name": "stdout",
          "text": [
            "Reading package lists... Done\n",
            "Building dependency tree       \n",
            "Reading state information... Done\n",
            "The following package was automatically installed and is no longer required:\n",
            "  libnvidia-common-460\n",
            "Use 'sudo apt autoremove' to remove it.\n",
            "The following additional packages will be installed:\n",
            "  tesseract-ocr-eng tesseract-ocr-osd\n",
            "The following NEW packages will be installed:\n",
            "  tesseract-ocr tesseract-ocr-eng tesseract-ocr-osd\n",
            "0 upgraded, 3 newly installed, 0 to remove and 20 not upgraded.\n",
            "Need to get 4,795 kB of archives.\n",
            "After this operation, 15.8 MB of additional disk space will be used.\n",
            "Get:1 http://archive.ubuntu.com/ubuntu bionic/universe amd64 tesseract-ocr-eng all 4.00~git24-0e00fe6-1.2 [1,588 kB]\n",
            "Get:2 http://archive.ubuntu.com/ubuntu bionic/universe amd64 tesseract-ocr-osd all 4.00~git24-0e00fe6-1.2 [2,989 kB]\n",
            "Get:3 http://archive.ubuntu.com/ubuntu bionic/universe amd64 tesseract-ocr amd64 4.00~git2288-10f4998a-2 [218 kB]\n",
            "Fetched 4,795 kB in 0s (12.2 MB/s)\n",
            "debconf: unable to initialize frontend: Dialog\n",
            "debconf: (No usable dialog-like program is installed, so the dialog based frontend cannot be used. at /usr/share/perl5/Debconf/FrontEnd/Dialog.pm line 76, <> line 3.)\n",
            "debconf: falling back to frontend: Readline\n",
            "debconf: unable to initialize frontend: Readline\n",
            "debconf: (This frontend requires a controlling tty.)\n",
            "debconf: falling back to frontend: Teletype\n",
            "dpkg-preconfigure: unable to re-open stdin: \n",
            "Selecting previously unselected package tesseract-ocr-eng.\n",
            "(Reading database ... 155676 files and directories currently installed.)\n",
            "Preparing to unpack .../tesseract-ocr-eng_4.00~git24-0e00fe6-1.2_all.deb ...\n",
            "Unpacking tesseract-ocr-eng (4.00~git24-0e00fe6-1.2) ...\n",
            "Selecting previously unselected package tesseract-ocr-osd.\n",
            "Preparing to unpack .../tesseract-ocr-osd_4.00~git24-0e00fe6-1.2_all.deb ...\n",
            "Unpacking tesseract-ocr-osd (4.00~git24-0e00fe6-1.2) ...\n",
            "Selecting previously unselected package tesseract-ocr.\n",
            "Preparing to unpack .../tesseract-ocr_4.00~git2288-10f4998a-2_amd64.deb ...\n",
            "Unpacking tesseract-ocr (4.00~git2288-10f4998a-2) ...\n",
            "Setting up tesseract-ocr-osd (4.00~git24-0e00fe6-1.2) ...\n",
            "Setting up tesseract-ocr-eng (4.00~git24-0e00fe6-1.2) ...\n",
            "Setting up tesseract-ocr (4.00~git2288-10f4998a-2) ...\n",
            "Processing triggers for man-db (2.8.3-2ubuntu0.1) ...\n"
          ]
        }
      ]
    },
    {
      "cell_type": "code",
      "source": [
        "import pandas as pd\n",
        "\n",
        "import tensorflow as tf\n",
        "from keras.models import Sequential\n",
        "from keras.layers import Dense, Activation, Conv2D, MaxPooling2D, BatchNormalization, Flatten, Resizing\n",
        "from tensorflow.keras.optimizers import SGD\n",
        "from tensorflow.keras.preprocessing.image import ImageDataGenerator\n",
        "from tensorflow.keras import layers\n",
        "from sklearn.model_selection import train_test_split\n",
        "from tensorflow.keras.applications.resnet50 import ResNet50\n",
        "\n",
        "import numpy as np\n",
        "import pandas as pd\n",
        "import matplotlib.pyplot as plt"
      ],
      "metadata": {
        "id": "F5Q8kGSHOIDE"
      },
      "execution_count": 1,
      "outputs": []
    },
    {
      "cell_type": "markdown",
      "source": [
        "Tratando os dados"
      ],
      "metadata": {
        "id": "QxFXFWwrysQ5"
      }
    },
    {
      "cell_type": "code",
      "source": [
        "import os\n",
        "path = 'documents'\n",
        "lista_subdirs = os.listdir(path)\n",
        "\n",
        "dataset_dict = dict()\n",
        "\n",
        "dataset_dict['filename'] = []\n",
        "dataset_dict['label'] = []\n",
        "\n",
        "for d in lista_subdirs:\n",
        "  lista_imagens = os.listdir(f\"{path}/{d}\")\n",
        "  for img_file in lista_imagens:\n",
        "    dataset_dict['filename'].append(f\"{d}/{img_file}\")\n",
        "    dataset_dict['label'].append(d)"
      ],
      "metadata": {
        "id": "hK21os2z0JKO"
      },
      "execution_count": 2,
      "outputs": []
    },
    {
      "cell_type": "code",
      "source": [
        "df = pd.DataFrame(dataset_dict, columns=['filename', 'label'])"
      ],
      "metadata": {
        "id": "aXNSJ2fR2qwC"
      },
      "execution_count": 3,
      "outputs": []
    },
    {
      "cell_type": "code",
      "source": [
        "X = df['filename'].values\n",
        "y = df['label'].values"
      ],
      "metadata": {
        "id": "Ue6Jlxxn4QjA"
      },
      "execution_count": 4,
      "outputs": []
    },
    {
      "cell_type": "code",
      "source": [
        "X_train, X_test, y_train, y_test = train_test_split(X, y, test_size=0.2, random_state=42)\n",
        "X_valid, X_test, y_valid, y_test = train_test_split(X_test, y_test, test_size=0.6, random_state=42)"
      ],
      "metadata": {
        "id": "cU2xPUimyg4v"
      },
      "execution_count": 5,
      "outputs": []
    },
    {
      "cell_type": "code",
      "source": [
        "from keras.utils.np_utils import to_categorical\n",
        "\n",
        "train_labels = pd.Categorical(y_train)\n",
        "test_labels  = pd.Categorical(y_test)\n",
        "valid_labels = pd.Categorical(y_valid)\n",
        "\n",
        "y_train_int = train_labels.codes\n",
        "y_test_int = test_labels.codes\n",
        "y_valid_int = valid_labels.codes\n",
        "\n",
        "y_train_logits = to_categorical(y_train_int)\n",
        "y_test_logits = to_categorical(y_test_int)\n",
        "y_valid_logits = to_categorical(y_valid_int)"
      ],
      "metadata": {
        "id": "DdDdgJmP4vPj"
      },
      "execution_count": 6,
      "outputs": []
    },
    {
      "cell_type": "code",
      "source": [
        "lista_train = []\n",
        "lista_test  = []\n",
        "lista_valid = []\n",
        "\n",
        "for i in range(0, len(X_train)):\n",
        "  lista_train.append([X_train[i], y_train[i]])\n",
        "\n",
        "for i in range(0, len(X_test)):\n",
        "  lista_test.append([X_test[i], y_test[i]])\n",
        "\n",
        "for i in range(0, len(X_valid)):\n",
        "  lista_valid.append([X_valid[i], y_valid[i]])\n"
      ],
      "metadata": {
        "id": "FKhdJGSE6N-L"
      },
      "execution_count": 7,
      "outputs": []
    },
    {
      "cell_type": "markdown",
      "source": [
        "Os datasets são obtidos abaixo."
      ],
      "metadata": {
        "id": "i7aGqTF5Bysb"
      }
    },
    {
      "cell_type": "code",
      "source": [
        "df_train = pd.DataFrame(lista_train, columns=['filename', 'label'])\n",
        "df_valid = pd.DataFrame(lista_valid, columns=['filename', 'label'])\n",
        "df_test = pd.DataFrame(lista_test, columns=['filename', 'label'])"
      ],
      "metadata": {
        "id": "5Ngzd3947L5m"
      },
      "execution_count": 8,
      "outputs": []
    },
    {
      "cell_type": "code",
      "source": [
        "df_train"
      ],
      "metadata": {
        "colab": {
          "base_uri": "https://localhost:8080/",
          "height": 424
        },
        "id": "GS2PUxig9ncy",
        "outputId": "d3ed6c75-7dd8-4080-bdb1-d4663f911637"
      },
      "execution_count": 9,
      "outputs": [
        {
          "output_type": "execute_result",
          "data": {
            "text/plain": [
              "                                               filename  \\\n",
              "0           scientific _publication/2085053942_3960.tif   \n",
              "1                          advertisement/2070671801.tif   \n",
              "2         scientific _publication/87339331_87339357.tif   \n",
              "3                                 email/2085787546b.tif   \n",
              "4                                 email/2064334292a.tif   \n",
              "...                                                 ...   \n",
              "2363                               email/2085272065.tif   \n",
              "2364                              email/2080891376a.tif   \n",
              "2365                               email/2064833034.tif   \n",
              "2366                                     email/1041.tif   \n",
              "2367  scientific _publication/1000089966_1000089970.tif   \n",
              "\n",
              "                        label  \n",
              "0     scientific _publication  \n",
              "1               advertisement  \n",
              "2     scientific _publication  \n",
              "3                       email  \n",
              "4                       email  \n",
              "...                       ...  \n",
              "2363                    email  \n",
              "2364                    email  \n",
              "2365                    email  \n",
              "2366                    email  \n",
              "2367  scientific _publication  \n",
              "\n",
              "[2368 rows x 2 columns]"
            ],
            "text/html": [
              "\n",
              "  <div id=\"df-c6f357b2-64e5-46f5-83ab-8bb4a3d755e3\">\n",
              "    <div class=\"colab-df-container\">\n",
              "      <div>\n",
              "<style scoped>\n",
              "    .dataframe tbody tr th:only-of-type {\n",
              "        vertical-align: middle;\n",
              "    }\n",
              "\n",
              "    .dataframe tbody tr th {\n",
              "        vertical-align: top;\n",
              "    }\n",
              "\n",
              "    .dataframe thead th {\n",
              "        text-align: right;\n",
              "    }\n",
              "</style>\n",
              "<table border=\"1\" class=\"dataframe\">\n",
              "  <thead>\n",
              "    <tr style=\"text-align: right;\">\n",
              "      <th></th>\n",
              "      <th>filename</th>\n",
              "      <th>label</th>\n",
              "    </tr>\n",
              "  </thead>\n",
              "  <tbody>\n",
              "    <tr>\n",
              "      <th>0</th>\n",
              "      <td>scientific _publication/2085053942_3960.tif</td>\n",
              "      <td>scientific _publication</td>\n",
              "    </tr>\n",
              "    <tr>\n",
              "      <th>1</th>\n",
              "      <td>advertisement/2070671801.tif</td>\n",
              "      <td>advertisement</td>\n",
              "    </tr>\n",
              "    <tr>\n",
              "      <th>2</th>\n",
              "      <td>scientific _publication/87339331_87339357.tif</td>\n",
              "      <td>scientific _publication</td>\n",
              "    </tr>\n",
              "    <tr>\n",
              "      <th>3</th>\n",
              "      <td>email/2085787546b.tif</td>\n",
              "      <td>email</td>\n",
              "    </tr>\n",
              "    <tr>\n",
              "      <th>4</th>\n",
              "      <td>email/2064334292a.tif</td>\n",
              "      <td>email</td>\n",
              "    </tr>\n",
              "    <tr>\n",
              "      <th>...</th>\n",
              "      <td>...</td>\n",
              "      <td>...</td>\n",
              "    </tr>\n",
              "    <tr>\n",
              "      <th>2363</th>\n",
              "      <td>email/2085272065.tif</td>\n",
              "      <td>email</td>\n",
              "    </tr>\n",
              "    <tr>\n",
              "      <th>2364</th>\n",
              "      <td>email/2080891376a.tif</td>\n",
              "      <td>email</td>\n",
              "    </tr>\n",
              "    <tr>\n",
              "      <th>2365</th>\n",
              "      <td>email/2064833034.tif</td>\n",
              "      <td>email</td>\n",
              "    </tr>\n",
              "    <tr>\n",
              "      <th>2366</th>\n",
              "      <td>email/1041.tif</td>\n",
              "      <td>email</td>\n",
              "    </tr>\n",
              "    <tr>\n",
              "      <th>2367</th>\n",
              "      <td>scientific _publication/1000089966_1000089970.tif</td>\n",
              "      <td>scientific _publication</td>\n",
              "    </tr>\n",
              "  </tbody>\n",
              "</table>\n",
              "<p>2368 rows × 2 columns</p>\n",
              "</div>\n",
              "      <button class=\"colab-df-convert\" onclick=\"convertToInteractive('df-c6f357b2-64e5-46f5-83ab-8bb4a3d755e3')\"\n",
              "              title=\"Convert this dataframe to an interactive table.\"\n",
              "              style=\"display:none;\">\n",
              "        \n",
              "  <svg xmlns=\"http://www.w3.org/2000/svg\" height=\"24px\"viewBox=\"0 0 24 24\"\n",
              "       width=\"24px\">\n",
              "    <path d=\"M0 0h24v24H0V0z\" fill=\"none\"/>\n",
              "    <path d=\"M18.56 5.44l.94 2.06.94-2.06 2.06-.94-2.06-.94-.94-2.06-.94 2.06-2.06.94zm-11 1L8.5 8.5l.94-2.06 2.06-.94-2.06-.94L8.5 2.5l-.94 2.06-2.06.94zm10 10l.94 2.06.94-2.06 2.06-.94-2.06-.94-.94-2.06-.94 2.06-2.06.94z\"/><path d=\"M17.41 7.96l-1.37-1.37c-.4-.4-.92-.59-1.43-.59-.52 0-1.04.2-1.43.59L10.3 9.45l-7.72 7.72c-.78.78-.78 2.05 0 2.83L4 21.41c.39.39.9.59 1.41.59.51 0 1.02-.2 1.41-.59l7.78-7.78 2.81-2.81c.8-.78.8-2.07 0-2.86zM5.41 20L4 18.59l7.72-7.72 1.47 1.35L5.41 20z\"/>\n",
              "  </svg>\n",
              "      </button>\n",
              "      \n",
              "  <style>\n",
              "    .colab-df-container {\n",
              "      display:flex;\n",
              "      flex-wrap:wrap;\n",
              "      gap: 12px;\n",
              "    }\n",
              "\n",
              "    .colab-df-convert {\n",
              "      background-color: #E8F0FE;\n",
              "      border: none;\n",
              "      border-radius: 50%;\n",
              "      cursor: pointer;\n",
              "      display: none;\n",
              "      fill: #1967D2;\n",
              "      height: 32px;\n",
              "      padding: 0 0 0 0;\n",
              "      width: 32px;\n",
              "    }\n",
              "\n",
              "    .colab-df-convert:hover {\n",
              "      background-color: #E2EBFA;\n",
              "      box-shadow: 0px 1px 2px rgba(60, 64, 67, 0.3), 0px 1px 3px 1px rgba(60, 64, 67, 0.15);\n",
              "      fill: #174EA6;\n",
              "    }\n",
              "\n",
              "    [theme=dark] .colab-df-convert {\n",
              "      background-color: #3B4455;\n",
              "      fill: #D2E3FC;\n",
              "    }\n",
              "\n",
              "    [theme=dark] .colab-df-convert:hover {\n",
              "      background-color: #434B5C;\n",
              "      box-shadow: 0px 1px 3px 1px rgba(0, 0, 0, 0.15);\n",
              "      filter: drop-shadow(0px 1px 2px rgba(0, 0, 0, 0.3));\n",
              "      fill: #FFFFFF;\n",
              "    }\n",
              "  </style>\n",
              "\n",
              "      <script>\n",
              "        const buttonEl =\n",
              "          document.querySelector('#df-c6f357b2-64e5-46f5-83ab-8bb4a3d755e3 button.colab-df-convert');\n",
              "        buttonEl.style.display =\n",
              "          google.colab.kernel.accessAllowed ? 'block' : 'none';\n",
              "\n",
              "        async function convertToInteractive(key) {\n",
              "          const element = document.querySelector('#df-c6f357b2-64e5-46f5-83ab-8bb4a3d755e3');\n",
              "          const dataTable =\n",
              "            await google.colab.kernel.invokeFunction('convertToInteractive',\n",
              "                                                     [key], {});\n",
              "          if (!dataTable) return;\n",
              "\n",
              "          const docLinkHtml = 'Like what you see? Visit the ' +\n",
              "            '<a target=\"_blank\" href=https://colab.research.google.com/notebooks/data_table.ipynb>data table notebook</a>'\n",
              "            + ' to learn more about interactive tables.';\n",
              "          element.innerHTML = '';\n",
              "          dataTable['output_type'] = 'display_data';\n",
              "          await google.colab.output.renderOutput(dataTable, element);\n",
              "          const docLink = document.createElement('div');\n",
              "          docLink.innerHTML = docLinkHtml;\n",
              "          element.appendChild(docLink);\n",
              "        }\n",
              "      </script>\n",
              "    </div>\n",
              "  </div>\n",
              "  "
            ]
          },
          "metadata": {},
          "execution_count": 9
        }
      ]
    },
    {
      "cell_type": "code",
      "source": [
        "datagen = ImageDataGenerator(rescale=1./255)\n",
        "\n",
        "train_generator = datagen.flow_from_dataframe(df_train, directory=path, x_col='filename', y_col='label', class_mode='categorical', shuffle=True)\n",
        "test_generator  = datagen.flow_from_dataframe(df_test,  directory=path, x_col='filename', y_col='label', class_mode='categorical', shuffle=True)\n",
        "valid_generator = datagen.flow_from_dataframe(df_valid, directory=path, x_col='filename', y_col='label', class_mode='categorical', shuffle=True)"
      ],
      "metadata": {
        "colab": {
          "base_uri": "https://localhost:8080/"
        },
        "id": "JYcO8HLJz14i",
        "outputId": "8625ba35-6273-4fbb-fdc4-f104a6e6eec5"
      },
      "execution_count": 10,
      "outputs": [
        {
          "output_type": "stream",
          "name": "stdout",
          "text": [
            "Found 2368 validated image filenames belonging to 3 classes.\n",
            "Found 356 validated image filenames belonging to 3 classes.\n",
            "Found 237 validated image filenames belonging to 3 classes.\n"
          ]
        }
      ]
    },
    {
      "cell_type": "code",
      "source": [
        "dim = (224,224,3)\n",
        "num_classes = 3"
      ],
      "metadata": {
        "id": "bvOECd6INbZE"
      },
      "execution_count": 11,
      "outputs": []
    },
    {
      "cell_type": "markdown",
      "source": [
        "## ResNet50 (com pré-treinamento)\n"
      ],
      "metadata": {
        "id": "oUPDXoF8DltU"
      }
    },
    {
      "cell_type": "code",
      "source": [
        "pre_trained_model = ResNet50(input_shape=dim,\n",
        "                             include_top=False,\n",
        "                             weights='imagenet',\n",
        "                             pooling='avg',\n",
        "                             classes=num_classes)\n",
        "\n",
        "for layer in pre_trained_model.layers:\n",
        "  layer.trainable = False\n",
        "\n",
        "model = Sequential([\n",
        "    pre_trained_model,\n",
        "    Flatten(),\n",
        "    Dense(units=4096,        activation='relu'),\n",
        "    Dense(units=num_classes, activation='softmax'),\n",
        "])"
      ],
      "metadata": {
        "id": "AWlNp2CoMH3-"
      },
      "execution_count": 12,
      "outputs": []
    },
    {
      "cell_type": "code",
      "source": [
        "model.summary()"
      ],
      "metadata": {
        "id": "U1CBmM4SUCXN"
      },
      "execution_count": null,
      "outputs": []
    },
    {
      "cell_type": "code",
      "source": [
        "sgd = SGD(learning_rate=0.0001)\n",
        "\n",
        "model.compile(optimizer=sgd, metrics=['accuracy'], loss='categorical_crossentropy')\n",
        "\n",
        "history_fine = model.fit(train_generator,\n",
        "          epochs=10,\n",
        "          batch_size=17,\n",
        "          validation_data=valid_generator)"
      ],
      "metadata": {
        "colab": {
          "base_uri": "https://localhost:8080/"
        },
        "id": "gwFxoMZJx74T",
        "outputId": "c1bfb9dc-c77b-442d-b519-3fd2254c68bf"
      },
      "execution_count": 14,
      "outputs": [
        {
          "output_type": "stream",
          "name": "stdout",
          "text": [
            "Epoch 1/10\n",
            "74/74 [==============================] - 30s 213ms/step - loss: 1.0860 - accuracy: 0.4780 - val_loss: 1.0437 - val_accuracy: 0.7595\n",
            "Epoch 2/10\n",
            "74/74 [==============================] - 14s 187ms/step - loss: 1.0113 - accuracy: 0.7420 - val_loss: 0.9853 - val_accuracy: 0.7806\n",
            "Epoch 3/10\n",
            "74/74 [==============================] - 13s 177ms/step - loss: 0.9572 - accuracy: 0.7796 - val_loss: 0.9432 - val_accuracy: 0.7722\n",
            "Epoch 4/10\n",
            "74/74 [==============================] - 13s 176ms/step - loss: 0.9150 - accuracy: 0.7956 - val_loss: 0.9062 - val_accuracy: 0.7932\n",
            "Epoch 5/10\n",
            "74/74 [==============================] - 14s 184ms/step - loss: 0.8819 - accuracy: 0.8041 - val_loss: 0.8773 - val_accuracy: 0.8059\n",
            "Epoch 6/10\n",
            "74/74 [==============================] - 14s 184ms/step - loss: 0.8528 - accuracy: 0.8095 - val_loss: 0.8509 - val_accuracy: 0.8101\n",
            "Epoch 7/10\n",
            "74/74 [==============================] - 17s 226ms/step - loss: 0.8293 - accuracy: 0.8171 - val_loss: 0.8324 - val_accuracy: 0.8143\n",
            "Epoch 8/10\n",
            "74/74 [==============================] - 14s 182ms/step - loss: 0.8086 - accuracy: 0.8201 - val_loss: 0.8108 - val_accuracy: 0.8186\n",
            "Epoch 9/10\n",
            "74/74 [==============================] - 13s 173ms/step - loss: 0.7907 - accuracy: 0.8252 - val_loss: 0.7939 - val_accuracy: 0.8312\n",
            "Epoch 10/10\n",
            "74/74 [==============================] - 13s 174ms/step - loss: 0.7742 - accuracy: 0.8256 - val_loss: 0.7835 - val_accuracy: 0.8270\n"
          ]
        }
      ]
    },
    {
      "cell_type": "code",
      "source": [
        "loss = history_fine.history['loss']\n",
        "val_loss = history_fine.history['val_loss']\n",
        "\n",
        "plt.plot(history_fine.history['loss'])\n",
        "plt.plot(history_fine.history['val_loss'])\n",
        "plt.title('model loss')\n",
        "plt.ylabel('loss')\n",
        "plt.xlabel('epoch')\n",
        "plt.legend(['training set','validation set'], loc='upper left')\n",
        "plt.show()"
      ],
      "metadata": {
        "colab": {
          "base_uri": "https://localhost:8080/",
          "height": 295
        },
        "id": "grzsywKlQJuY",
        "outputId": "1e7ee3d1-0296-463a-fc81-1cb3da684431"
      },
      "execution_count": 15,
      "outputs": [
        {
          "output_type": "display_data",
          "data": {
            "text/plain": [
              "<Figure size 432x288 with 1 Axes>"
            ],
            "image/png": "[encoded data removed]"
          },
          "metadata": {
            "needs_background": "light"
          }
        }
      ]
    },
    {
      "cell_type": "code",
      "source": [
        "y_prob = model.predict(test_generator)\n",
        "y_pred = np.argmax(y_prob,axis=1)"
      ],
      "metadata": {
        "id": "OIrjGzUqV-EY"
      },
      "execution_count": 16,
      "outputs": []
    },
    {
      "cell_type": "code",
      "source": [
        "y_test = test_generator.classes"
      ],
      "metadata": {
        "id": "eFd3RIi9WEm0"
      },
      "execution_count": 17,
      "outputs": []
    },
    {
      "cell_type": "code",
      "source": [
        "from sklearn.metrics import classification_report\n",
        "print(classification_report(y_test,y_pred))"
      ],
      "metadata": {
        "colab": {
          "base_uri": "https://localhost:8080/"
        },
        "id": "c1RVsio1WF1Y",
        "outputId": "fc5c8d3d-643b-430e-f97a-e57fcc2cfdbd"
      },
      "execution_count": 18,
      "outputs": [
        {
          "output_type": "stream",
          "name": "stdout",
          "text": [
            "              precision    recall  f1-score   support\n",
            "\n",
            "           0       0.34      0.34      0.34       123\n",
            "           1       0.30      0.38      0.34       109\n",
            "           2       0.45      0.35      0.40       124\n",
            "\n",
            "    accuracy                           0.36       356\n",
            "   macro avg       0.37      0.36      0.36       356\n",
            "weighted avg       0.37      0.36      0.36       356\n",
            "\n"
          ]
        }
      ]
    },
    {
      "cell_type": "markdown",
      "source": [
        "## AlexNet (sem pré-treinamento)"
      ],
      "metadata": {
        "id": "edUoQJxHEMjz"
      }
    },
    {
      "cell_type": "code",
      "source": [
        "alex_model = Sequential([\n",
        "    layers.experimental.preprocessing.Resizing(224,224,interpolation=\"bilinear\",input_shape=(224,224,3)),\n",
        "    Conv2D(kernel_size=(11, 11), filters=96, activation='relu', input_shape=dim, strides=(4,4)),\n",
        "    MaxPooling2D(pool_size=(3,3), strides=2),\n",
        "    BatchNormalization(),\n",
        "\n",
        "    Conv2D(kernel_size=(5,5),filters=256, activation='relu', strides=(1,1)),\n",
        "    MaxPooling2D(pool_size=(3,3), strides=2),\n",
        "    BatchNormalization(),\n",
        "\n",
        "    Conv2D(kernel_size=(3,3), filters=384, activation='relu', strides=(1,1)),\n",
        "    Conv2D(kernel_size=(3,3), filters=384, activation='relu', strides=(1,1)),\n",
        "    Conv2D(kernel_size=(3,3), filters=256, activation='relu', strides=(1,1)),\n",
        "    MaxPooling2D(pool_size=(3,3), strides=2),\n",
        "    Flatten(),\n",
        "    \n",
        "    Dense(units=4096,        activation='relu'),\n",
        "    Dense(units=4096,        activation='relu'),\n",
        "    Dense(units=num_classes, activation='softmax'),\n",
        "])"
      ],
      "metadata": {
        "id": "XKJtVRHDEWJi"
      },
      "execution_count": 19,
      "outputs": []
    },
    {
      "cell_type": "code",
      "source": [
        "alex_model.compile(optimizer=sgd, metrics=['accuracy'], loss='categorical_crossentropy')\n",
        "\n",
        "history_fine = alex_model.fit(train_generator,\n",
        "          epochs=25,\n",
        "          batch_size=17,\n",
        "          validation_data=valid_generator)"
      ],
      "metadata": {
        "colab": {
          "base_uri": "https://localhost:8080/"
        },
        "id": "gHGA30RrFJrg",
        "outputId": "65ecbf9b-2c7f-44ac-8a49-07ea1297ae67"
      },
      "execution_count": 20,
      "outputs": [
        {
          "output_type": "stream",
          "name": "stdout",
          "text": [
            "Epoch 1/25\n",
            "74/74 [==============================] - 14s 163ms/step - loss: 1.0651 - accuracy: 0.4726 - val_loss: 1.0975 - val_accuracy: 0.4219\n",
            "Epoch 2/25\n",
            "74/74 [==============================] - 11s 155ms/step - loss: 1.0141 - accuracy: 0.6039 - val_loss: 1.0953 - val_accuracy: 0.5021\n",
            "Epoch 3/25\n",
            "74/74 [==============================] - 12s 156ms/step - loss: 0.9744 - accuracy: 0.5595 - val_loss: 1.0883 - val_accuracy: 0.5401\n",
            "Epoch 4/25\n",
            "74/74 [==============================] - 12s 162ms/step - loss: 0.9450 - accuracy: 0.5642 - val_loss: 1.0743 - val_accuracy: 0.5696\n",
            "Epoch 5/25\n",
            "74/74 [==============================] - 12s 168ms/step - loss: 0.9210 - accuracy: 0.5705 - val_loss: 1.0492 - val_accuracy: 0.5865\n",
            "Epoch 6/25\n",
            "74/74 [==============================] - 12s 156ms/step - loss: 0.8991 - accuracy: 0.5997 - val_loss: 1.0094 - val_accuracy: 0.6624\n",
            "Epoch 7/25\n",
            "74/74 [==============================] - 12s 156ms/step - loss: 0.8766 - accuracy: 0.6208 - val_loss: 0.9596 - val_accuracy: 0.7089\n",
            "Epoch 8/25\n",
            "74/74 [==============================] - 12s 155ms/step - loss: 0.8583 - accuracy: 0.6546 - val_loss: 0.9107 - val_accuracy: 0.7511\n",
            "Epoch 9/25\n",
            "74/74 [==============================] - 16s 223ms/step - loss: 0.8373 - accuracy: 0.7023 - val_loss: 0.8717 - val_accuracy: 0.7384\n",
            "Epoch 10/25\n",
            "74/74 [==============================] - 12s 156ms/step - loss: 0.8177 - accuracy: 0.7475 - val_loss: 0.8426 - val_accuracy: 0.7426\n",
            "Epoch 11/25\n",
            "74/74 [==============================] - 14s 196ms/step - loss: 0.8008 - accuracy: 0.7745 - val_loss: 0.8188 - val_accuracy: 0.7553\n",
            "Epoch 12/25\n",
            "74/74 [==============================] - 12s 156ms/step - loss: 0.7776 - accuracy: 0.8011 - val_loss: 0.7977 - val_accuracy: 0.7679\n",
            "Epoch 13/25\n",
            "74/74 [==============================] - 12s 156ms/step - loss: 0.7576 - accuracy: 0.8163 - val_loss: 0.7768 - val_accuracy: 0.7932\n",
            "Epoch 14/25\n",
            "74/74 [==============================] - 12s 161ms/step - loss: 0.7378 - accuracy: 0.8193 - val_loss: 0.7562 - val_accuracy: 0.8059\n",
            "Epoch 15/25\n",
            "74/74 [==============================] - 12s 160ms/step - loss: 0.7174 - accuracy: 0.8231 - val_loss: 0.7374 - val_accuracy: 0.8101\n",
            "Epoch 16/25\n",
            "74/74 [==============================] - 12s 158ms/step - loss: 0.6959 - accuracy: 0.8214 - val_loss: 0.7171 - val_accuracy: 0.8059\n",
            "Epoch 17/25\n",
            "74/74 [==============================] - 12s 165ms/step - loss: 0.6788 - accuracy: 0.8243 - val_loss: 0.6978 - val_accuracy: 0.8059\n",
            "Epoch 18/25\n",
            "74/74 [==============================] - 12s 158ms/step - loss: 0.6574 - accuracy: 0.8222 - val_loss: 0.6802 - val_accuracy: 0.8101\n",
            "Epoch 19/25\n",
            "74/74 [==============================] - 12s 157ms/step - loss: 0.6374 - accuracy: 0.8235 - val_loss: 0.6626 - val_accuracy: 0.8101\n",
            "Epoch 20/25\n",
            "74/74 [==============================] - 12s 156ms/step - loss: 0.6238 - accuracy: 0.8252 - val_loss: 0.6456 - val_accuracy: 0.8059\n",
            "Epoch 21/25\n",
            "74/74 [==============================] - 12s 158ms/step - loss: 0.6100 - accuracy: 0.8214 - val_loss: 0.6292 - val_accuracy: 0.8059\n",
            "Epoch 22/25\n",
            "74/74 [==============================] - 12s 156ms/step - loss: 0.5901 - accuracy: 0.8239 - val_loss: 0.6137 - val_accuracy: 0.8059\n",
            "Epoch 23/25\n",
            "74/74 [==============================] - 12s 157ms/step - loss: 0.5765 - accuracy: 0.8247 - val_loss: 0.6002 - val_accuracy: 0.8101\n",
            "Epoch 24/25\n",
            "74/74 [==============================] - 13s 169ms/step - loss: 0.5617 - accuracy: 0.8260 - val_loss: 0.5880 - val_accuracy: 0.8101\n",
            "Epoch 25/25\n",
            "74/74 [==============================] - 12s 158ms/step - loss: 0.5497 - accuracy: 0.8209 - val_loss: 0.5772 - val_accuracy: 0.8143\n"
          ]
        }
      ]
    },
    {
      "cell_type": "code",
      "source": [
        "loss = history_fine.history['loss']\n",
        "val_loss = history_fine.history['val_loss']\n",
        "\n",
        "plt.plot(history_fine.history['loss'])\n",
        "plt.plot(history_fine.history['val_loss'])\n",
        "plt.title('model loss')\n",
        "plt.ylabel('loss')\n",
        "plt.xlabel('epoch')\n",
        "plt.legend(['training set','validation set'], loc='upper left')\n",
        "plt.show()"
      ],
      "metadata": {
        "colab": {
          "base_uri": "https://localhost:8080/",
          "height": 295
        },
        "id": "OQ9luWTZH-EL",
        "outputId": "20a1f211-75aa-4e79-bccd-fc8142732a15"
      },
      "execution_count": 21,
      "outputs": [
        {
          "output_type": "display_data",
          "data": {
            "text/plain": [
              "<Figure size 432x288 with 1 Axes>"
            ],
            "image/png": "[encoded data removed]"
          },
          "metadata": {
            "needs_background": "light"
          }
        }
      ]
    },
    {
      "cell_type": "code",
      "source": [
        "y_prob = model.predict(test_generator)\n",
        "y_pred = np.argmax(y_prob,axis=1)"
      ],
      "metadata": {
        "id": "mTcfubv4H-EM"
      },
      "execution_count": 22,
      "outputs": []
    },
    {
      "cell_type": "code",
      "source": [
        "y_test = test_generator.classes"
      ],
      "metadata": {
        "id": "mZMKrg8IH-EO"
      },
      "execution_count": 23,
      "outputs": []
    },
    {
      "cell_type": "code",
      "source": [
        "from sklearn.metrics import classification_report\n",
        "print(classification_report(y_test,y_pred))"
      ],
      "metadata": {
        "colab": {
          "base_uri": "https://localhost:8080/"
        },
        "id": "HGRk2emHH-EO",
        "outputId": "b0c31d3e-df22-4344-8ba5-e4a56d96be44"
      },
      "execution_count": 24,
      "outputs": [
        {
          "output_type": "stream",
          "name": "stdout",
          "text": [
            "              precision    recall  f1-score   support\n",
            "\n",
            "           0       0.36      0.37      0.36       123\n",
            "           1       0.31      0.39      0.34       109\n",
            "           2       0.39      0.31      0.34       124\n",
            "\n",
            "    accuracy                           0.35       356\n",
            "   macro avg       0.36      0.35      0.35       356\n",
            "weighted avg       0.36      0.35      0.35       356\n",
            "\n"
          ]
        }
      ]
    },
    {
      "cell_type": "markdown",
      "source": [
        "## ResNet50 (sem pré-treinamento)"
      ],
      "metadata": {
        "id": "1PYk4mofIMlw"
      }
    },
    {
      "cell_type": "code",
      "source": [
        "resnet_model = ResNet50(input_shape=dim,\n",
        "                  include_top=True,\n",
        "                  weights=None, # <- Inicia os pesos da rede de forma aleatória\n",
        "                  pooling='avg',\n",
        "                  classes=num_classes)"
      ],
      "metadata": {
        "id": "64ElQiNZIU8c"
      },
      "execution_count": 31,
      "outputs": []
    },
    {
      "cell_type": "code",
      "source": [
        "resnet_model.summary()"
      ],
      "metadata": {
        "id": "6rYyI4q5PRn2"
      },
      "execution_count": null,
      "outputs": []
    },
    {
      "cell_type": "code",
      "source": [
        "resnet_model.compile(optimizer=sgd, metrics=['accuracy'], loss='categorical_crossentropy')\n",
        "\n",
        "history_fine = resnet_model.fit(train_generator,\n",
        "          epochs=20,\n",
        "          batch_size=17,\n",
        "          validation_data=valid_generator)"
      ],
      "metadata": {
        "colab": {
          "base_uri": "https://localhost:8080/"
        },
        "id": "63oBsgj1ItwV",
        "outputId": "21f804d6-1aaf-4875-841d-cf14c2ad4af4"
      },
      "execution_count": 33,
      "outputs": [
        {
          "output_type": "stream",
          "name": "stdout",
          "text": [
            "Epoch 1/20\n",
            "74/74 [==============================] - 41s 472ms/step - loss: 0.8223 - accuracy: 0.6195 - val_loss: 1.1087 - val_accuracy: 0.3671\n",
            "Epoch 2/20\n",
            "74/74 [==============================] - 34s 452ms/step - loss: 0.6224 - accuracy: 0.7614 - val_loss: 1.2637 - val_accuracy: 0.3671\n",
            "Epoch 3/20\n",
            "74/74 [==============================] - 33s 449ms/step - loss: 0.5878 - accuracy: 0.7715 - val_loss: 1.5679 - val_accuracy: 0.3671\n",
            "Epoch 4/20\n",
            "74/74 [==============================] - 34s 456ms/step - loss: 0.5706 - accuracy: 0.7749 - val_loss: 1.5749 - val_accuracy: 0.3671\n",
            "Epoch 5/20\n",
            "74/74 [==============================] - 33s 448ms/step - loss: 0.5624 - accuracy: 0.7846 - val_loss: 1.3183 - val_accuracy: 0.3671\n",
            "Epoch 6/20\n",
            "74/74 [==============================] - 33s 449ms/step - loss: 0.5523 - accuracy: 0.7876 - val_loss: 1.1730 - val_accuracy: 0.2363\n",
            "Epoch 7/20\n",
            "74/74 [==============================] - 33s 447ms/step - loss: 0.5411 - accuracy: 0.7905 - val_loss: 0.9428 - val_accuracy: 0.5865\n",
            "Epoch 8/20\n",
            "74/74 [==============================] - 33s 446ms/step - loss: 0.5403 - accuracy: 0.7910 - val_loss: 0.9391 - val_accuracy: 0.4177\n",
            "Epoch 9/20\n",
            "74/74 [==============================] - 33s 448ms/step - loss: 0.5209 - accuracy: 0.7939 - val_loss: 1.0004 - val_accuracy: 0.4768\n",
            "Epoch 10/20\n",
            "74/74 [==============================] - 33s 447ms/step - loss: 0.5317 - accuracy: 0.7910 - val_loss: 0.9495 - val_accuracy: 0.5105\n",
            "Epoch 11/20\n",
            "74/74 [==============================] - 33s 448ms/step - loss: 0.5272 - accuracy: 0.7986 - val_loss: 1.0060 - val_accuracy: 0.5190\n",
            "Epoch 12/20\n",
            "74/74 [==============================] - 33s 447ms/step - loss: 0.5288 - accuracy: 0.7922 - val_loss: 1.1032 - val_accuracy: 0.5148\n",
            "Epoch 13/20\n",
            "74/74 [==============================] - 33s 448ms/step - loss: 0.5252 - accuracy: 0.7960 - val_loss: 0.9682 - val_accuracy: 0.5148\n",
            "Epoch 14/20\n",
            "74/74 [==============================] - 33s 446ms/step - loss: 0.5152 - accuracy: 0.7935 - val_loss: 0.7780 - val_accuracy: 0.6456\n",
            "Epoch 15/20\n",
            "74/74 [==============================] - 33s 449ms/step - loss: 0.5127 - accuracy: 0.7998 - val_loss: 0.8819 - val_accuracy: 0.5232\n",
            "Epoch 16/20\n",
            "74/74 [==============================] - 33s 448ms/step - loss: 0.5158 - accuracy: 0.7969 - val_loss: 0.8009 - val_accuracy: 0.6245\n",
            "Epoch 17/20\n",
            "74/74 [==============================] - 33s 446ms/step - loss: 0.5122 - accuracy: 0.7990 - val_loss: 0.7259 - val_accuracy: 0.7342\n",
            "Epoch 18/20\n",
            "74/74 [==============================] - 33s 446ms/step - loss: 0.5127 - accuracy: 0.8007 - val_loss: 0.8434 - val_accuracy: 0.5527\n",
            "Epoch 19/20\n",
            "74/74 [==============================] - 33s 446ms/step - loss: 0.5050 - accuracy: 0.7994 - val_loss: 0.7537 - val_accuracy: 0.6793\n",
            "Epoch 20/20\n",
            "74/74 [==============================] - 33s 447ms/step - loss: 0.5051 - accuracy: 0.8053 - val_loss: 1.1617 - val_accuracy: 0.5063\n"
          ]
        }
      ]
    },
    {
      "cell_type": "code",
      "source": [
        "loss = history_fine.history['loss']\n",
        "val_loss = history_fine.history['val_loss']\n",
        "\n",
        "plt.plot(history_fine.history['loss'])\n",
        "plt.plot(history_fine.history['val_loss'])\n",
        "plt.title('model loss')\n",
        "plt.ylabel('loss')\n",
        "plt.xlabel('epoch')\n",
        "plt.legend(['training set','validation set'], loc='upper left')\n",
        "plt.show()"
      ],
      "metadata": {
        "colab": {
          "base_uri": "https://localhost:8080/",
          "height": 295
        },
        "id": "HfdI2nJrJA4c",
        "outputId": "34cc2d2f-a627-4e98-8535-8a7f88d158f9"
      },
      "execution_count": 34,
      "outputs": [
        {
          "output_type": "display_data",
          "data": {
            "text/plain": [
              "<Figure size 432x288 with 1 Axes>"
            ],
            "image/png": "[encoded data removed]"
          },
          "metadata": {
            "needs_background": "light"
          }
        }
      ]
    },
    {
      "cell_type": "code",
      "source": [
        "y_prob = model.predict(test_generator)\n",
        "y_pred = np.argmax(y_prob,axis=1)"
      ],
      "metadata": {
        "id": "0PPKfX71JA4d"
      },
      "execution_count": 35,
      "outputs": []
    },
    {
      "cell_type": "code",
      "source": [
        "y_test = test_generator.classes"
      ],
      "metadata": {
        "id": "uhDczCDhJA4f"
      },
      "execution_count": 36,
      "outputs": []
    },
    {
      "cell_type": "code",
      "source": [
        "from sklearn.metrics import classification_report\n",
        "print(classification_report(y_test,y_pred))"
      ],
      "metadata": {
        "colab": {
          "base_uri": "https://localhost:8080/"
        },
        "id": "s7oCrXDJJA4f",
        "outputId": "93fd8323-37fc-429d-c125-15dfa8728d81"
      },
      "execution_count": 37,
      "outputs": [
        {
          "output_type": "stream",
          "name": "stdout",
          "text": [
            "              precision    recall  f1-score   support\n",
            "\n",
            "           0       0.35      0.35      0.35       123\n",
            "           1       0.32      0.39      0.35       109\n",
            "           2       0.31      0.24      0.27       124\n",
            "\n",
            "    accuracy                           0.33       356\n",
            "   macro avg       0.32      0.33      0.32       356\n",
            "weighted avg       0.33      0.33      0.32       356\n",
            "\n"
          ]
        }
      ]
    },
    {
      "cell_type": "markdown",
      "source": [
        "As 3 f1-scores foram baixas, o que pode indicar over-fitting, ou under-fitting. Infelizmente, não consegui verificar qual o caso de cada uma a tempo."
      ],
      "metadata": {
        "id": "9za1D07eLaPo"
      }
    },
    {
      "cell_type": "markdown",
      "source": [
        "# Extração de Caracteres dos Documentos"
      ],
      "metadata": {
        "id": "0oSYvwkyX3-m"
      }
    },
    {
      "cell_type": "markdown",
      "source": [
        "Abaixo, a extração dos caracteres das imagens é feita. Infelizmente, devido ao tempo, não consegui terminar a parte a tempo (a extração dos dados leva muito tempo, o que acabou impedindo a sua execução)."
      ],
      "metadata": {
        "id": "WNWedrt8oMDx"
      }
    },
    {
      "cell_type": "code",
      "source": [
        "import pytesseract\n",
        "from PIL import Image"
      ],
      "metadata": {
        "id": "F6ZOxHIfrBAz"
      },
      "execution_count": 28,
      "outputs": []
    },
    {
      "cell_type": "code",
      "source": [
        "dict_texts = dict()\n",
        "\n",
        "dfs = [df_train, df_test, df_valid]\n",
        "\n",
        "path = 'documents'\n",
        "\n",
        "for df in dfs:\n",
        "  for i, doc_path in enumerate(df['filename']):\n",
        "    full_path = f'{path}/{doc_path}'\n",
        "    dict_texts[doc_path] = pytesseract.image_to_string(Image.open(full_path))\n",
        "\n",
        "dict_texts"
      ],
      "metadata": {
        "id": "YuacmqCqtx3i"
      },
      "execution_count": null,
      "outputs": []
    },
    {
      "cell_type": "code",
      "source": [
        "df_text = pd.DataFrame(dict_texts, columns=['filename', 'Text'])"
      ],
      "metadata": {
        "id": "Mm4sAF-1uqGy"
      },
      "execution_count": null,
      "outputs": []
    },
    {
      "cell_type": "code",
      "source": [
        "df_text"
      ],
      "metadata": {
        "id": "X7iFCTHeHSN4"
      },
      "execution_count": null,
      "outputs": []
    }
  ]
}