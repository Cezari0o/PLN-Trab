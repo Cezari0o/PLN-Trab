{
  "nbformat": 4,
  "nbformat_minor": 0,
  "metadata": {
    "colab": {
      "name": "Atividade3_PLN.ipynb",
      "provenance": [],
      "collapsed_sections": [],
      "authorship_tag": "ABX9TyMl0rpOVGfn0ymQEwamzHZA",
      "include_colab_link": true
    },
    "kernelspec": {
      "name": "python3",
      "display_name": "Python 3"
    },
    "language_info": {
      "name": "python"
    }
  },
  "cells": [
    {
      "cell_type": "markdown",
      "metadata": {
        "id": "view-in-github",
        "colab_type": "text"
      },
      "source": [
        "<a href=\"https://colab.research.google.com/github/Cezari0o/PLN-Trab/blob/main/a3/Atividade3_PLN.ipynb\" target=\"_parent\"><img src=\"https://colab.research.google.com/assets/colab-badge.svg\" alt=\"Open In Colab\"/></a>"
      ]
    },
    {
      "cell_type": "markdown",
      "source": [
        "# Atividade 3\n",
        "Feito por Gabriel Cesário Silva Martins - 180100912"
      ],
      "metadata": {
        "id": "xOZHgXF9ZpAP"
      }
    },
    {
      "cell_type": "markdown",
      "source": [
        "## Recuperando o corpus de notícias"
      ],
      "metadata": {
        "id": "fUBoavsnZ6UN"
      }
    },
    {
      "cell_type": "code",
      "execution_count": 1,
      "metadata": {
        "colab": {
          "base_uri": "https://localhost:8080/"
        },
        "id": "beE9UT4ZYUc5",
        "outputId": "b6158020-d4d5-4430-8370-a63c3290e4a5"
      },
      "outputs": [
        {
          "output_type": "stream",
          "name": "stderr",
          "text": [
            "[nltk_data] Downloading package reuters to /root/nltk_data...\n",
            "[nltk_data]   Package reuters is already up-to-date!\n"
          ]
        },
        {
          "output_type": "stream",
          "name": "stdout",
          "text": [
            "Reuters has 90 categories:\n",
            "['acq', 'alum', 'barley', 'bop', 'carcass', 'castor-oil', 'cocoa', 'coconut', 'coconut-oil', 'coffee', 'copper', 'copra-cake', 'corn', 'cotton', 'cotton-oil', 'cpi', 'cpu', 'crude', 'dfl', 'dlr', 'dmk', 'earn', 'fuel', 'gas', 'gnp', 'gold', 'grain', 'groundnut', 'groundnut-oil', 'heat', 'hog', 'housing', 'income', 'instal-debt', 'interest', 'ipi', 'iron-steel', 'jet', 'jobs', 'l-cattle', 'lead', 'lei', 'lin-oil', 'livestock', 'lumber', 'meal-feed', 'money-fx', 'money-supply', 'naphtha', 'nat-gas', 'nickel', 'nkr', 'nzdlr', 'oat', 'oilseed', 'orange', 'palladium', 'palm-oil', 'palmkernel', 'pet-chem', 'platinum', 'potato', 'propane', 'rand', 'rape-oil', 'rapeseed', 'reserves', 'retail', 'rice', 'rubber', 'rye', 'ship', 'silver', 'sorghum', 'soy-meal', 'soy-oil', 'soybean', 'strategic-metal', 'sugar', 'sun-meal', 'sun-oil', 'sunseed', 'tea', 'tin', 'trade', 'veg-oil', 'wheat', 'wpi', 'yen', 'zinc']\n"
          ]
        }
      ],
      "source": [
        "import nltk\n",
        "import pandas as pd\n",
        "\n",
        "nltk.download('reuters')\n",
        "from nltk.corpus import reuters\n",
        "\n",
        "cats = reuters.categories()\n",
        "print(\"Reuters has %d categories:\\n%s\" % (len(cats), cats))\n",
        "\n",
        "fileids = reuters.fileids()"
      ]
    },
    {
      "cell_type": "code",
      "source": [
        "categories = []\n",
        "text = []\n",
        "\n",
        "for file in fileids:\n",
        "    categories.append(reuters.categories(file))\n",
        "    text.append(reuters.raw(file))\n",
        "\n",
        "df = pd.DataFrame({'ids':fileids, 'categories':categories, 'text':text})"
      ],
      "metadata": {
        "id": "2G-Ft2kmZIQ0"
      },
      "execution_count": 2,
      "outputs": []
    },
    {
      "cell_type": "code",
      "source": [
        "df"
      ],
      "metadata": {
        "colab": {
          "base_uri": "https://localhost:8080/",
          "height": 424
        },
        "id": "ThCsbM_kZmj3",
        "outputId": "6e25217a-ccbf-4f77-f07d-9cd97f40ea67"
      },
      "execution_count": 3,
      "outputs": [
        {
          "output_type": "execute_result",
          "data": {
            "text/plain": [
              "                 ids                                      categories  \\\n",
              "0         test/14826                                         [trade]   \n",
              "1         test/14828                                         [grain]   \n",
              "2         test/14829                                [crude, nat-gas]   \n",
              "3         test/14832  [corn, grain, rice, rubber, sugar, tin, trade]   \n",
              "4         test/14833                             [palm-oil, veg-oil]   \n",
              "...              ...                                             ...   \n",
              "10783   training/999                            [interest, money-fx]   \n",
              "10784  training/9992                                          [earn]   \n",
              "10785  training/9993                                          [earn]   \n",
              "10786  training/9994                                          [earn]   \n",
              "10787  training/9995                                          [earn]   \n",
              "\n",
              "                                                    text  \n",
              "0      ASIAN EXPORTERS FEAR DAMAGE FROM U.S.-JAPAN RI...  \n",
              "1      CHINA DAILY SAYS VERMIN EAT 7-12 PCT GRAIN STO...  \n",
              "2      JAPAN TO REVISE LONG-TERM ENERGY DEMAND DOWNWA...  \n",
              "3      THAI TRADE DEFICIT WIDENS IN FIRST QUARTER\\n  ...  \n",
              "4      INDONESIA SEES CPO PRICE RISING SHARPLY\\n  Ind...  \n",
              "...                                                  ...  \n",
              "10783  U.K. MONEY MARKET SHORTAGE FORECAST REVISED DO...  \n",
              "10784  KNIGHT-RIDDER INC &lt;KRN> SETS QUARTERLY\\n  Q...  \n",
              "10785  TECHNITROL INC &lt;TNL> SETS QUARTERLY\\n  Qtly...  \n",
              "10786  NATIONWIDE CELLULAR SERVICE INC &lt;NCEL> 4TH ...  \n",
              "10787  &lt;A.H.A. AUTOMOTIVE TECHNOLOGIES CORP> YEAR ...  \n",
              "\n",
              "[10788 rows x 3 columns]"
            ],
            "text/html": [
              "\n",
              "  <div id=\"df-3e34de98-7ce1-4235-ba0b-984e851199c4\">\n",
              "    <div class=\"colab-df-container\">\n",
              "      <div>\n",
              "<style scoped>\n",
              "    .dataframe tbody tr th:only-of-type {\n",
              "        vertical-align: middle;\n",
              "    }\n",
              "\n",
              "    .dataframe tbody tr th {\n",
              "        vertical-align: top;\n",
              "    }\n",
              "\n",
              "    .dataframe thead th {\n",
              "        text-align: right;\n",
              "    }\n",
              "</style>\n",
              "<table border=\"1\" class=\"dataframe\">\n",
              "  <thead>\n",
              "    <tr style=\"text-align: right;\">\n",
              "      <th></th>\n",
              "      <th>ids</th>\n",
              "      <th>categories</th>\n",
              "      <th>text</th>\n",
              "    </tr>\n",
              "  </thead>\n",
              "  <tbody>\n",
              "    <tr>\n",
              "      <th>0</th>\n",
              "      <td>test/14826</td>\n",
              "      <td>[trade]</td>\n",
              "      <td>ASIAN EXPORTERS FEAR DAMAGE FROM U.S.-JAPAN RI...</td>\n",
              "    </tr>\n",
              "    <tr>\n",
              "      <th>1</th>\n",
              "      <td>test/14828</td>\n",
              "      <td>[grain]</td>\n",
              "      <td>CHINA DAILY SAYS VERMIN EAT 7-12 PCT GRAIN STO...</td>\n",
              "    </tr>\n",
              "    <tr>\n",
              "      <th>2</th>\n",
              "      <td>test/14829</td>\n",
              "      <td>[crude, nat-gas]</td>\n",
              "      <td>JAPAN TO REVISE LONG-TERM ENERGY DEMAND DOWNWA...</td>\n",
              "    </tr>\n",
              "    <tr>\n",
              "      <th>3</th>\n",
              "      <td>test/14832</td>\n",
              "      <td>[corn, grain, rice, rubber, sugar, tin, trade]</td>\n",
              "      <td>THAI TRADE DEFICIT WIDENS IN FIRST QUARTER\\n  ...</td>\n",
              "    </tr>\n",
              "    <tr>\n",
              "      <th>4</th>\n",
              "      <td>test/14833</td>\n",
              "      <td>[palm-oil, veg-oil]</td>\n",
              "      <td>INDONESIA SEES CPO PRICE RISING SHARPLY\\n  Ind...</td>\n",
              "    </tr>\n",
              "    <tr>\n",
              "      <th>...</th>\n",
              "      <td>...</td>\n",
              "      <td>...</td>\n",
              "      <td>...</td>\n",
              "    </tr>\n",
              "    <tr>\n",
              "      <th>10783</th>\n",
              "      <td>training/999</td>\n",
              "      <td>[interest, money-fx]</td>\n",
              "      <td>U.K. MONEY MARKET SHORTAGE FORECAST REVISED DO...</td>\n",
              "    </tr>\n",
              "    <tr>\n",
              "      <th>10784</th>\n",
              "      <td>training/9992</td>\n",
              "      <td>[earn]</td>\n",
              "      <td>KNIGHT-RIDDER INC &amp;lt;KRN&gt; SETS QUARTERLY\\n  Q...</td>\n",
              "    </tr>\n",
              "    <tr>\n",
              "      <th>10785</th>\n",
              "      <td>training/9993</td>\n",
              "      <td>[earn]</td>\n",
              "      <td>TECHNITROL INC &amp;lt;TNL&gt; SETS QUARTERLY\\n  Qtly...</td>\n",
              "    </tr>\n",
              "    <tr>\n",
              "      <th>10786</th>\n",
              "      <td>training/9994</td>\n",
              "      <td>[earn]</td>\n",
              "      <td>NATIONWIDE CELLULAR SERVICE INC &amp;lt;NCEL&gt; 4TH ...</td>\n",
              "    </tr>\n",
              "    <tr>\n",
              "      <th>10787</th>\n",
              "      <td>training/9995</td>\n",
              "      <td>[earn]</td>\n",
              "      <td>&amp;lt;A.H.A. AUTOMOTIVE TECHNOLOGIES CORP&gt; YEAR ...</td>\n",
              "    </tr>\n",
              "  </tbody>\n",
              "</table>\n",
              "<p>10788 rows × 3 columns</p>\n",
              "</div>\n",
              "      <button class=\"colab-df-convert\" onclick=\"convertToInteractive('df-3e34de98-7ce1-4235-ba0b-984e851199c4')\"\n",
              "              title=\"Convert this dataframe to an interactive table.\"\n",
              "              style=\"display:none;\">\n",
              "        \n",
              "  <svg xmlns=\"http://www.w3.org/2000/svg\" height=\"24px\"viewBox=\"0 0 24 24\"\n",
              "       width=\"24px\">\n",
              "    <path d=\"M0 0h24v24H0V0z\" fill=\"none\"/>\n",
              "    <path d=\"M18.56 5.44l.94 2.06.94-2.06 2.06-.94-2.06-.94-.94-2.06-.94 2.06-2.06.94zm-11 1L8.5 8.5l.94-2.06 2.06-.94-2.06-.94L8.5 2.5l-.94 2.06-2.06.94zm10 10l.94 2.06.94-2.06 2.06-.94-2.06-.94-.94-2.06-.94 2.06-2.06.94z\"/><path d=\"M17.41 7.96l-1.37-1.37c-.4-.4-.92-.59-1.43-.59-.52 0-1.04.2-1.43.59L10.3 9.45l-7.72 7.72c-.78.78-.78 2.05 0 2.83L4 21.41c.39.39.9.59 1.41.59.51 0 1.02-.2 1.41-.59l7.78-7.78 2.81-2.81c.8-.78.8-2.07 0-2.86zM5.41 20L4 18.59l7.72-7.72 1.47 1.35L5.41 20z\"/>\n",
              "  </svg>\n",
              "      </button>\n",
              "      \n",
              "  <style>\n",
              "    .colab-df-container {\n",
              "      display:flex;\n",
              "      flex-wrap:wrap;\n",
              "      gap: 12px;\n",
              "    }\n",
              "\n",
              "    .colab-df-convert {\n",
              "      background-color: #E8F0FE;\n",
              "      border: none;\n",
              "      border-radius: 50%;\n",
              "      cursor: pointer;\n",
              "      display: none;\n",
              "      fill: #1967D2;\n",
              "      height: 32px;\n",
              "      padding: 0 0 0 0;\n",
              "      width: 32px;\n",
              "    }\n",
              "\n",
              "    .colab-df-convert:hover {\n",
              "      background-color: #E2EBFA;\n",
              "      box-shadow: 0px 1px 2px rgba(60, 64, 67, 0.3), 0px 1px 3px 1px rgba(60, 64, 67, 0.15);\n",
              "      fill: #174EA6;\n",
              "    }\n",
              "\n",
              "    [theme=dark] .colab-df-convert {\n",
              "      background-color: #3B4455;\n",
              "      fill: #D2E3FC;\n",
              "    }\n",
              "\n",
              "    [theme=dark] .colab-df-convert:hover {\n",
              "      background-color: #434B5C;\n",
              "      box-shadow: 0px 1px 3px 1px rgba(0, 0, 0, 0.15);\n",
              "      filter: drop-shadow(0px 1px 2px rgba(0, 0, 0, 0.3));\n",
              "      fill: #FFFFFF;\n",
              "    }\n",
              "  </style>\n",
              "\n",
              "      <script>\n",
              "        const buttonEl =\n",
              "          document.querySelector('#df-3e34de98-7ce1-4235-ba0b-984e851199c4 button.colab-df-convert');\n",
              "        buttonEl.style.display =\n",
              "          google.colab.kernel.accessAllowed ? 'block' : 'none';\n",
              "\n",
              "        async function convertToInteractive(key) {\n",
              "          const element = document.querySelector('#df-3e34de98-7ce1-4235-ba0b-984e851199c4');\n",
              "          const dataTable =\n",
              "            await google.colab.kernel.invokeFunction('convertToInteractive',\n",
              "                                                     [key], {});\n",
              "          if (!dataTable) return;\n",
              "\n",
              "          const docLinkHtml = 'Like what you see? Visit the ' +\n",
              "            '<a target=\"_blank\" href=https://colab.research.google.com/notebooks/data_table.ipynb>data table notebook</a>'\n",
              "            + ' to learn more about interactive tables.';\n",
              "          element.innerHTML = '';\n",
              "          dataTable['output_type'] = 'display_data';\n",
              "          await google.colab.output.renderOutput(dataTable, element);\n",
              "          const docLink = document.createElement('div');\n",
              "          docLink.innerHTML = docLinkHtml;\n",
              "          element.appendChild(docLink);\n",
              "        }\n",
              "      </script>\n",
              "    </div>\n",
              "  </div>\n",
              "  "
            ]
          },
          "metadata": {},
          "execution_count": 3
        }
      ]
    },
    {
      "cell_type": "markdown",
      "source": [
        "## Funções de Suporte"
      ],
      "metadata": {
        "id": "6Fiu1fd6bHL_"
      }
    },
    {
      "cell_type": "code",
      "source": [
        "import re\n",
        "\n",
        "def preprocessing(text):\n",
        "    t = re.sub(r'#','',text)\n",
        "    t = t.lower()\n",
        "    t = re.sub(r'[\\,\\.\\'\\$\\!/\"\\(\\)\\-<>]+',' ',t)\n",
        "    t = re.sub(r'\\\\u2019', '\\'', t)\n",
        "    t = re.sub(r'\\\\u002c', ',', t)\n",
        "    t = re.sub(r'&lt;', ' ', t)\n",
        "    t = re.sub(r':\\)','happy', t)\n",
        "    \n",
        "    return t"
      ],
      "metadata": {
        "id": "glYq0By_bJ0w"
      },
      "execution_count": 4,
      "outputs": []
    },
    {
      "cell_type": "code",
      "source": [
        "def calc_prod_interno(b1: dict, b2: dict):\n",
        "  prod_interno = 0\n",
        "\n",
        "  for w in b1.keys():\n",
        "    if w in b2:\n",
        "      prod_interno += b1[w] * b2[w]\n",
        "\n",
        "  return prod_interno"
      ],
      "metadata": {
        "id": "zm8NxAzpm9xD"
      },
      "execution_count": 5,
      "outputs": []
    },
    {
      "cell_type": "code",
      "source": [
        "def calc_norma(v: dict):\n",
        "  norma = 0\n",
        "\n",
        "  for n in v:\n",
        "    norma += v[n]**2\n",
        "  norma = norma**0.5\n",
        "\n",
        "  return norma"
      ],
      "metadata": {
        "id": "T51C-s9Hp8uM"
      },
      "execution_count": 6,
      "outputs": []
    },
    {
      "cell_type": "code",
      "source": [
        "def cos_dissimilarity(v1: dict, v2: dict):\n",
        "\n",
        "  pi = calc_prod_interno(v1, v2)\n",
        "  \n",
        "  return pi / (calc_norma(v1)*calc_norma(v2))"
      ],
      "metadata": {
        "id": "1LeUg0lkjaUU"
      },
      "execution_count": 7,
      "outputs": []
    },
    {
      "cell_type": "markdown",
      "source": [
        "## Preparando a execução"
      ],
      "metadata": {
        "id": "SWRZ36odaj7_"
      }
    },
    {
      "cell_type": "markdown",
      "source": [
        "### Criando bag of words\n",
        "\n",
        "E também o vocabulário do corpus."
      ],
      "metadata": {
        "id": "jiimfvwDyozI"
      }
    },
    {
      "cell_type": "code",
      "source": [
        "vocab = set()\n",
        "\n",
        "for txt in df['text']:\n",
        "    txt = preprocessing(txt)\n",
        "\n",
        "    for term in txt.split():\n",
        "        vocab.add(term)\n",
        "\n",
        "vocab = sorted(vocab)\n",
        "print(len(vocab))"
      ],
      "metadata": {
        "colab": {
          "base_uri": "https://localhost:8080/"
        },
        "id": "0B0SC7tWfmDw",
        "outputId": "8f508634-4d25-4084-a835-86860ca69def"
      },
      "execution_count": 8,
      "outputs": [
        {
          "output_type": "stream",
          "name": "stdout",
          "text": [
            "31150\n"
          ]
        }
      ]
    },
    {
      "cell_type": "markdown",
      "source": [
        "Bag of words ponderado"
      ],
      "metadata": {
        "id": "S19PybbbsEQC"
      }
    },
    {
      "cell_type": "code",
      "source": [
        "bow_pond = {}\n",
        "quant_words = {}\n",
        "\n",
        "for idx, linha in df.iterrows():\n",
        "\n",
        "  frase = linha['text']\n",
        "  doc = linha['ids']\n",
        "  bow_pond[doc] = dict()\n",
        "\n",
        "  frase = preprocessing(frase)\n",
        "  quant_words[doc] = len(frase.split())\n",
        "\n",
        "  for w in frase.split():\n",
        "    if w in bow_pond[doc]:\n",
        "      bow_pond[doc][w] += 1\n",
        "    else:\n",
        "      bow_pond[doc][w] = 1\n",
        "\n",
        "for doc in bow_pond:\n",
        "  for w in bow_pond[doc]:\n",
        "    bow_pond[doc][w] /= quant_words[doc]\n"
      ],
      "metadata": {
        "id": "fqMDo5FsoyRM"
      },
      "execution_count": 9,
      "outputs": []
    },
    {
      "cell_type": "markdown",
      "source": [
        "Bag of words de contagem"
      ],
      "metadata": {
        "id": "KCyvU8_xsMni"
      }
    },
    {
      "cell_type": "code",
      "source": [
        "bow_cont = {}\n",
        "\n",
        "for idx, linha in df.iterrows():\n",
        "\n",
        "  frase = linha['text']\n",
        "  doc = linha['ids']\n",
        "  bow_cont[doc] = dict()\n",
        "\n",
        "  frase = preprocessing(frase)\n",
        "  for w in frase.split():\n",
        "    if w in bow_cont[doc]:\n",
        "      bow_cont[doc][w] += 1\n",
        "    else:\n",
        "      bow_cont[doc][w] = 1"
      ],
      "metadata": {
        "id": "4bdUWag1re8W"
      },
      "execution_count": 10,
      "outputs": []
    },
    {
      "cell_type": "markdown",
      "source": [
        "Índice de frequência"
      ],
      "metadata": {
        "id": "BCtnL79lsPpp"
      }
    },
    {
      "cell_type": "code",
      "source": [
        "idf = {}\n",
        "\n",
        "for word in vocab:\n",
        "    idf[word] = 0\n",
        "    for doc in bow_cont:\n",
        "        if word in bow_cont[doc]:\n",
        "            idf[word] += 1\n",
        "\n",
        "from math import log\n",
        "\n",
        "for w in idf:\n",
        "  idf[w] = log(len(df)/idf[w])"
      ],
      "metadata": {
        "id": "W_1NqvJfrAhQ"
      },
      "execution_count": null,
      "outputs": []
    },
    {
      "cell_type": "markdown",
      "source": [
        "Obtendo o dicionario tf-idf"
      ],
      "metadata": {
        "id": "zEXkV-uVsfHB"
      }
    },
    {
      "cell_type": "code",
      "source": [
        "bow_tfidf = {}\n",
        "\n",
        "for doc in bow_pond:\n",
        "  bow_tfidf[doc] = {}\n",
        "  for w in bow_pond[doc]:\n",
        "    bow_tfidf[doc][w] = bow_pond[doc][w] * idf[w]\n",
        "\n",
        "# bow_tfidf"
      ],
      "metadata": {
        "id": "Q8etj3StwbVF"
      },
      "execution_count": null,
      "outputs": []
    },
    {
      "cell_type": "markdown",
      "source": [
        "Bag of words binário"
      ],
      "metadata": {
        "id": "yMhinedKszXi"
      }
    },
    {
      "cell_type": "code",
      "source": [
        "bow_bin = dict()\n",
        "\n",
        "i = 0\n",
        "for idx, linha in df.iterrows():\n",
        "\n",
        "  frase = linha['text']\n",
        "  doc = linha['ids']\n",
        "  i += 1\n",
        "  bow_bin[doc] = dict()\n",
        "\n",
        "  frase = preprocessing(frase)\n",
        "  for w in frase.split():\n",
        "    bow_bin[doc][w] = 1\n",
        "\n",
        "# bow_bin"
      ],
      "metadata": {
        "id": "k07xS29yw8LU"
      },
      "execution_count": null,
      "outputs": []
    },
    {
      "cell_type": "markdown",
      "source": [
        "### Ranking de similaridade\n",
        "\n",
        "Criando o ranking para cada notícia."
      ],
      "metadata": {
        "id": "rKm-fUszzWNi"
      }
    },
    {
      "cell_type": "markdown",
      "source": [
        "A função abaixo recebe um bag of words e um limite de documentos. Basicamente, a função fará o calculo da similaridade cosseno de um texto para todos os outros no dataset, assim fazendo o ranqueamento dos mais similares. "
      ],
      "metadata": {
        "id": "a4zPRJMOs4UC"
      }
    },
    {
      "cell_type": "code",
      "source": [
        "def get_rank(bow, lim = None):\n",
        "  similarity_rank = dict()\n",
        "\n",
        "  # Alocando memoria para o ranque de cada docmento\n",
        "  for idx, doc in enumerate(bow):\n",
        "    if idx >= lim:\n",
        "      break\n",
        "    similarity_rank[doc] = 10 * [(None, 0)]\n",
        "\n",
        "  for entry_count, doc in enumerate(bow):\n",
        "    if lim and entry_count >= lim:\n",
        "      break\n",
        "\n",
        "    for inner_count, doc_query in enumerate(bow):\n",
        "      if lim and inner_count >= lim:\n",
        "        break\n",
        "\n",
        "      if doc != doc_query:\n",
        "        similarity = cos_dissimilarity(bow[doc], bow[doc_query])      \n",
        "\n",
        "        # Ranqueando o documento \n",
        "        rank = 10\n",
        "        for id, sim_val in reversed(similarity_rank[doc]):\n",
        "          if similarity > sim_val:\n",
        "            rank -= 1\n",
        "          else:\n",
        "            break\n",
        "\n",
        "        if rank < 10:\n",
        "          similarity_rank[doc] = similarity_rank[doc][:rank] + [(doc_query, similarity)] + similarity_rank[doc][rank:-1]\n",
        "\n",
        "  return similarity_rank"
      ],
      "metadata": {
        "id": "OPaHmoMAxhQ-"
      },
      "execution_count": 14,
      "outputs": []
    },
    {
      "cell_type": "markdown",
      "source": [
        "Nas chamadas abaixo, devido ao tempo excessivo de cálculo na função, foram considerados apenas metade dos 10778 documentos do corpus."
      ],
      "metadata": {
        "id": "4F5V7DDVutPK"
      }
    },
    {
      "cell_type": "code",
      "source": [
        "# Os primeiros n documentos sao considerados\n",
        "n = len(df) // 2\n",
        "n"
      ],
      "metadata": {
        "colab": {
          "base_uri": "https://localhost:8080/"
        },
        "id": "RtGb3K2sxpLy",
        "outputId": "e763e9e0-471c-40b3-b944-6353cbe9f376"
      },
      "execution_count": 15,
      "outputs": [
        {
          "output_type": "execute_result",
          "data": {
            "text/plain": [
              "5394"
            ]
          },
          "metadata": {},
          "execution_count": 15
        }
      ]
    },
    {
      "cell_type": "code",
      "source": [
        "rank_tfidf = get_rank(bow_tfidf, n)"
      ],
      "metadata": {
        "id": "MGHI2PVWbmGa"
      },
      "execution_count": 16,
      "outputs": []
    },
    {
      "cell_type": "code",
      "source": [
        "rank_tfidf"
      ],
      "metadata": {
        "id": "BdTebhK65rkX"
      },
      "execution_count": null,
      "outputs": []
    },
    {
      "cell_type": "markdown",
      "source": [
        "Ranque para o bag of words binário"
      ],
      "metadata": {
        "id": "1nhQ9UUb0LW0"
      }
    },
    {
      "cell_type": "code",
      "source": [
        "rank_bow_bin = get_rank(bow_bin, n)"
      ],
      "metadata": {
        "id": "-BHl0rhW0d3d"
      },
      "execution_count": 20,
      "outputs": []
    },
    {
      "cell_type": "code",
      "source": [
        "rank_bow_bin"
      ],
      "metadata": {
        "id": "eml9c7gOCXjO"
      },
      "execution_count": null,
      "outputs": []
    },
    {
      "cell_type": "markdown",
      "source": [
        "## Ranking de Acurácia\n",
        "Calculando o ranking de acurácia"
      ],
      "metadata": {
        "id": "71vBkB4hCyM4"
      }
    },
    {
      "cell_type": "code",
      "source": [
        "# Função que calcula as notícias mais similares (pela categoria) dado um ranque\n",
        "def get_accuracy(rank_similarity: dict):\n",
        "  \n",
        "  top10 = dict()\n",
        "  for i in range(0, 10):\n",
        "    top10[i] = 0\n",
        "\n",
        "  for doc in rank_similarity:\n",
        "    idx_doc = df.index[df['ids'] == doc][0]\n",
        "\n",
        "    for idx, d in enumerate(rank_similarity[doc]): # d == tupla -> (documento, similaridade)\n",
        "      idx_d = df.index[df['ids'] == d[0]][0]\n",
        "\n",
        "      for cat in df.at[idx_d, 'categories']:\n",
        "        if cat in df.at[idx_doc, 'categories']:\n",
        "          top10[idx] += 1\n",
        "          break\n",
        "\n",
        "  for idx in top10:\n",
        "    top10[idx] /= len(rank_similarity)\n",
        "\n",
        "  return top10"
      ],
      "metadata": {
        "id": "fCbosbi6CxZ8"
      },
      "execution_count": 22,
      "outputs": []
    },
    {
      "cell_type": "markdown",
      "source": [
        "Nas chamadas abaixo, temos a relação da porcentagem de notícias com a mesma categoria, dado o ranque de similaridade de cada uma."
      ],
      "metadata": {
        "id": "wqyApP0NwuqB"
      }
    },
    {
      "cell_type": "markdown",
      "source": [
        "### Ranking BoW"
      ],
      "metadata": {
        "id": "CWNXx20zDNbL"
      }
    },
    {
      "cell_type": "code",
      "source": [
        "top10_bow = get_accuracy(rank_bow_bin)\n",
        "top10_bow"
      ],
      "metadata": {
        "colab": {
          "base_uri": "https://localhost:8080/"
        },
        "id": "B8MXARBcI59J",
        "outputId": "0fa279c0-4a2e-4749-bf60-3e69047a6af7"
      },
      "execution_count": 23,
      "outputs": [
        {
          "output_type": "execute_result",
          "data": {
            "text/plain": [
              "{0: 0.8692992213570634,\n",
              " 1: 0.8303670745272526,\n",
              " 2: 0.7995921394141638,\n",
              " 3: 0.7944011865035224,\n",
              " 4: 0.7793845012977382,\n",
              " 5: 0.7654801631442343,\n",
              " 6: 0.753429736744531,\n",
              " 7: 0.7519466073414905,\n",
              " 8: 0.7450871338524286,\n",
              " 9: 0.7293288839451242}"
            ]
          },
          "metadata": {},
          "execution_count": 23
        }
      ]
    },
    {
      "cell_type": "markdown",
      "source": [
        "### Ranking TF-IDF"
      ],
      "metadata": {
        "id": "Avaco04y08el"
      }
    },
    {
      "cell_type": "code",
      "source": [
        "top10_tfidf = get_accuracy(rank_tfidf)\n",
        "top10_tfidf"
      ],
      "metadata": {
        "colab": {
          "base_uri": "https://localhost:8080/"
        },
        "id": "Ug6TiObaMy4I",
        "outputId": "cb13d627-4aa9-4f88-9770-4ced3321d047"
      },
      "execution_count": 24,
      "outputs": [
        {
          "output_type": "execute_result",
          "data": {
            "text/plain": [
              "{0: 0.8481646273637374,\n",
              " 1: 0.7977382276603634,\n",
              " 2: 0.7908787541713015,\n",
              " 3: 0.7860585836114201,\n",
              " 4: 0.78568780126066,\n",
              " 5: 0.7671486837226548,\n",
              " 6: 0.7636262513904338,\n",
              " 7: 0.7525027808676307,\n",
              " 8: 0.7443455691509084,\n",
              " 9: 0.7458286985539488}"
            ]
          },
          "metadata": {},
          "execution_count": 24
        }
      ]
    }
  ]
}