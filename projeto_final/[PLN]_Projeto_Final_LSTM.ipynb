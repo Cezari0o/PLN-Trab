{
  "nbformat": 4,
  "nbformat_minor": 0,
  "metadata": {
    "colab": {
      "provenance": [],
      "collapsed_sections": [],
      "include_colab_link": true
    },
    "kernelspec": {
      "name": "python3",
      "display_name": "Python 3"
    },
    "language_info": {
      "name": "python"
    },
    "accelerator": "GPU"
  },
  "cells": [
    {
      "cell_type": "markdown",
      "metadata": {
        "id": "view-in-github",
        "colab_type": "text"
      },
      "source": [
        "<a href=\"https://colab.research.google.com/github/Cezari0o/PLN-Trab/blob/main/projeto_final/%5BPLN%5D_Projeto_Final_LSTM.ipynb\" target=\"_parent\"><img src=\"https://colab.research.google.com/assets/colab-badge.svg\" alt=\"Open In Colab\"/></a>"
      ]
    },
    {
      "cell_type": "markdown",
      "source": [
        "# Final Project - LSTM\n",
        "Gabriel Cesário Silva Martins - 180100912 \n",
        "\n",
        "Training and classifying the dataset with an LSTM model. "
      ],
      "metadata": {
        "id": "iz6QOuMNtYbk"
      }
    },
    {
      "cell_type": "markdown",
      "source": [
        "## Loading the dataset"
      ],
      "metadata": {
        "id": "YUgxsJ9Utv5B"
      }
    },
    {
      "cell_type": "code",
      "execution_count": 1,
      "metadata": {
        "colab": {
          "base_uri": "https://localhost:8080/"
        },
        "id": "R6e2pii3tPk9",
        "outputId": "d558709f-80a7-4b42-ff28-0bec5043da98"
      },
      "outputs": [
        {
          "output_type": "stream",
          "name": "stdout",
          "text": [
            "Mounted at /content/drive\n"
          ]
        }
      ],
      "source": [
        "from google.colab import drive\n",
        "drive.mount('/content/drive')"
      ]
    },
    {
      "cell_type": "code",
      "source": [
        "!ln --symbolic /content/drive/MyDrive/UnB/PLN/projeto_final/ /dir\n",
        "%cd /dir/.\n",
        "!ls ."
      ],
      "metadata": {
        "colab": {
          "base_uri": "https://localhost:8080/"
        },
        "id": "ce4xtHutt0J_",
        "outputId": "15b204d0-a506-4765-b2a6-6fc1ba6ec49b"
      },
      "execution_count": 2,
      "outputs": [
        {
          "output_type": "stream",
          "name": "stdout",
          "text": [
            "/content/drive/MyDrive/UnB/PLN/projeto_final\n",
            "LSTM_Classifier\t\t       Mental-Health-Twitter-pre-processed.csv\n",
            "Mental-Health-Twitter.csv      projeto_final\n",
            "Mental-Health-Twitter.csv.zip  RNN_Classifier\n"
          ]
        }
      ]
    },
    {
      "cell_type": "markdown",
      "source": [
        "Some imports"
      ],
      "metadata": {
        "id": "G5UCAipyvAxU"
      }
    },
    {
      "cell_type": "code",
      "source": [
        "import pandas as pd\n",
        "import numpy as np\n",
        "from sklearn.model_selection import train_test_split\n",
        "from tensorflow.keras.preprocessing.text import Tokenizer\n",
        "from tensorflow.keras.preprocessing.sequence import pad_sequences\n",
        "\n",
        "import matplotlib.pyplot as plt\n",
        "\n",
        "from keras.models import Sequential\n",
        "from keras.layers import LSTM, Dense, Embedding,Bidirectional, Input\n",
        "from keras.utils.np_utils import to_categorical\n",
        "from tensorflow.keras.optimizers import Adam\n",
        "\n",
        "from keras.utils.np_utils import to_categorical\n",
        "from sklearn.metrics import classification_report"
      ],
      "metadata": {
        "id": "6kunGaJLuF6u"
      },
      "execution_count": 3,
      "outputs": []
    },
    {
      "cell_type": "code",
      "source": [
        "df = pd.read_csv('Mental-Health-Twitter-pre-processed.csv')\n",
        "df = df.drop('Unnamed: 0', axis=1)"
      ],
      "metadata": {
        "id": "2fAzWH7NuTv8"
      },
      "execution_count": 5,
      "outputs": []
    },
    {
      "cell_type": "code",
      "source": [
        "df.columns"
      ],
      "metadata": {
        "colab": {
          "base_uri": "https://localhost:8080/"
        },
        "id": "qAGByy5_yg8F",
        "outputId": "403d21bc-5e83-48d3-c21a-b66668fe2b1c"
      },
      "execution_count": 6,
      "outputs": [
        {
          "output_type": "execute_result",
          "data": {
            "text/plain": [
              "Index(['post_id', 'post_created', 'post_text', 'user_id', 'followers',\n",
              "       'friends', 'favourites', 'statuses', 'retweets', 'label', 'is_retweet',\n",
              "       'tweet_num_words'],\n",
              "      dtype='object')"
            ]
          },
          "metadata": {},
          "execution_count": 6
        }
      ]
    },
    {
      "cell_type": "markdown",
      "source": [
        "## Convert the Text for use in the model"
      ],
      "metadata": {
        "id": "1bX004Xawk0b"
      }
    },
    {
      "cell_type": "markdown",
      "source": [
        "Data split. The seed used is the same for all models"
      ],
      "metadata": {
        "id": "a07SLNEfvHxV"
      }
    },
    {
      "cell_type": "code",
      "source": [
        "random_seed = 168\n",
        "x_train, x_rest, y_train, y_rest = train_test_split(df['post_text'], df['label'], random_state = random_seed, test_size=0.2, shuffle=True)"
      ],
      "metadata": {
        "id": "1ZaJJj2Juk6N"
      },
      "execution_count": 7,
      "outputs": []
    },
    {
      "cell_type": "code",
      "source": [
        "x_valid, x_test, y_valid, y_test = train_test_split(x_rest, y_rest, random_state = random_seed, test_size=0.5, shuffle=True)"
      ],
      "metadata": {
        "id": "VxnckANSynzO"
      },
      "execution_count": 8,
      "outputs": []
    },
    {
      "cell_type": "code",
      "source": [
        "tokenizer = Tokenizer()\n",
        "tokenizer.fit_on_texts(x_train)"
      ],
      "metadata": {
        "id": "6bviqXevzAKl"
      },
      "execution_count": 9,
      "outputs": []
    },
    {
      "cell_type": "code",
      "source": [
        "train_sequences = tokenizer.texts_to_sequences(x_train)"
      ],
      "metadata": {
        "id": "jtqm8RiR_1KI"
      },
      "execution_count": 10,
      "outputs": []
    },
    {
      "cell_type": "markdown",
      "source": [
        "Estimating a max size for the vectors used in the network. Later, a sentence embedding will be used "
      ],
      "metadata": {
        "id": "QhG_6TruBepe"
      }
    },
    {
      "cell_type": "code",
      "source": [
        "max_len = 0\n",
        "\n",
        "for s in train_sequences:\n",
        "  max_len = len(s) if len(s) > max_len else max_len\n",
        "print(f\"Maximum text size, in words: {max_len}\")"
      ],
      "metadata": {
        "colab": {
          "base_uri": "https://localhost:8080/"
        },
        "id": "XDmcM8zFBLbu",
        "outputId": "4f8b06d6-74f5-41f4-b36c-5f81dd66913d"
      },
      "execution_count": 11,
      "outputs": [
        {
          "output_type": "stream",
          "name": "stdout",
          "text": [
            "Maximum text size, in words: 27\n"
          ]
        }
      ]
    },
    {
      "cell_type": "code",
      "source": [
        "hist = dict()\n",
        "\n",
        "hist['qt'] = list(range(max_len + 1))\n",
        "\n",
        "my_list = [0]*(max_len + 1)\n",
        "\n",
        "for x in train_sequences:\n",
        "  my_list[len(x)] += 1\n",
        "\n",
        "hist['num texts'] = my_list\n",
        "\n",
        "fig = plt.figure(figsize = (10, 5))\n",
        " \n",
        "plt.bar(hist['qt'],hist['num texts'],\n",
        "        color ='blue')\n",
        " \n",
        "plt.xlabel(\"Number of words\")\n",
        "plt.ylabel(\"Number of tweets\")\n",
        "plt.title(\"Comparing the amount of words and the amount of tweets\")\n",
        "plt.show()"
      ],
      "metadata": {
        "colab": {
          "base_uri": "https://localhost:8080/",
          "height": 350
        },
        "id": "mDagMCmGACu2",
        "outputId": "36c0ce02-5a2f-4723-d6c5-3f65d63d6cfc"
      },
      "execution_count": 12,
      "outputs": [
        {
          "output_type": "display_data",
          "data": {
            "text/plain": [
              "<Figure size 720x360 with 1 Axes>"
            ],
            "image/png": "[encoded data removed]"
          },
          "metadata": {
            "needs_background": "light"
          }
        }
      ]
    },
    {
      "cell_type": "markdown",
      "source": [
        "Most tweets are around 15 words long. However, since the number of words in a tweet is small, the maximum size is preserved (thus, there is no loss of information)."
      ],
      "metadata": {
        "id": "jgFOE4DPwM2f"
      }
    },
    {
      "cell_type": "code",
      "source": [
        "max_len = 27\n",
        "trunc_type = 'post'\n",
        "padding_type = 'post'\n",
        "train_padded = pad_sequences(train_sequences, maxlen= max_len, padding=padding_type, truncating=trunc_type)"
      ],
      "metadata": {
        "id": "-9xhwp7aBh9_"
      },
      "execution_count": 13,
      "outputs": []
    },
    {
      "cell_type": "code",
      "source": [
        "valid_sequences = tokenizer.texts_to_sequences(x_valid)\n",
        "test_sequences = tokenizer.texts_to_sequences(x_test)\n",
        "\n",
        "valid_padded = pad_sequences(valid_sequences, maxlen=max_len, padding=padding_type, truncating=trunc_type)\n",
        "test_padded = pad_sequences(test_sequences, maxlen=max_len, padding=padding_type, truncating=trunc_type)"
      ],
      "metadata": {
        "id": "PN0K_kikBqBu"
      },
      "execution_count": 14,
      "outputs": []
    },
    {
      "cell_type": "markdown",
      "source": [
        "## Handling the output\n",
        "\n",
        "Here, a one-hot enconding is used within the classes."
      ],
      "metadata": {
        "id": "9apsZrCqSFOq"
      }
    },
    {
      "cell_type": "code",
      "source": [
        "y_train = pd.Categorical(y_train)\n",
        "y_train_int = y_train.codes\n",
        "\n",
        "y_valid = pd.Categorical(y_valid)\n",
        "y_valid_int = y_valid.codes\n",
        "\n",
        "y_test = pd.Categorical(y_test)\n",
        "y_test_int = y_test.codes"
      ],
      "metadata": {
        "id": "gYb29aqdSEr2"
      },
      "execution_count": 15,
      "outputs": []
    },
    {
      "cell_type": "code",
      "source": [
        "y_train = to_categorical(y_train_int)\n",
        "y_valid = to_categorical(y_valid_int)\n",
        "y_test = to_categorical(y_test_int)"
      ],
      "metadata": {
        "id": "ju3v1byASZuY"
      },
      "execution_count": 16,
      "outputs": []
    },
    {
      "cell_type": "markdown",
      "source": [
        "## Creating and Training the Network\n",
        "\n",
        "Defining the model"
      ],
      "metadata": {
        "id": "0odnw8CJB0Zx"
      }
    },
    {
      "cell_type": "code",
      "source": [
        "model = Sequential(layers = [\n",
        "    Input(shape=[max_len]),\n",
        "    Embedding(input_dim = len(tokenizer.word_counts), output_dim = 128),\n",
        "    LSTM(256, return_sequences=True, dropout=0.5),\n",
        "    LSTM(128, return_sequences=True, dropout=0.5),\n",
        "    LSTM(64),\n",
        "    # Dense(128, activation='relu'),\n",
        "    # Dense(64, activation='relu'),\n",
        "    Dense(32, activation='relu'),\n",
        "    Dense(2, activation='softmax')\n",
        "], name = 'LSTM_Classifier')\n",
        "\n",
        "model.summary()"
      ],
      "metadata": {
        "colab": {
          "base_uri": "https://localhost:8080/"
        },
        "id": "bn5sxTh0BxyV",
        "outputId": "04ddd71d-48d3-4e83-9c96-681a422694d9"
      },
      "execution_count": 26,
      "outputs": [
        {
          "output_type": "stream",
          "name": "stdout",
          "text": [
            "Model: \"LSTM_Classifier\"\n",
            "_________________________________________________________________\n",
            " Layer (type)                Output Shape              Param #   \n",
            "=================================================================\n",
            " embedding_4 (Embedding)     (None, 27, 128)           2071936   \n",
            "                                                                 \n",
            " lstm_12 (LSTM)              (None, 27, 256)           394240    \n",
            "                                                                 \n",
            " lstm_13 (LSTM)              (None, 27, 128)           197120    \n",
            "                                                                 \n",
            " lstm_14 (LSTM)              (None, 64)                49408     \n",
            "                                                                 \n",
            " dense_16 (Dense)            (None, 32)                2080      \n",
            "                                                                 \n",
            " dense_17 (Dense)            (None, 2)                 66        \n",
            "                                                                 \n",
            "=================================================================\n",
            "Total params: 2,714,850\n",
            "Trainable params: 2,714,850\n",
            "Non-trainable params: 0\n",
            "_________________________________________________________________\n"
          ]
        }
      ]
    },
    {
      "cell_type": "markdown",
      "source": [
        "Training using a Adam optmizer. "
      ],
      "metadata": {
        "id": "WNc0KjcVyLtP"
      }
    },
    {
      "cell_type": "code",
      "source": [
        "adam_optimizer = Adam(learning_rate=0.002)\n",
        "model.compile(loss=\"categorical_crossentropy\",optimizer=adam_optimizer,metrics=['accuracy'])\n",
        "train_history = model.fit(train_padded, y_train, validation_data=(valid_padded, y_valid), epochs=50, batch_size=32)"
      ],
      "metadata": {
        "colab": {
          "base_uri": "https://localhost:8080/"
        },
        "id": "PlLkd0RZGyOg",
        "outputId": "e6b185f2-7a05-4866-ff97-352b93305bd2"
      },
      "execution_count": 27,
      "outputs": [
        {
          "output_type": "stream",
          "name": "stdout",
          "text": [
            "Epoch 1/50\n",
            "499/499 [==============================] - 11s 14ms/step - loss: 0.6805 - accuracy: 0.5615 - val_loss: 0.6927 - val_accuracy: 0.5158\n",
            "Epoch 2/50\n",
            "499/499 [==============================] - 6s 12ms/step - loss: 0.6454 - accuracy: 0.6314 - val_loss: 0.6581 - val_accuracy: 0.6407\n",
            "Epoch 3/50\n",
            "499/499 [==============================] - 6s 12ms/step - loss: 0.6496 - accuracy: 0.5905 - val_loss: 0.6921 - val_accuracy: 0.4887\n",
            "Epoch 4/50\n",
            "499/499 [==============================] - 6s 12ms/step - loss: 0.6916 - accuracy: 0.4966 - val_loss: 0.6931 - val_accuracy: 0.5158\n",
            "Epoch 5/50\n",
            "499/499 [==============================] - 6s 12ms/step - loss: 0.6624 - accuracy: 0.5732 - val_loss: 0.6138 - val_accuracy: 0.6533\n",
            "Epoch 6/50\n",
            "499/499 [==============================] - 6s 12ms/step - loss: 0.5385 - accuracy: 0.7344 - val_loss: 0.6053 - val_accuracy: 0.6724\n",
            "Epoch 7/50\n",
            "499/499 [==============================] - 7s 14ms/step - loss: 0.4489 - accuracy: 0.7866 - val_loss: 0.5255 - val_accuracy: 0.7366\n",
            "Epoch 8/50\n",
            "499/499 [==============================] - 6s 12ms/step - loss: 0.3403 - accuracy: 0.8454 - val_loss: 0.5762 - val_accuracy: 0.7285\n",
            "Epoch 9/50\n",
            "499/499 [==============================] - 6s 12ms/step - loss: 0.2574 - accuracy: 0.8866 - val_loss: 0.4878 - val_accuracy: 0.7873\n",
            "Epoch 10/50\n",
            "499/499 [==============================] - 6s 12ms/step - loss: 0.1905 - accuracy: 0.9200 - val_loss: 0.5433 - val_accuracy: 0.7812\n",
            "Epoch 11/50\n",
            "499/499 [==============================] - 6s 12ms/step - loss: 0.1524 - accuracy: 0.9354 - val_loss: 0.6451 - val_accuracy: 0.7817\n",
            "Epoch 12/50\n",
            "499/499 [==============================] - 6s 12ms/step - loss: 0.1274 - accuracy: 0.9450 - val_loss: 0.7075 - val_accuracy: 0.7622\n",
            "Epoch 13/50\n",
            "499/499 [==============================] - 6s 12ms/step - loss: 0.1106 - accuracy: 0.9520 - val_loss: 0.7455 - val_accuracy: 0.7667\n",
            "Epoch 14/50\n",
            "499/499 [==============================] - 6s 12ms/step - loss: 0.0995 - accuracy: 0.9576 - val_loss: 0.7560 - val_accuracy: 0.7566\n",
            "Epoch 15/50\n",
            "499/499 [==============================] - 6s 12ms/step - loss: 0.0896 - accuracy: 0.9611 - val_loss: 0.8174 - val_accuracy: 0.7607\n",
            "Epoch 16/50\n",
            "499/499 [==============================] - 6s 12ms/step - loss: 0.0790 - accuracy: 0.9660 - val_loss: 0.8064 - val_accuracy: 0.7592\n",
            "Epoch 17/50\n",
            "499/499 [==============================] - 6s 12ms/step - loss: 0.0739 - accuracy: 0.9684 - val_loss: 0.7041 - val_accuracy: 0.7577\n",
            "Epoch 18/50\n",
            "499/499 [==============================] - 6s 12ms/step - loss: 0.0682 - accuracy: 0.9707 - val_loss: 0.9893 - val_accuracy: 0.7607\n",
            "Epoch 19/50\n",
            "499/499 [==============================] - 6s 12ms/step - loss: 0.0648 - accuracy: 0.9729 - val_loss: 1.1061 - val_accuracy: 0.7607\n",
            "Epoch 20/50\n",
            "499/499 [==============================] - 6s 12ms/step - loss: 0.0656 - accuracy: 0.9725 - val_loss: 1.0108 - val_accuracy: 0.7572\n",
            "Epoch 21/50\n",
            "499/499 [==============================] - 6s 12ms/step - loss: 0.0560 - accuracy: 0.9763 - val_loss: 1.3759 - val_accuracy: 0.7642\n",
            "Epoch 22/50\n",
            "499/499 [==============================] - 6s 12ms/step - loss: 0.0579 - accuracy: 0.9760 - val_loss: 1.1029 - val_accuracy: 0.7822\n",
            "Epoch 23/50\n",
            "499/499 [==============================] - 6s 12ms/step - loss: 0.0538 - accuracy: 0.9788 - val_loss: 1.0933 - val_accuracy: 0.7501\n",
            "Epoch 24/50\n",
            "499/499 [==============================] - 6s 12ms/step - loss: 0.0500 - accuracy: 0.9802 - val_loss: 1.1045 - val_accuracy: 0.7556\n",
            "Epoch 25/50\n",
            "499/499 [==============================] - 6s 12ms/step - loss: 0.0462 - accuracy: 0.9821 - val_loss: 1.1303 - val_accuracy: 0.7607\n",
            "Epoch 26/50\n",
            "499/499 [==============================] - 6s 12ms/step - loss: 0.0411 - accuracy: 0.9840 - val_loss: 1.3661 - val_accuracy: 0.7627\n",
            "Epoch 27/50\n",
            "499/499 [==============================] - 6s 12ms/step - loss: 0.0422 - accuracy: 0.9830 - val_loss: 1.2952 - val_accuracy: 0.7642\n",
            "Epoch 28/50\n",
            "499/499 [==============================] - 6s 12ms/step - loss: 0.0420 - accuracy: 0.9828 - val_loss: 1.5193 - val_accuracy: 0.7772\n",
            "Epoch 29/50\n",
            "499/499 [==============================] - 6s 12ms/step - loss: 0.0387 - accuracy: 0.9846 - val_loss: 1.3485 - val_accuracy: 0.7797\n",
            "Epoch 30/50\n",
            "499/499 [==============================] - 6s 12ms/step - loss: 0.0368 - accuracy: 0.9857 - val_loss: 1.1545 - val_accuracy: 0.7607\n",
            "Epoch 31/50\n",
            "499/499 [==============================] - 6s 12ms/step - loss: 0.0378 - accuracy: 0.9861 - val_loss: 1.2204 - val_accuracy: 0.7807\n",
            "Epoch 32/50\n",
            "499/499 [==============================] - 7s 14ms/step - loss: 0.0347 - accuracy: 0.9870 - val_loss: 1.1268 - val_accuracy: 0.7587\n",
            "Epoch 33/50\n",
            "499/499 [==============================] - 6s 12ms/step - loss: 0.0343 - accuracy: 0.9865 - val_loss: 1.3649 - val_accuracy: 0.7797\n",
            "Epoch 34/50\n",
            "499/499 [==============================] - 6s 12ms/step - loss: 0.0320 - accuracy: 0.9888 - val_loss: 1.4570 - val_accuracy: 0.7617\n",
            "Epoch 35/50\n",
            "499/499 [==============================] - 6s 12ms/step - loss: 0.0308 - accuracy: 0.9889 - val_loss: 1.4347 - val_accuracy: 0.7747\n",
            "Epoch 36/50\n",
            "499/499 [==============================] - 6s 12ms/step - loss: 0.0298 - accuracy: 0.9884 - val_loss: 1.3982 - val_accuracy: 0.7561\n",
            "Epoch 37/50\n",
            "499/499 [==============================] - 6s 12ms/step - loss: 0.0338 - accuracy: 0.9875 - val_loss: 1.3290 - val_accuracy: 0.7782\n",
            "Epoch 38/50\n",
            "499/499 [==============================] - 6s 12ms/step - loss: 0.0265 - accuracy: 0.9902 - val_loss: 1.3694 - val_accuracy: 0.7657\n",
            "Epoch 39/50\n",
            "499/499 [==============================] - 6s 12ms/step - loss: 0.0271 - accuracy: 0.9890 - val_loss: 1.2716 - val_accuracy: 0.7582\n",
            "Epoch 40/50\n",
            "499/499 [==============================] - 6s 12ms/step - loss: 0.0305 - accuracy: 0.9888 - val_loss: 1.3988 - val_accuracy: 0.7772\n",
            "Epoch 41/50\n",
            "499/499 [==============================] - 6s 12ms/step - loss: 0.0243 - accuracy: 0.9908 - val_loss: 1.5657 - val_accuracy: 0.7732\n",
            "Epoch 42/50\n",
            "499/499 [==============================] - 6s 12ms/step - loss: 0.0261 - accuracy: 0.9904 - val_loss: 1.3503 - val_accuracy: 0.7551\n",
            "Epoch 43/50\n",
            "499/499 [==============================] - 6s 13ms/step - loss: 0.0231 - accuracy: 0.9910 - val_loss: 1.4114 - val_accuracy: 0.7597\n",
            "Epoch 44/50\n",
            "499/499 [==============================] - 6s 13ms/step - loss: 0.0246 - accuracy: 0.9909 - val_loss: 1.5396 - val_accuracy: 0.7572\n",
            "Epoch 45/50\n",
            "499/499 [==============================] - 7s 13ms/step - loss: 0.0230 - accuracy: 0.9912 - val_loss: 1.4499 - val_accuracy: 0.7592\n",
            "Epoch 46/50\n",
            "499/499 [==============================] - 6s 13ms/step - loss: 0.0211 - accuracy: 0.9914 - val_loss: 1.8722 - val_accuracy: 0.7747\n",
            "Epoch 47/50\n",
            "499/499 [==============================] - 6s 12ms/step - loss: 0.0249 - accuracy: 0.9902 - val_loss: 1.3129 - val_accuracy: 0.7582\n",
            "Epoch 48/50\n",
            "499/499 [==============================] - 6s 12ms/step - loss: 0.0224 - accuracy: 0.9910 - val_loss: 1.3149 - val_accuracy: 0.7446\n",
            "Epoch 49/50\n",
            "499/499 [==============================] - 6s 12ms/step - loss: 0.0213 - accuracy: 0.9918 - val_loss: 1.4647 - val_accuracy: 0.7511\n",
            "Epoch 50/50\n",
            "499/499 [==============================] - 6s 12ms/step - loss: 0.0197 - accuracy: 0.9920 - val_loss: 1.5849 - val_accuracy: 0.7722\n"
          ]
        }
      ]
    },
    {
      "cell_type": "markdown",
      "source": [
        "Plotting the loss training history."
      ],
      "metadata": {
        "id": "Opa3mqWb11oV"
      }
    },
    {
      "cell_type": "code",
      "source": [
        "plt.plot(train_history.history['loss'])\n",
        "plt.plot(train_history.history['val_loss'])\n",
        "plt.title('model loss')\n",
        "plt.ylabel('loss')\n",
        "plt.xlabel('epoch')\n",
        "plt.legend(['training set','validation set'], loc='upper left')\n",
        "plt.show()"
      ],
      "metadata": {
        "colab": {
          "base_uri": "https://localhost:8080/",
          "height": 295
        },
        "id": "coj05lG1yJgT",
        "outputId": "a857c0d0-be6f-47de-9bb2-3766a4109394"
      },
      "execution_count": 28,
      "outputs": [
        {
          "output_type": "display_data",
          "data": {
            "text/plain": [
              "<Figure size 432x288 with 1 Axes>"
            ],
            "image/png": "[encoded data removed]"
          },
          "metadata": {
            "needs_background": "light"
          }
        }
      ]
    },
    {
      "cell_type": "markdown",
      "source": [
        "# Testing the Model"
      ],
      "metadata": {
        "id": "2WKFbjl22K_1"
      }
    },
    {
      "cell_type": "code",
      "source": [
        "y_prob = model.predict(test_padded)\n",
        "# y_pred = np.argmax(y_prob,axis=1)\n",
        "y_pred = np.where(y_prob >= 0.5, 1, 0)"
      ],
      "metadata": {
        "id": "_7_GXKWHJr2v"
      },
      "execution_count": 29,
      "outputs": []
    },
    {
      "cell_type": "code",
      "source": [
        "print(classification_report(y_test,y_pred, zero_division=0, digits=3))"
      ],
      "metadata": {
        "colab": {
          "base_uri": "https://localhost:8080/"
        },
        "id": "ZBAGhl1jLAgi",
        "outputId": "b2a34e2f-5c48-46a2-9c62-aea5d375e980"
      },
      "execution_count": 30,
      "outputs": [
        {
          "output_type": "stream",
          "name": "stdout",
          "text": [
            "              precision    recall  f1-score   support\n",
            "\n",
            "           0      0.779     0.799     0.789      1017\n",
            "           1      0.785     0.764     0.775       976\n",
            "\n",
            "   micro avg      0.782     0.782     0.782      1993\n",
            "   macro avg      0.782     0.782     0.782      1993\n",
            "weighted avg      0.782     0.782     0.782      1993\n",
            " samples avg      0.782     0.782     0.782      1993\n",
            "\n"
          ]
        }
      ]
    },
    {
      "cell_type": "markdown",
      "source": [
        "## Saving the model"
      ],
      "metadata": {
        "id": "yY9U9NhWfpk4"
      }
    },
    {
      "cell_type": "code",
      "source": [
        "model.save(filepath='LSTM_Classifier/.')"
      ],
      "metadata": {
        "colab": {
          "base_uri": "https://localhost:8080/"
        },
        "id": "6h8eD-sYd3Qc",
        "outputId": "519f1e04-6050-4642-e1fe-2de2a7a32364"
      },
      "execution_count": null,
      "outputs": [
        {
          "output_type": "stream",
          "name": "stderr",
          "text": [
            "WARNING:absl:Found untraced functions such as lstm_cell_76_layer_call_fn, lstm_cell_76_layer_call_and_return_conditional_losses, lstm_cell_77_layer_call_fn, lstm_cell_77_layer_call_and_return_conditional_losses while saving (showing 4 of 4). These functions will not be directly callable after loading.\n",
            "WARNING:absl:<keras.layers.recurrent.LSTMCell object at 0x7fa184fe7ed0> has the same name 'LSTMCell' as a built-in Keras object. Consider renaming <class 'keras.layers.recurrent.LSTMCell'> to avoid naming conflicts when loading with `tf.keras.models.load_model`. If renaming is not possible, pass the object in the `custom_objects` parameter of the load function.\n",
            "WARNING:absl:<keras.layers.recurrent.LSTMCell object at 0x7fa18cc50cd0> has the same name 'LSTMCell' as a built-in Keras object. Consider renaming <class 'keras.layers.recurrent.LSTMCell'> to avoid naming conflicts when loading with `tf.keras.models.load_model`. If renaming is not possible, pass the object in the `custom_objects` parameter of the load function.\n"
          ]
        }
      ]
    },
    {
      "cell_type": "markdown",
      "source": [
        "# Source\n",
        "Below are some of the fonts used to run this notebook. Parts of them have been adapted here.\n",
        "\n",
        "- https://github.com/Cezari0o/PLN-Trab/blob/main/a8/A8_PLN.ipynb\n",
        "- https://www.kaggle.com/code/tmishinev/nlp-depression-tweets-keras-lstm"
      ],
      "metadata": {
        "id": "1JDh8lB0n6DU"
      }
    }
  ]
}