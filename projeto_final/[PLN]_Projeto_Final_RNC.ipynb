{
  "nbformat": 4,
  "nbformat_minor": 0,
  "metadata": {
    "colab": {
      "provenance": [],
      "collapsed_sections": [],
      "authorship_tag": "ABX9TyP8CoY7ttrXY3pYuN3VZs4X",
      "include_colab_link": true
    },
    "kernelspec": {
      "name": "python3",
      "display_name": "Python 3"
    },
    "language_info": {
      "name": "python"
    },
    "accelerator": "GPU"
  },
  "cells": [
    {
      "cell_type": "markdown",
      "metadata": {
        "id": "view-in-github",
        "colab_type": "text"
      },
      "source": [
        "<a href=\"https://colab.research.google.com/github/Cezari0o/PLN-Trab/blob/main/projeto_final/%5BPLN%5D_Projeto_Final_RNC.ipynb\" target=\"_parent\"><img src=\"https://colab.research.google.com/assets/colab-badge.svg\" alt=\"Open In Colab\"/></a>"
      ]
    },
    {
      "cell_type": "markdown",
      "source": [
        "# Final Project PLN - CNN\n",
        "Gabriel Cesário Silva Martins - 180100912 \n",
        "\n",
        "In this notebook, the training of a convolutional neural network is done. It is a similar process to the one made on the LSTM model."
      ],
      "metadata": {
        "id": "6wfT5C8cyLoH"
      }
    },
    {
      "cell_type": "code",
      "execution_count": 2,
      "metadata": {
        "colab": {
          "base_uri": "https://localhost:8080/"
        },
        "id": "JeZeikqMXoQy",
        "outputId": "3971c5ec-ad0d-4ab8-fc4b-f6ddc07bcb97"
      },
      "outputs": [
        {
          "output_type": "stream",
          "name": "stdout",
          "text": [
            "Mounted at /content/drive\n"
          ]
        }
      ],
      "source": [
        "from google.colab import drive\n",
        "drive.mount('/content/drive')"
      ]
    },
    {
      "cell_type": "code",
      "source": [
        "!ln --symbolic /content/drive/MyDrive/UnB/PLN/projeto_final/ /dir\n",
        "%cd /dir/.\n",
        "!ls ."
      ],
      "metadata": {
        "colab": {
          "base_uri": "https://localhost:8080/"
        },
        "id": "9rMx-mlSZXBl",
        "outputId": "752673e1-32dd-496a-8096-7f2d5ca70505"
      },
      "execution_count": 3,
      "outputs": [
        {
          "output_type": "stream",
          "name": "stdout",
          "text": [
            "/content/drive/.shortcut-targets-by-id/1yd_wnDhuc_GPjRYs6OAA3jtLMaLl8SXF/UnB/PLN/projeto_final\n",
            "LSTM_Classifier\t\t       Mental-Health-Twitter-pre-processed.csv\n",
            "Mental-Health-Twitter.csv      projeto_final\n",
            "Mental-Health-Twitter.csv.zip  RNN_Classifier\n"
          ]
        }
      ]
    },
    {
      "cell_type": "markdown",
      "source": [
        "# Imports"
      ],
      "metadata": {
        "id": "PjrSyn2yaTPO"
      }
    },
    {
      "cell_type": "code",
      "source": [
        "import pandas as pd\n",
        "import numpy as np\n",
        "from sklearn.model_selection import train_test_split\n",
        "from tensorflow.keras.preprocessing.text import Tokenizer\n",
        "from tensorflow.keras.preprocessing.sequence import pad_sequences\n",
        "\n",
        "import matplotlib.pyplot as plt\n",
        "\n",
        "from keras.models import Sequential\n",
        "from keras.layers import Dense, Embedding, Input, Conv1D, MaxPooling1D, GlobalMaxPooling1D, BatchNormalization\n",
        "from keras.utils.np_utils import to_categorical\n",
        "from tensorflow.keras.optimizers import Adam\n",
        "\n",
        "from keras.utils.np_utils import to_categorical\n",
        "from sklearn.metrics import classification_report"
      ],
      "metadata": {
        "id": "McG34Ow0aSuO"
      },
      "execution_count": 4,
      "outputs": []
    },
    {
      "cell_type": "markdown",
      "source": [
        "# Loading the dataset"
      ],
      "metadata": {
        "id": "UrODF9PA1Bwd"
      }
    },
    {
      "cell_type": "code",
      "source": [
        "df = pd.read_csv('Mental-Health-Twitter-pre-processed.csv')\n",
        "df = df.drop('Unnamed: 0', axis=1)"
      ],
      "metadata": {
        "id": "2fAzWH7NuTv8"
      },
      "execution_count": 5,
      "outputs": []
    },
    {
      "cell_type": "code",
      "source": [
        "df.columns"
      ],
      "metadata": {
        "colab": {
          "base_uri": "https://localhost:8080/"
        },
        "id": "qAGByy5_yg8F",
        "outputId": "e7c5658f-02b7-487b-b677-be1f8c9d49e6"
      },
      "execution_count": 6,
      "outputs": [
        {
          "output_type": "execute_result",
          "data": {
            "text/plain": [
              "Index(['post_id', 'post_created', 'post_text', 'user_id', 'followers',\n",
              "       'friends', 'favourites', 'statuses', 'retweets', 'label', 'is_retweet',\n",
              "       'tweet_num_words'],\n",
              "      dtype='object')"
            ]
          },
          "metadata": {},
          "execution_count": 6
        }
      ]
    },
    {
      "cell_type": "code",
      "source": [
        "df.info()"
      ],
      "metadata": {
        "colab": {
          "base_uri": "https://localhost:8080/"
        },
        "id": "848HK2KIaiCu",
        "outputId": "4b2f08b0-0241-4c05-922b-8a99aeb50faf"
      },
      "execution_count": 7,
      "outputs": [
        {
          "output_type": "stream",
          "name": "stdout",
          "text": [
            "<class 'pandas.core.frame.DataFrame'>\n",
            "RangeIndex: 19929 entries, 0 to 19928\n",
            "Data columns (total 12 columns):\n",
            " #   Column           Non-Null Count  Dtype \n",
            "---  ------           --------------  ----- \n",
            " 0   post_id          19929 non-null  int64 \n",
            " 1   post_created     19929 non-null  object\n",
            " 2   post_text        19929 non-null  object\n",
            " 3   user_id          19929 non-null  int64 \n",
            " 4   followers        19929 non-null  int64 \n",
            " 5   friends          19929 non-null  int64 \n",
            " 6   favourites       19929 non-null  int64 \n",
            " 7   statuses         19929 non-null  int64 \n",
            " 8   retweets         19929 non-null  int64 \n",
            " 9   label            19929 non-null  int64 \n",
            " 10  is_retweet       19929 non-null  int64 \n",
            " 11  tweet_num_words  19929 non-null  int64 \n",
            "dtypes: int64(10), object(2)\n",
            "memory usage: 1.8+ MB\n"
          ]
        }
      ]
    },
    {
      "cell_type": "markdown",
      "source": [
        "# Data Splitting"
      ],
      "metadata": {
        "id": "D8v1B7071KXF"
      }
    },
    {
      "cell_type": "code",
      "source": [
        "random_seed = 168\n",
        "x_train, x_rest, y_train, y_rest = train_test_split(df['post_text'], df['label'], random_state = random_seed, test_size=0.2, shuffle=True)"
      ],
      "metadata": {
        "id": "1ZaJJj2Juk6N"
      },
      "execution_count": 8,
      "outputs": []
    },
    {
      "cell_type": "code",
      "source": [
        "x_valid, x_test, y_valid, y_test = train_test_split(x_rest, y_rest, random_state = random_seed, test_size=0.5, shuffle=True)"
      ],
      "metadata": {
        "id": "VxnckANSynzO"
      },
      "execution_count": 9,
      "outputs": []
    },
    {
      "cell_type": "code",
      "source": [
        "tokenizer = Tokenizer()\n",
        "tokenizer.fit_on_texts(x_train)"
      ],
      "metadata": {
        "id": "6bviqXevzAKl"
      },
      "execution_count": 10,
      "outputs": []
    },
    {
      "cell_type": "code",
      "source": [
        "train_sequences = tokenizer.texts_to_sequences(x_train)"
      ],
      "metadata": {
        "id": "jtqm8RiR_1KI"
      },
      "execution_count": 11,
      "outputs": []
    },
    {
      "cell_type": "markdown",
      "source": [
        "In a previous notebook, the estimated size for the vectors in the embedding layer was already estimated (at 27), so the same size will be used here"
      ],
      "metadata": {
        "id": "CIE7IETWa3Te"
      }
    },
    {
      "cell_type": "code",
      "source": [
        "max_len = 27\n",
        "trunc_type = 'post'\n",
        "padding_type = 'post'\n",
        "train_padded = pad_sequences(train_sequences, maxlen= max_len, padding=padding_type, truncating=trunc_type)"
      ],
      "metadata": {
        "id": "-9xhwp7aBh9_"
      },
      "execution_count": 12,
      "outputs": []
    },
    {
      "cell_type": "code",
      "source": [
        "valid_sequences = tokenizer.texts_to_sequences(x_valid)\n",
        "test_sequences = tokenizer.texts_to_sequences(x_test)\n",
        "\n",
        "valid_padded = pad_sequences(valid_sequences, maxlen=max_len, padding=padding_type, truncating=trunc_type)\n",
        "test_padded = pad_sequences(test_sequences, maxlen=max_len, padding=padding_type, truncating=trunc_type)"
      ],
      "metadata": {
        "id": "PN0K_kikBqBu"
      },
      "execution_count": 13,
      "outputs": []
    },
    {
      "cell_type": "markdown",
      "source": [
        "# Handling the output"
      ],
      "metadata": {
        "id": "9apsZrCqSFOq"
      }
    },
    {
      "cell_type": "code",
      "source": [
        "y_train = pd.Categorical(y_train)\n",
        "y_train_int = y_train.codes\n",
        "\n",
        "y_valid = pd.Categorical(y_valid)\n",
        "y_valid_int = y_valid.codes\n",
        "\n",
        "y_test = pd.Categorical(y_test)\n",
        "y_test_int = y_test.codes"
      ],
      "metadata": {
        "id": "gYb29aqdSEr2"
      },
      "execution_count": 14,
      "outputs": []
    },
    {
      "cell_type": "code",
      "source": [
        "y_train = to_categorical(y_train_int)\n",
        "y_valid = to_categorical(y_valid_int)\n",
        "y_test = to_categorical(y_test_int)"
      ],
      "metadata": {
        "id": "ju3v1byASZuY"
      },
      "execution_count": 15,
      "outputs": []
    },
    {
      "cell_type": "markdown",
      "source": [
        "# Building and Training the Network"
      ],
      "metadata": {
        "id": "YhDPRqGgbR_q"
      }
    },
    {
      "cell_type": "code",
      "source": [
        "model = Sequential(layers = [\n",
        "    Input(shape=[max_len]),\n",
        "    Embedding(input_dim = len(tokenizer.word_counts), output_dim = 512),\n",
        "    Conv1D(kernel_size = 3, filters = 128, activation='relu', padding='same', strides=4),\n",
        "    BatchNormalization(),\n",
        "    MaxPooling1D(pool_size=3, strides=2),\n",
        "\n",
        "    Conv1D(kernel_size = 6, filters = 128, activation='relu', padding='same'),\n",
        "    BatchNormalization(),\n",
        "    MaxPooling1D(pool_size=3, strides=2),\n",
        "\n",
        "    Conv1D(kernel_size = 12, filters = 128, activation='relu', padding='same'),\n",
        "    # MaxPooling1D(pool_size=3, strides=2),\n",
        "    GlobalMaxPooling1D(),\n",
        "\n",
        "    Dense(units=512, activation='relu'),\n",
        "    Dense(units=256, activation='relu'),\n",
        "    Dense(units=16,  activation='relu'),\n",
        "    Dense(units=2,   activation='softmax'),\n",
        "], name = \"RNN_Classifier\")\n",
        "\n",
        "model.summary()"
      ],
      "metadata": {
        "colab": {
          "base_uri": "https://localhost:8080/"
        },
        "id": "mN23UIA6bRCZ",
        "outputId": "f26ba81e-2d4e-4142-e3d9-29c7915f4813"
      },
      "execution_count": 16,
      "outputs": [
        {
          "output_type": "stream",
          "name": "stdout",
          "text": [
            "Model: \"RNN_Classifier\"\n",
            "_________________________________________________________________\n",
            " Layer (type)                Output Shape              Param #   \n",
            "=================================================================\n",
            " embedding (Embedding)       (None, 27, 512)           8287744   \n",
            "                                                                 \n",
            " conv1d (Conv1D)             (None, 7, 128)            196736    \n",
            "                                                                 \n",
            " batch_normalization (BatchN  (None, 7, 128)           512       \n",
            " ormalization)                                                   \n",
            "                                                                 \n",
            " max_pooling1d (MaxPooling1D  (None, 3, 128)           0         \n",
            " )                                                               \n",
            "                                                                 \n",
            " conv1d_1 (Conv1D)           (None, 3, 128)            98432     \n",
            "                                                                 \n",
            " batch_normalization_1 (Batc  (None, 3, 128)           512       \n",
            " hNormalization)                                                 \n",
            "                                                                 \n",
            " max_pooling1d_1 (MaxPooling  (None, 1, 128)           0         \n",
            " 1D)                                                             \n",
            "                                                                 \n",
            " conv1d_2 (Conv1D)           (None, 1, 128)            196736    \n",
            "                                                                 \n",
            " global_max_pooling1d (Globa  (None, 128)              0         \n",
            " lMaxPooling1D)                                                  \n",
            "                                                                 \n",
            " dense (Dense)               (None, 512)               66048     \n",
            "                                                                 \n",
            " dense_1 (Dense)             (None, 256)               131328    \n",
            "                                                                 \n",
            " dense_2 (Dense)             (None, 16)                4112      \n",
            "                                                                 \n",
            " dense_3 (Dense)             (None, 2)                 34        \n",
            "                                                                 \n",
            "=================================================================\n",
            "Total params: 8,982,194\n",
            "Trainable params: 8,981,682\n",
            "Non-trainable params: 512\n",
            "_________________________________________________________________\n"
          ]
        }
      ]
    },
    {
      "cell_type": "code",
      "source": [
        "adam_optimizer = Adam(learning_rate=0.002)\n",
        "model.compile(loss=\"categorical_crossentropy\",optimizer=adam_optimizer,metrics=['accuracy'])\n",
        "train_history = model.fit(train_padded, y_train, validation_data=(valid_padded, y_valid), epochs=50, batch_size=32)"
      ],
      "metadata": {
        "colab": {
          "base_uri": "https://localhost:8080/"
        },
        "id": "cIx7J-7qhM2G",
        "outputId": "66889f9d-c88d-4490-d574-3580c95caa12"
      },
      "execution_count": 17,
      "outputs": [
        {
          "output_type": "stream",
          "name": "stdout",
          "text": [
            "Epoch 1/50\n",
            "499/499 [==============================] - 18s 12ms/step - loss: 0.5792 - accuracy: 0.6832 - val_loss: 0.4814 - val_accuracy: 0.7471\n",
            "Epoch 2/50\n",
            "499/499 [==============================] - 6s 11ms/step - loss: 0.3192 - accuracy: 0.8603 - val_loss: 0.5285 - val_accuracy: 0.7446\n",
            "Epoch 3/50\n",
            "499/499 [==============================] - 6s 11ms/step - loss: 0.1685 - accuracy: 0.9285 - val_loss: 0.6023 - val_accuracy: 0.7366\n",
            "Epoch 4/50\n",
            "499/499 [==============================] - 6s 12ms/step - loss: 0.1132 - accuracy: 0.9544 - val_loss: 0.8607 - val_accuracy: 0.7180\n",
            "Epoch 5/50\n",
            "499/499 [==============================] - 5s 11ms/step - loss: 0.0880 - accuracy: 0.9653 - val_loss: 0.8722 - val_accuracy: 0.7371\n",
            "Epoch 6/50\n",
            "499/499 [==============================] - 5s 11ms/step - loss: 0.0792 - accuracy: 0.9695 - val_loss: 0.9370 - val_accuracy: 0.7291\n",
            "Epoch 7/50\n",
            "499/499 [==============================] - 5s 11ms/step - loss: 0.0609 - accuracy: 0.9766 - val_loss: 1.1285 - val_accuracy: 0.7416\n",
            "Epoch 8/50\n",
            "499/499 [==============================] - 6s 12ms/step - loss: 0.0514 - accuracy: 0.9798 - val_loss: 0.8922 - val_accuracy: 0.7311\n",
            "Epoch 9/50\n",
            "499/499 [==============================] - 5s 11ms/step - loss: 0.0496 - accuracy: 0.9814 - val_loss: 1.1146 - val_accuracy: 0.7411\n",
            "Epoch 10/50\n",
            "499/499 [==============================] - 5s 11ms/step - loss: 0.0460 - accuracy: 0.9821 - val_loss: 1.3883 - val_accuracy: 0.7396\n",
            "Epoch 11/50\n",
            "499/499 [==============================] - 5s 11ms/step - loss: 0.0414 - accuracy: 0.9840 - val_loss: 1.4150 - val_accuracy: 0.7396\n",
            "Epoch 12/50\n",
            "499/499 [==============================] - 5s 11ms/step - loss: 0.0366 - accuracy: 0.9851 - val_loss: 1.5345 - val_accuracy: 0.7446\n",
            "Epoch 13/50\n",
            "499/499 [==============================] - 5s 11ms/step - loss: 0.0381 - accuracy: 0.9854 - val_loss: 1.2286 - val_accuracy: 0.7336\n",
            "Epoch 14/50\n",
            "499/499 [==============================] - 5s 11ms/step - loss: 0.0416 - accuracy: 0.9846 - val_loss: 1.9670 - val_accuracy: 0.7160\n",
            "Epoch 15/50\n",
            "499/499 [==============================] - 5s 11ms/step - loss: 0.0444 - accuracy: 0.9835 - val_loss: 1.5161 - val_accuracy: 0.7265\n",
            "Epoch 16/50\n",
            "499/499 [==============================] - 5s 11ms/step - loss: 0.0291 - accuracy: 0.9879 - val_loss: 1.7967 - val_accuracy: 0.7285\n",
            "Epoch 17/50\n",
            "499/499 [==============================] - 5s 11ms/step - loss: 0.0255 - accuracy: 0.9898 - val_loss: 1.9223 - val_accuracy: 0.7346\n",
            "Epoch 18/50\n",
            "499/499 [==============================] - 5s 11ms/step - loss: 0.0243 - accuracy: 0.9900 - val_loss: 1.9039 - val_accuracy: 0.7371\n",
            "Epoch 19/50\n",
            "499/499 [==============================] - 5s 11ms/step - loss: 0.0268 - accuracy: 0.9895 - val_loss: 2.3982 - val_accuracy: 0.7451\n",
            "Epoch 20/50\n",
            "499/499 [==============================] - 5s 11ms/step - loss: 0.0322 - accuracy: 0.9884 - val_loss: 1.4373 - val_accuracy: 0.7496\n",
            "Epoch 21/50\n",
            "499/499 [==============================] - 5s 11ms/step - loss: 0.0266 - accuracy: 0.9893 - val_loss: 1.4610 - val_accuracy: 0.7456\n",
            "Epoch 22/50\n",
            "499/499 [==============================] - 5s 10ms/step - loss: 0.0249 - accuracy: 0.9893 - val_loss: 1.5997 - val_accuracy: 0.7436\n",
            "Epoch 23/50\n",
            "499/499 [==============================] - 5s 11ms/step - loss: 0.0205 - accuracy: 0.9918 - val_loss: 1.4483 - val_accuracy: 0.7311\n",
            "Epoch 24/50\n",
            "499/499 [==============================] - 5s 11ms/step - loss: 0.0209 - accuracy: 0.9904 - val_loss: 2.1417 - val_accuracy: 0.7446\n",
            "Epoch 25/50\n",
            "499/499 [==============================] - 5s 11ms/step - loss: 0.0231 - accuracy: 0.9905 - val_loss: 2.1833 - val_accuracy: 0.7301\n",
            "Epoch 26/50\n",
            "499/499 [==============================] - 5s 11ms/step - loss: 0.0205 - accuracy: 0.9917 - val_loss: 2.0223 - val_accuracy: 0.7461\n",
            "Epoch 27/50\n",
            "499/499 [==============================] - 5s 11ms/step - loss: 0.0269 - accuracy: 0.9902 - val_loss: 1.4316 - val_accuracy: 0.7291\n",
            "Epoch 28/50\n",
            "499/499 [==============================] - 5s 11ms/step - loss: 0.0343 - accuracy: 0.9876 - val_loss: 2.1801 - val_accuracy: 0.7351\n",
            "Epoch 29/50\n",
            "499/499 [==============================] - 5s 11ms/step - loss: 0.0275 - accuracy: 0.9893 - val_loss: 1.6580 - val_accuracy: 0.7396\n",
            "Epoch 30/50\n",
            "499/499 [==============================] - 5s 11ms/step - loss: 0.0209 - accuracy: 0.9922 - val_loss: 2.3702 - val_accuracy: 0.7371\n",
            "Epoch 31/50\n",
            "499/499 [==============================] - 5s 11ms/step - loss: 0.0186 - accuracy: 0.9935 - val_loss: 1.7351 - val_accuracy: 0.7401\n",
            "Epoch 32/50\n",
            "499/499 [==============================] - 5s 11ms/step - loss: 0.0156 - accuracy: 0.9941 - val_loss: 2.4980 - val_accuracy: 0.7245\n",
            "Epoch 33/50\n",
            "499/499 [==============================] - 5s 11ms/step - loss: 0.0134 - accuracy: 0.9937 - val_loss: 2.1350 - val_accuracy: 0.7361\n",
            "Epoch 34/50\n",
            "499/499 [==============================] - 5s 11ms/step - loss: 0.0174 - accuracy: 0.9924 - val_loss: 1.4750 - val_accuracy: 0.7361\n",
            "Epoch 35/50\n",
            "499/499 [==============================] - 5s 11ms/step - loss: 0.0191 - accuracy: 0.9922 - val_loss: 1.8889 - val_accuracy: 0.7426\n",
            "Epoch 36/50\n",
            "499/499 [==============================] - 5s 11ms/step - loss: 0.0151 - accuracy: 0.9928 - val_loss: 1.9478 - val_accuracy: 0.7275\n",
            "Epoch 37/50\n",
            "499/499 [==============================] - 6s 12ms/step - loss: 0.0174 - accuracy: 0.9928 - val_loss: 1.8202 - val_accuracy: 0.7361\n",
            "Epoch 38/50\n",
            "499/499 [==============================] - 5s 11ms/step - loss: 0.0188 - accuracy: 0.9925 - val_loss: 2.6518 - val_accuracy: 0.7336\n",
            "Epoch 39/50\n",
            "499/499 [==============================] - 5s 11ms/step - loss: 0.0199 - accuracy: 0.9923 - val_loss: 2.7595 - val_accuracy: 0.7336\n",
            "Epoch 40/50\n",
            "499/499 [==============================] - 5s 11ms/step - loss: 0.0240 - accuracy: 0.9907 - val_loss: 1.8708 - val_accuracy: 0.7391\n",
            "Epoch 41/50\n",
            "499/499 [==============================] - 5s 11ms/step - loss: 0.0198 - accuracy: 0.9917 - val_loss: 1.7821 - val_accuracy: 0.7165\n",
            "Epoch 42/50\n",
            "499/499 [==============================] - 5s 11ms/step - loss: 0.0182 - accuracy: 0.9929 - val_loss: 2.5657 - val_accuracy: 0.7321\n",
            "Epoch 43/50\n",
            "499/499 [==============================] - 5s 11ms/step - loss: 0.0125 - accuracy: 0.9940 - val_loss: 3.6391 - val_accuracy: 0.7376\n",
            "Epoch 44/50\n",
            "499/499 [==============================] - 5s 11ms/step - loss: 0.0101 - accuracy: 0.9947 - val_loss: 4.6044 - val_accuracy: 0.7401\n",
            "Epoch 45/50\n",
            "499/499 [==============================] - 5s 11ms/step - loss: 0.0134 - accuracy: 0.9942 - val_loss: 3.8736 - val_accuracy: 0.7351\n",
            "Epoch 46/50\n",
            "499/499 [==============================] - 5s 11ms/step - loss: 0.0233 - accuracy: 0.9921 - val_loss: 1.7884 - val_accuracy: 0.7235\n",
            "Epoch 47/50\n",
            "499/499 [==============================] - 5s 11ms/step - loss: 0.0213 - accuracy: 0.9912 - val_loss: 2.8723 - val_accuracy: 0.7326\n",
            "Epoch 48/50\n",
            "499/499 [==============================] - 5s 10ms/step - loss: 0.0143 - accuracy: 0.9927 - val_loss: 2.3279 - val_accuracy: 0.7346\n",
            "Epoch 49/50\n",
            "499/499 [==============================] - 5s 11ms/step - loss: 0.0148 - accuracy: 0.9936 - val_loss: 3.1178 - val_accuracy: 0.7285\n",
            "Epoch 50/50\n",
            "499/499 [==============================] - 5s 10ms/step - loss: 0.0134 - accuracy: 0.9937 - val_loss: 2.3791 - val_accuracy: 0.7371\n"
          ]
        }
      ]
    },
    {
      "cell_type": "markdown",
      "source": [
        "Plotting the loss training history."
      ],
      "metadata": {
        "id": "Opa3mqWb11oV"
      }
    },
    {
      "cell_type": "code",
      "source": [
        "plt.plot(train_history.history['loss'])\n",
        "plt.plot(train_history.history['val_loss'])\n",
        "plt.title('model loss')\n",
        "plt.ylabel('loss')\n",
        "plt.xlabel('epoch')\n",
        "plt.legend(['training set','validation set'], loc='upper left')\n",
        "plt.show()"
      ],
      "metadata": {
        "id": "coj05lG1yJgT",
        "colab": {
          "base_uri": "https://localhost:8080/",
          "height": 295
        },
        "outputId": "e0d367ca-65ff-47af-dba8-6864e65efe9f"
      },
      "execution_count": 18,
      "outputs": [
        {
          "output_type": "display_data",
          "data": {
            "text/plain": [
              "<Figure size 432x288 with 1 Axes>"
            ],
            "image/png": "[encoded data removed]"
          },
          "metadata": {
            "needs_background": "light"
          }
        }
      ]
    },
    {
      "cell_type": "markdown",
      "source": [
        "# Testing the Model"
      ],
      "metadata": {
        "id": "2WKFbjl22K_1"
      }
    },
    {
      "cell_type": "code",
      "source": [
        "y_prob = model.predict(test_padded)\n",
        "# y_pred = np.argmax(y_prob,axis=1)\n",
        "y_pred = np.where(y_prob >= 0.5, 1, 0)"
      ],
      "metadata": {
        "id": "_7_GXKWHJr2v"
      },
      "execution_count": 19,
      "outputs": []
    },
    {
      "cell_type": "code",
      "source": [
        "print(classification_report(y_test,y_pred, zero_division=0, digits=3))"
      ],
      "metadata": {
        "colab": {
          "base_uri": "https://localhost:8080/"
        },
        "id": "ZBAGhl1jLAgi",
        "outputId": "a890d2c0-460c-4c22-be5c-2b3ea0a49c40"
      },
      "execution_count": 20,
      "outputs": [
        {
          "output_type": "stream",
          "name": "stdout",
          "text": [
            "              precision    recall  f1-score   support\n",
            "\n",
            "           0      0.736     0.766     0.750      1017\n",
            "           1      0.745     0.713     0.729       976\n",
            "\n",
            "   micro avg      0.740     0.740     0.740      1993\n",
            "   macro avg      0.740     0.740     0.740      1993\n",
            "weighted avg      0.740     0.740     0.740      1993\n",
            " samples avg      0.740     0.740     0.740      1993\n",
            "\n"
          ]
        }
      ]
    },
    {
      "cell_type": "markdown",
      "source": [
        "## Salvando o modelo"
      ],
      "metadata": {
        "id": "yY9U9NhWfpk4"
      }
    },
    {
      "cell_type": "code",
      "source": [
        "model.save(filepath='RNN_Classifier/.')"
      ],
      "metadata": {
        "id": "6h8eD-sYd3Qc"
      },
      "execution_count": 21,
      "outputs": []
    }
  ]
}