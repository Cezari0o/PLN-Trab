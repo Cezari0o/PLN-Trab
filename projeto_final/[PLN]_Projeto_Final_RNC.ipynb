{
  "nbformat": 4,
  "nbformat_minor": 0,
  "metadata": {
    "colab": {
      "provenance": [],
      "authorship_tag": "ABX9TyOy4B2tco7OeXyy6eca4+Ve"
    },
    "kernelspec": {
      "name": "python3",
      "display_name": "Python 3"
    },
    "language_info": {
      "name": "python"
    },
    "accelerator": "GPU"
  },
  "cells": [
    {
      "cell_type": "code",
      "execution_count": 1,
      "metadata": {
        "colab": {
          "base_uri": "https://localhost:8080/"
        },
        "id": "JeZeikqMXoQy",
        "outputId": "161afdd5-bf2b-472e-dbe5-12de1e0fa0b4"
      },
      "outputs": [
        {
          "output_type": "stream",
          "name": "stdout",
          "text": [
            "Mounted at /content/drive\n"
          ]
        }
      ],
      "source": [
        "from google.colab import drive\n",
        "drive.mount('/content/drive')"
      ]
    },
    {
      "cell_type": "code",
      "source": [
        "!ln --symbolic /content/drive/MyDrive/UnB/PLN/projeto_final/ /dir\n",
        "%cd /dir/.\n",
        "!ls ."
      ],
      "metadata": {
        "colab": {
          "base_uri": "https://localhost:8080/"
        },
        "id": "9rMx-mlSZXBl",
        "outputId": "c2da39b4-da15-434f-c706-e022480e9ebf"
      },
      "execution_count": 2,
      "outputs": [
        {
          "output_type": "stream",
          "name": "stdout",
          "text": [
            "/content/drive/.shortcut-targets-by-id/1yd_wnDhuc_GPjRYs6OAA3jtLMaLl8SXF/UnB/PLN/projeto_final\n",
            "LSTM_Classifier\t\t       Mental-Health-Twitter-pre-processed.csv\n",
            "Mental-Health-Twitter.csv      projeto_final\n",
            "Mental-Health-Twitter.csv.zip\n"
          ]
        }
      ]
    },
    {
      "cell_type": "markdown",
      "source": [
        "# Imports"
      ],
      "metadata": {
        "id": "PjrSyn2yaTPO"
      }
    },
    {
      "cell_type": "code",
      "source": [
        "import pandas as pd\n",
        "import numpy as np\n",
        "from sklearn.model_selection import train_test_split\n",
        "from tensorflow.keras.preprocessing.text import Tokenizer\n",
        "from tensorflow.keras.preprocessing.sequence import pad_sequences\n",
        "\n",
        "import matplotlib.pyplot as plt\n",
        "\n",
        "from keras.models import Sequential\n",
        "from keras.layers import Dense, Embedding, Input, Conv1D, MaxPooling1D, GlobalMaxPooling1D, BatchNormalization\n",
        "from keras.utils.np_utils import to_categorical\n",
        "from tensorflow.keras.optimizers import Adam\n",
        "\n",
        "from keras.utils.np_utils import to_categorical\n",
        "from sklearn.metrics import classification_report"
      ],
      "metadata": {
        "id": "McG34Ow0aSuO"
      },
      "execution_count": 3,
      "outputs": []
    },
    {
      "cell_type": "code",
      "source": [
        "df = pd.read_csv('Mental-Health-Twitter-pre-processed.csv')\n",
        "df = df.drop('Unnamed: 0', axis=1)"
      ],
      "metadata": {
        "id": "2fAzWH7NuTv8"
      },
      "execution_count": 4,
      "outputs": []
    },
    {
      "cell_type": "code",
      "source": [
        "df.columns"
      ],
      "metadata": {
        "colab": {
          "base_uri": "https://localhost:8080/"
        },
        "id": "qAGByy5_yg8F",
        "outputId": "94bb24e0-dd3d-49fc-eaf6-dfe59a84bd6b"
      },
      "execution_count": 5,
      "outputs": [
        {
          "output_type": "execute_result",
          "data": {
            "text/plain": [
              "Index(['post_id', 'post_created', 'post_text', 'user_id', 'followers',\n",
              "       'friends', 'favourites', 'statuses', 'retweets', 'label', 'is_retweet',\n",
              "       'tweet_num_words'],\n",
              "      dtype='object')"
            ]
          },
          "metadata": {},
          "execution_count": 5
        }
      ]
    },
    {
      "cell_type": "code",
      "source": [
        "df.info()"
      ],
      "metadata": {
        "colab": {
          "base_uri": "https://localhost:8080/"
        },
        "id": "848HK2KIaiCu",
        "outputId": "4a14adaa-89f9-4b2e-c8c3-ab63f70c7dd9"
      },
      "execution_count": 6,
      "outputs": [
        {
          "output_type": "stream",
          "name": "stdout",
          "text": [
            "<class 'pandas.core.frame.DataFrame'>\n",
            "RangeIndex: 19929 entries, 0 to 19928\n",
            "Data columns (total 12 columns):\n",
            " #   Column           Non-Null Count  Dtype \n",
            "---  ------           --------------  ----- \n",
            " 0   post_id          19929 non-null  int64 \n",
            " 1   post_created     19929 non-null  object\n",
            " 2   post_text        19929 non-null  object\n",
            " 3   user_id          19929 non-null  int64 \n",
            " 4   followers        19929 non-null  int64 \n",
            " 5   friends          19929 non-null  int64 \n",
            " 6   favourites       19929 non-null  int64 \n",
            " 7   statuses         19929 non-null  int64 \n",
            " 8   retweets         19929 non-null  int64 \n",
            " 9   label            19929 non-null  int64 \n",
            " 10  is_retweet       19929 non-null  int64 \n",
            " 11  tweet_num_words  19929 non-null  int64 \n",
            "dtypes: int64(10), object(2)\n",
            "memory usage: 1.8+ MB\n"
          ]
        }
      ]
    },
    {
      "cell_type": "code",
      "source": [
        "random_seed = 168\n",
        "x_train, x_rest, y_train, y_rest = train_test_split(df['post_text'], df['label'], random_state = random_seed, test_size=0.2, shuffle=True)"
      ],
      "metadata": {
        "id": "1ZaJJj2Juk6N"
      },
      "execution_count": 7,
      "outputs": []
    },
    {
      "cell_type": "code",
      "source": [
        "x_valid, x_test, y_valid, y_test = train_test_split(x_rest, y_rest, random_state = random_seed, test_size=0.5, shuffle=True)"
      ],
      "metadata": {
        "id": "VxnckANSynzO"
      },
      "execution_count": 8,
      "outputs": []
    },
    {
      "cell_type": "code",
      "source": [
        "tokenizer = Tokenizer()\n",
        "tokenizer.fit_on_texts(x_train)"
      ],
      "metadata": {
        "id": "6bviqXevzAKl"
      },
      "execution_count": 9,
      "outputs": []
    },
    {
      "cell_type": "code",
      "source": [
        "train_sequences = tokenizer.texts_to_sequences(x_train)"
      ],
      "metadata": {
        "id": "jtqm8RiR_1KI"
      },
      "execution_count": 10,
      "outputs": []
    },
    {
      "cell_type": "markdown",
      "source": [
        "Em um notebook anterior, o tamanho estimado para os vetores na camada de embedding já tinha sido estimado (em 27), logo, o mesmo tamanho será usado aqui "
      ],
      "metadata": {
        "id": "CIE7IETWa3Te"
      }
    },
    {
      "cell_type": "code",
      "source": [
        "max_len = 27\n",
        "trunc_type = 'post'\n",
        "padding_type = 'post'\n",
        "train_padded = pad_sequences(train_sequences, maxlen= max_len, padding=padding_type, truncating=trunc_type)"
      ],
      "metadata": {
        "id": "-9xhwp7aBh9_"
      },
      "execution_count": 11,
      "outputs": []
    },
    {
      "cell_type": "code",
      "source": [
        "valid_sequences = tokenizer.texts_to_sequences(x_valid)\n",
        "test_sequences = tokenizer.texts_to_sequences(x_test)\n",
        "\n",
        "valid_padded = pad_sequences(valid_sequences, maxlen=max_len, padding=padding_type, truncating=trunc_type)\n",
        "test_padded = pad_sequences(test_sequences, maxlen=max_len, padding=padding_type, truncating=trunc_type)"
      ],
      "metadata": {
        "id": "PN0K_kikBqBu"
      },
      "execution_count": 12,
      "outputs": []
    },
    {
      "cell_type": "markdown",
      "source": [
        "## Tratando a saida"
      ],
      "metadata": {
        "id": "9apsZrCqSFOq"
      }
    },
    {
      "cell_type": "code",
      "source": [
        "y_train = pd.Categorical(y_train)\n",
        "y_train_int = y_train.codes\n",
        "\n",
        "y_valid = pd.Categorical(y_valid)\n",
        "y_valid_int = y_valid.codes\n",
        "\n",
        "y_test = pd.Categorical(y_test)\n",
        "y_test_int = y_test.codes"
      ],
      "metadata": {
        "id": "gYb29aqdSEr2"
      },
      "execution_count": 13,
      "outputs": []
    },
    {
      "cell_type": "code",
      "source": [
        "y_train = to_categorical(y_train_int)\n",
        "y_valid = to_categorical(y_valid_int)\n",
        "y_test = to_categorical(y_test_int)"
      ],
      "metadata": {
        "id": "ju3v1byASZuY"
      },
      "execution_count": 14,
      "outputs": []
    },
    {
      "cell_type": "markdown",
      "source": [
        "# Construindo e Treinando a Rede"
      ],
      "metadata": {
        "id": "YhDPRqGgbR_q"
      }
    },
    {
      "cell_type": "code",
      "source": [
        "model = Sequential(layers = [\n",
        "    Input(shape=[max_len]),\n",
        "    Embedding(input_dim = len(tokenizer.word_counts), output_dim = 512),\n",
        "    Conv1D(kernel_size = 3, filters = 128, activation='relu', padding='same', strides=4),\n",
        "    BatchNormalization(),\n",
        "    MaxPooling1D(pool_size=3, strides=2),\n",
        "\n",
        "    Conv1D(kernel_size = 6, filters = 128, activation='relu', padding='same'),\n",
        "    BatchNormalization(),\n",
        "    MaxPooling1D(pool_size=3, strides=2),\n",
        "\n",
        "    Conv1D(kernel_size = 12, filters = 128, activation='relu', padding='same'),\n",
        "    # MaxPooling1D(pool_size=3, strides=2),\n",
        "    GlobalMaxPooling1D(),\n",
        "\n",
        "    Dense(units=512, activation='relu'),\n",
        "    Dense(units=256, activation='relu'),\n",
        "    Dense(units=16,  activation='relu'),\n",
        "    Dense(units=2,   activation='softmax'),\n",
        "], name = \"RNN_Classifier\")\n",
        "\n",
        "model.summary()"
      ],
      "metadata": {
        "colab": {
          "base_uri": "https://localhost:8080/"
        },
        "id": "mN23UIA6bRCZ",
        "outputId": "a9b94c43-1fe1-4a07-bfce-1f0a025ce245"
      },
      "execution_count": 30,
      "outputs": [
        {
          "output_type": "stream",
          "name": "stdout",
          "text": [
            "Model: \"RNN_Classifier\"\n",
            "_________________________________________________________________\n",
            " Layer (type)                Output Shape              Param #   \n",
            "=================================================================\n",
            " embedding_9 (Embedding)     (None, 27, 512)           8287744   \n",
            "                                                                 \n",
            " conv1d_27 (Conv1D)          (None, 7, 128)            196736    \n",
            "                                                                 \n",
            " batch_normalization_18 (Bat  (None, 7, 128)           512       \n",
            " chNormalization)                                                \n",
            "                                                                 \n",
            " max_pooling1d_18 (MaxPoolin  (None, 3, 128)           0         \n",
            " g1D)                                                            \n",
            "                                                                 \n",
            " conv1d_28 (Conv1D)          (None, 3, 128)            98432     \n",
            "                                                                 \n",
            " batch_normalization_19 (Bat  (None, 3, 128)           512       \n",
            " chNormalization)                                                \n",
            "                                                                 \n",
            " max_pooling1d_19 (MaxPoolin  (None, 1, 128)           0         \n",
            " g1D)                                                            \n",
            "                                                                 \n",
            " conv1d_29 (Conv1D)          (None, 1, 128)            196736    \n",
            "                                                                 \n",
            " global_max_pooling1d_9 (Glo  (None, 128)              0         \n",
            " balMaxPooling1D)                                                \n",
            "                                                                 \n",
            " dense_36 (Dense)            (None, 512)               66048     \n",
            "                                                                 \n",
            " dense_37 (Dense)            (None, 256)               131328    \n",
            "                                                                 \n",
            " dense_38 (Dense)            (None, 16)                4112      \n",
            "                                                                 \n",
            " dense_39 (Dense)            (None, 2)                 34        \n",
            "                                                                 \n",
            "=================================================================\n",
            "Total params: 8,982,194\n",
            "Trainable params: 8,981,682\n",
            "Non-trainable params: 512\n",
            "_________________________________________________________________\n"
          ]
        }
      ]
    },
    {
      "cell_type": "code",
      "source": [
        "adam_optimizer = Adam(learning_rate=0.000001)\n",
        "model.compile(loss=\"categorical_crossentropy\",optimizer=adam_optimizer,metrics=['accuracy'])\n",
        "model.fit(train_padded, y_train, validation_data=(valid_padded, y_valid), epochs=250)"
      ],
      "metadata": {
        "colab": {
          "base_uri": "https://localhost:8080/"
        },
        "id": "cIx7J-7qhM2G",
        "outputId": "2f303c91-fd45-4173-a600-cf542871bf1d"
      },
      "execution_count": 31,
      "outputs": [
        {
          "output_type": "stream",
          "name": "stdout",
          "text": [
            "Epoch 1/250\n",
            "499/499 [==============================] - 7s 12ms/step - loss: 0.6980 - accuracy: 0.5062 - val_loss: 0.6948 - val_accuracy: 0.4817\n",
            "Epoch 2/250\n",
            "499/499 [==============================] - 6s 12ms/step - loss: 0.6933 - accuracy: 0.5164 - val_loss: 0.6962 - val_accuracy: 0.5048\n",
            "Epoch 3/250\n",
            "499/499 [==============================] - 5s 11ms/step - loss: 0.6905 - accuracy: 0.5330 - val_loss: 0.6943 - val_accuracy: 0.5133\n",
            "Epoch 4/250\n",
            "499/499 [==============================] - 5s 11ms/step - loss: 0.6877 - accuracy: 0.5495 - val_loss: 0.6929 - val_accuracy: 0.5228\n",
            "Epoch 5/250\n",
            "499/499 [==============================] - 5s 11ms/step - loss: 0.6854 - accuracy: 0.5633 - val_loss: 0.6917 - val_accuracy: 0.5273\n",
            "Epoch 6/250\n",
            "499/499 [==============================] - 5s 11ms/step - loss: 0.6828 - accuracy: 0.5792 - val_loss: 0.6906 - val_accuracy: 0.5299\n",
            "Epoch 7/250\n",
            "499/499 [==============================] - 5s 11ms/step - loss: 0.6800 - accuracy: 0.5900 - val_loss: 0.6896 - val_accuracy: 0.5283\n",
            "Epoch 8/250\n",
            "499/499 [==============================] - 6s 11ms/step - loss: 0.6773 - accuracy: 0.6001 - val_loss: 0.6886 - val_accuracy: 0.5344\n",
            "Epoch 9/250\n",
            "499/499 [==============================] - 6s 11ms/step - loss: 0.6741 - accuracy: 0.6127 - val_loss: 0.6876 - val_accuracy: 0.5369\n",
            "Epoch 10/250\n",
            "499/499 [==============================] - 6s 11ms/step - loss: 0.6712 - accuracy: 0.6166 - val_loss: 0.6866 - val_accuracy: 0.5404\n",
            "Epoch 11/250\n",
            "499/499 [==============================] - 6s 11ms/step - loss: 0.6673 - accuracy: 0.6240 - val_loss: 0.6856 - val_accuracy: 0.5514\n",
            "Epoch 12/250\n",
            "499/499 [==============================] - 5s 11ms/step - loss: 0.6636 - accuracy: 0.6356 - val_loss: 0.6846 - val_accuracy: 0.5519\n",
            "Epoch 13/250\n",
            "499/499 [==============================] - 5s 11ms/step - loss: 0.6602 - accuracy: 0.6414 - val_loss: 0.6836 - val_accuracy: 0.5534\n",
            "Epoch 14/250\n",
            "499/499 [==============================] - 5s 10ms/step - loss: 0.6562 - accuracy: 0.6473 - val_loss: 0.6827 - val_accuracy: 0.5559\n",
            "Epoch 15/250\n",
            "499/499 [==============================] - 5s 10ms/step - loss: 0.6510 - accuracy: 0.6577 - val_loss: 0.6819 - val_accuracy: 0.5539\n",
            "Epoch 16/250\n",
            "499/499 [==============================] - 5s 11ms/step - loss: 0.6459 - accuracy: 0.6674 - val_loss: 0.6806 - val_accuracy: 0.5575\n",
            "Epoch 17/250\n",
            "499/499 [==============================] - 5s 10ms/step - loss: 0.6407 - accuracy: 0.6703 - val_loss: 0.6798 - val_accuracy: 0.5610\n",
            "Epoch 18/250\n",
            "499/499 [==============================] - 5s 11ms/step - loss: 0.6350 - accuracy: 0.6764 - val_loss: 0.6788 - val_accuracy: 0.5645\n",
            "Epoch 19/250\n",
            "499/499 [==============================] - 5s 11ms/step - loss: 0.6288 - accuracy: 0.6859 - val_loss: 0.6777 - val_accuracy: 0.5695\n",
            "Epoch 20/250\n",
            "499/499 [==============================] - 5s 11ms/step - loss: 0.6220 - accuracy: 0.6872 - val_loss: 0.6769 - val_accuracy: 0.5710\n",
            "Epoch 21/250\n",
            "499/499 [==============================] - 5s 11ms/step - loss: 0.6150 - accuracy: 0.6970 - val_loss: 0.6759 - val_accuracy: 0.5745\n",
            "Epoch 22/250\n",
            "499/499 [==============================] - 5s 11ms/step - loss: 0.6069 - accuracy: 0.7041 - val_loss: 0.6756 - val_accuracy: 0.5795\n",
            "Epoch 23/250\n",
            "499/499 [==============================] - 6s 11ms/step - loss: 0.5982 - accuracy: 0.7122 - val_loss: 0.6746 - val_accuracy: 0.5825\n",
            "Epoch 24/250\n",
            "499/499 [==============================] - 6s 11ms/step - loss: 0.5903 - accuracy: 0.7173 - val_loss: 0.6744 - val_accuracy: 0.5820\n",
            "Epoch 25/250\n",
            "499/499 [==============================] - 5s 11ms/step - loss: 0.5810 - accuracy: 0.7222 - val_loss: 0.6738 - val_accuracy: 0.5855\n",
            "Epoch 26/250\n",
            "499/499 [==============================] - 5s 11ms/step - loss: 0.5725 - accuracy: 0.7255 - val_loss: 0.6736 - val_accuracy: 0.5871\n",
            "Epoch 27/250\n",
            "499/499 [==============================] - 5s 11ms/step - loss: 0.5631 - accuracy: 0.7362 - val_loss: 0.6738 - val_accuracy: 0.5886\n",
            "Epoch 28/250\n",
            "499/499 [==============================] - 5s 11ms/step - loss: 0.5530 - accuracy: 0.7416 - val_loss: 0.6739 - val_accuracy: 0.5901\n",
            "Epoch 29/250\n",
            "499/499 [==============================] - 5s 11ms/step - loss: 0.5430 - accuracy: 0.7477 - val_loss: 0.6746 - val_accuracy: 0.5936\n",
            "Epoch 30/250\n",
            "499/499 [==============================] - 5s 11ms/step - loss: 0.5345 - accuracy: 0.7550 - val_loss: 0.6751 - val_accuracy: 0.5931\n",
            "Epoch 31/250\n",
            "499/499 [==============================] - 5s 10ms/step - loss: 0.5235 - accuracy: 0.7606 - val_loss: 0.6757 - val_accuracy: 0.5946\n",
            "Epoch 32/250\n",
            "499/499 [==============================] - 5s 11ms/step - loss: 0.5132 - accuracy: 0.7690 - val_loss: 0.6767 - val_accuracy: 0.5961\n",
            "Epoch 33/250\n",
            "499/499 [==============================] - 5s 11ms/step - loss: 0.5026 - accuracy: 0.7762 - val_loss: 0.6778 - val_accuracy: 0.5986\n",
            "Epoch 34/250\n",
            "499/499 [==============================] - 5s 11ms/step - loss: 0.4939 - accuracy: 0.7790 - val_loss: 0.6790 - val_accuracy: 0.6041\n",
            "Epoch 35/250\n",
            "499/499 [==============================] - 5s 11ms/step - loss: 0.4834 - accuracy: 0.7840 - val_loss: 0.6814 - val_accuracy: 0.6041\n",
            "Epoch 36/250\n",
            "499/499 [==============================] - 5s 11ms/step - loss: 0.4721 - accuracy: 0.7928 - val_loss: 0.6838 - val_accuracy: 0.6021\n",
            "Epoch 37/250\n",
            "499/499 [==============================] - 5s 11ms/step - loss: 0.4627 - accuracy: 0.7974 - val_loss: 0.6865 - val_accuracy: 0.5996\n",
            "Epoch 38/250\n",
            "499/499 [==============================] - 5s 11ms/step - loss: 0.4520 - accuracy: 0.8016 - val_loss: 0.6884 - val_accuracy: 0.6011\n",
            "Epoch 39/250\n",
            "499/499 [==============================] - 5s 11ms/step - loss: 0.4425 - accuracy: 0.8076 - val_loss: 0.6903 - val_accuracy: 0.6046\n",
            "Epoch 40/250\n",
            "499/499 [==============================] - 5s 11ms/step - loss: 0.4322 - accuracy: 0.8151 - val_loss: 0.6940 - val_accuracy: 0.6076\n",
            "Epoch 41/250\n",
            "499/499 [==============================] - 6s 11ms/step - loss: 0.4216 - accuracy: 0.8182 - val_loss: 0.6974 - val_accuracy: 0.6031\n",
            "Epoch 42/250\n",
            "499/499 [==============================] - 6s 11ms/step - loss: 0.4113 - accuracy: 0.8266 - val_loss: 0.6997 - val_accuracy: 0.6081\n",
            "Epoch 43/250\n",
            "499/499 [==============================] - 5s 11ms/step - loss: 0.4012 - accuracy: 0.8295 - val_loss: 0.7026 - val_accuracy: 0.6086\n",
            "Epoch 44/250\n",
            "499/499 [==============================] - 5s 11ms/step - loss: 0.3907 - accuracy: 0.8379 - val_loss: 0.7081 - val_accuracy: 0.6096\n",
            "Epoch 45/250\n",
            "499/499 [==============================] - 5s 10ms/step - loss: 0.3824 - accuracy: 0.8402 - val_loss: 0.7110 - val_accuracy: 0.6096\n",
            "Epoch 46/250\n",
            "499/499 [==============================] - 5s 10ms/step - loss: 0.3706 - accuracy: 0.8491 - val_loss: 0.7176 - val_accuracy: 0.6096\n",
            "Epoch 47/250\n",
            "499/499 [==============================] - 5s 10ms/step - loss: 0.3621 - accuracy: 0.8529 - val_loss: 0.7209 - val_accuracy: 0.6076\n",
            "Epoch 48/250\n",
            "499/499 [==============================] - 5s 10ms/step - loss: 0.3518 - accuracy: 0.8580 - val_loss: 0.7244 - val_accuracy: 0.6141\n",
            "Epoch 49/250\n",
            "499/499 [==============================] - 5s 10ms/step - loss: 0.3435 - accuracy: 0.8600 - val_loss: 0.7287 - val_accuracy: 0.6131\n",
            "Epoch 50/250\n",
            "499/499 [==============================] - 5s 10ms/step - loss: 0.3316 - accuracy: 0.8693 - val_loss: 0.7354 - val_accuracy: 0.6177\n",
            "Epoch 51/250\n",
            "499/499 [==============================] - 5s 10ms/step - loss: 0.3247 - accuracy: 0.8705 - val_loss: 0.7418 - val_accuracy: 0.6136\n",
            "Epoch 52/250\n",
            "499/499 [==============================] - 5s 11ms/step - loss: 0.3149 - accuracy: 0.8721 - val_loss: 0.7453 - val_accuracy: 0.6182\n",
            "Epoch 53/250\n",
            "499/499 [==============================] - 5s 11ms/step - loss: 0.3048 - accuracy: 0.8790 - val_loss: 0.7511 - val_accuracy: 0.6177\n",
            "Epoch 54/250\n",
            "499/499 [==============================] - 6s 11ms/step - loss: 0.2969 - accuracy: 0.8847 - val_loss: 0.7582 - val_accuracy: 0.6182\n",
            "Epoch 55/250\n",
            "499/499 [==============================] - 6s 11ms/step - loss: 0.2888 - accuracy: 0.8871 - val_loss: 0.7616 - val_accuracy: 0.6227\n",
            "Epoch 56/250\n",
            "499/499 [==============================] - 6s 11ms/step - loss: 0.2793 - accuracy: 0.8897 - val_loss: 0.7711 - val_accuracy: 0.6227\n",
            "Epoch 57/250\n",
            "499/499 [==============================] - 5s 11ms/step - loss: 0.2702 - accuracy: 0.8986 - val_loss: 0.7747 - val_accuracy: 0.6207\n",
            "Epoch 58/250\n",
            "499/499 [==============================] - 5s 11ms/step - loss: 0.2625 - accuracy: 0.8996 - val_loss: 0.7808 - val_accuracy: 0.6227\n",
            "Epoch 59/250\n",
            "499/499 [==============================] - 5s 11ms/step - loss: 0.2559 - accuracy: 0.9020 - val_loss: 0.7888 - val_accuracy: 0.6237\n",
            "Epoch 60/250\n",
            "499/499 [==============================] - 5s 11ms/step - loss: 0.2485 - accuracy: 0.9061 - val_loss: 0.7942 - val_accuracy: 0.6257\n",
            "Epoch 61/250\n",
            "499/499 [==============================] - 5s 10ms/step - loss: 0.2379 - accuracy: 0.9112 - val_loss: 0.8042 - val_accuracy: 0.6247\n",
            "Epoch 62/250\n",
            "499/499 [==============================] - 5s 11ms/step - loss: 0.2306 - accuracy: 0.9158 - val_loss: 0.8116 - val_accuracy: 0.6267\n",
            "Epoch 63/250\n",
            "499/499 [==============================] - 5s 11ms/step - loss: 0.2235 - accuracy: 0.9174 - val_loss: 0.8189 - val_accuracy: 0.6257\n",
            "Epoch 64/250\n",
            "499/499 [==============================] - 5s 11ms/step - loss: 0.2160 - accuracy: 0.9199 - val_loss: 0.8305 - val_accuracy: 0.6292\n",
            "Epoch 65/250\n",
            "499/499 [==============================] - 5s 11ms/step - loss: 0.2077 - accuracy: 0.9226 - val_loss: 0.8355 - val_accuracy: 0.6282\n",
            "Epoch 66/250\n",
            "499/499 [==============================] - 5s 11ms/step - loss: 0.2049 - accuracy: 0.9247 - val_loss: 0.8438 - val_accuracy: 0.6297\n",
            "Epoch 67/250\n",
            "499/499 [==============================] - 5s 11ms/step - loss: 0.1950 - accuracy: 0.9305 - val_loss: 0.8523 - val_accuracy: 0.6297\n",
            "Epoch 68/250\n",
            "499/499 [==============================] - 5s 11ms/step - loss: 0.1874 - accuracy: 0.9336 - val_loss: 0.8594 - val_accuracy: 0.6282\n",
            "Epoch 69/250\n",
            "499/499 [==============================] - 5s 11ms/step - loss: 0.1814 - accuracy: 0.9363 - val_loss: 0.8695 - val_accuracy: 0.6297\n",
            "Epoch 70/250\n",
            "499/499 [==============================] - 5s 11ms/step - loss: 0.1757 - accuracy: 0.9374 - val_loss: 0.8745 - val_accuracy: 0.6282\n",
            "Epoch 71/250\n",
            "499/499 [==============================] - 5s 11ms/step - loss: 0.1699 - accuracy: 0.9397 - val_loss: 0.8857 - val_accuracy: 0.6287\n",
            "Epoch 72/250\n",
            "499/499 [==============================] - 5s 11ms/step - loss: 0.1618 - accuracy: 0.9432 - val_loss: 0.8986 - val_accuracy: 0.6287\n",
            "Epoch 73/250\n",
            "499/499 [==============================] - 5s 11ms/step - loss: 0.1564 - accuracy: 0.9476 - val_loss: 0.9107 - val_accuracy: 0.6302\n",
            "Epoch 74/250\n",
            "499/499 [==============================] - 5s 10ms/step - loss: 0.1544 - accuracy: 0.9456 - val_loss: 0.9165 - val_accuracy: 0.6282\n",
            "Epoch 75/250\n",
            "499/499 [==============================] - 5s 11ms/step - loss: 0.1474 - accuracy: 0.9498 - val_loss: 0.9215 - val_accuracy: 0.6287\n",
            "Epoch 76/250\n",
            "499/499 [==============================] - 6s 11ms/step - loss: 0.1424 - accuracy: 0.9516 - val_loss: 0.9357 - val_accuracy: 0.6297\n",
            "Epoch 77/250\n",
            "499/499 [==============================] - 6s 11ms/step - loss: 0.1360 - accuracy: 0.9543 - val_loss: 0.9523 - val_accuracy: 0.6297\n",
            "Epoch 78/250\n",
            "499/499 [==============================] - 6s 11ms/step - loss: 0.1295 - accuracy: 0.9558 - val_loss: 0.9518 - val_accuracy: 0.6327\n",
            "Epoch 79/250\n",
            "499/499 [==============================] - 6s 11ms/step - loss: 0.1258 - accuracy: 0.9583 - val_loss: 0.9663 - val_accuracy: 0.6282\n",
            "Epoch 80/250\n",
            "499/499 [==============================] - 5s 11ms/step - loss: 0.1195 - accuracy: 0.9602 - val_loss: 0.9775 - val_accuracy: 0.6297\n",
            "Epoch 81/250\n",
            "499/499 [==============================] - 5s 11ms/step - loss: 0.1158 - accuracy: 0.9624 - val_loss: 0.9864 - val_accuracy: 0.6312\n",
            "Epoch 82/250\n",
            "499/499 [==============================] - 5s 11ms/step - loss: 0.1107 - accuracy: 0.9626 - val_loss: 1.0006 - val_accuracy: 0.6287\n",
            "Epoch 83/250\n",
            "499/499 [==============================] - 5s 11ms/step - loss: 0.1073 - accuracy: 0.9646 - val_loss: 1.0105 - val_accuracy: 0.6317\n",
            "Epoch 84/250\n",
            "499/499 [==============================] - 5s 11ms/step - loss: 0.1024 - accuracy: 0.9671 - val_loss: 1.0263 - val_accuracy: 0.6322\n",
            "Epoch 85/250\n",
            "499/499 [==============================] - 5s 10ms/step - loss: 0.0990 - accuracy: 0.9685 - val_loss: 1.0346 - val_accuracy: 0.6342\n",
            "Epoch 86/250\n",
            "499/499 [==============================] - 5s 11ms/step - loss: 0.0940 - accuracy: 0.9700 - val_loss: 1.0499 - val_accuracy: 0.6302\n",
            "Epoch 87/250\n",
            "499/499 [==============================] - 5s 11ms/step - loss: 0.0924 - accuracy: 0.9696 - val_loss: 1.0595 - val_accuracy: 0.6302\n",
            "Epoch 88/250\n",
            "499/499 [==============================] - 5s 11ms/step - loss: 0.0882 - accuracy: 0.9722 - val_loss: 1.0614 - val_accuracy: 0.6347\n",
            "Epoch 89/250\n",
            "499/499 [==============================] - 6s 11ms/step - loss: 0.0833 - accuracy: 0.9737 - val_loss: 1.0756 - val_accuracy: 0.6362\n",
            "Epoch 90/250\n",
            "499/499 [==============================] - 6s 11ms/step - loss: 0.0812 - accuracy: 0.9740 - val_loss: 1.0877 - val_accuracy: 0.6302\n",
            "Epoch 91/250\n",
            "499/499 [==============================] - 5s 11ms/step - loss: 0.0786 - accuracy: 0.9735 - val_loss: 1.1081 - val_accuracy: 0.6322\n",
            "Epoch 92/250\n",
            "499/499 [==============================] - 5s 11ms/step - loss: 0.0752 - accuracy: 0.9770 - val_loss: 1.1148 - val_accuracy: 0.6342\n",
            "Epoch 93/250\n",
            "499/499 [==============================] - 6s 11ms/step - loss: 0.0710 - accuracy: 0.9792 - val_loss: 1.1253 - val_accuracy: 0.6297\n",
            "Epoch 94/250\n",
            "499/499 [==============================] - 5s 11ms/step - loss: 0.0677 - accuracy: 0.9789 - val_loss: 1.1374 - val_accuracy: 0.6342\n",
            "Epoch 95/250\n",
            "499/499 [==============================] - 5s 11ms/step - loss: 0.0662 - accuracy: 0.9792 - val_loss: 1.1595 - val_accuracy: 0.6297\n",
            "Epoch 96/250\n",
            "499/499 [==============================] - 6s 11ms/step - loss: 0.0631 - accuracy: 0.9819 - val_loss: 1.1682 - val_accuracy: 0.6342\n",
            "Epoch 97/250\n",
            "499/499 [==============================] - 5s 11ms/step - loss: 0.0615 - accuracy: 0.9806 - val_loss: 1.1857 - val_accuracy: 0.6327\n",
            "Epoch 98/250\n",
            "499/499 [==============================] - 5s 11ms/step - loss: 0.0585 - accuracy: 0.9821 - val_loss: 1.1891 - val_accuracy: 0.6387\n",
            "Epoch 99/250\n",
            "499/499 [==============================] - 6s 11ms/step - loss: 0.0550 - accuracy: 0.9837 - val_loss: 1.2068 - val_accuracy: 0.6347\n",
            "Epoch 100/250\n",
            "499/499 [==============================] - 5s 11ms/step - loss: 0.0540 - accuracy: 0.9843 - val_loss: 1.2180 - val_accuracy: 0.6352\n",
            "Epoch 101/250\n",
            "499/499 [==============================] - 6s 11ms/step - loss: 0.0515 - accuracy: 0.9848 - val_loss: 1.2288 - val_accuracy: 0.6407\n",
            "Epoch 102/250\n",
            "499/499 [==============================] - 5s 11ms/step - loss: 0.0518 - accuracy: 0.9836 - val_loss: 1.2356 - val_accuracy: 0.6397\n",
            "Epoch 103/250\n",
            "499/499 [==============================] - 6s 11ms/step - loss: 0.0497 - accuracy: 0.9847 - val_loss: 1.2566 - val_accuracy: 0.6337\n",
            "Epoch 104/250\n",
            "499/499 [==============================] - 6s 11ms/step - loss: 0.0462 - accuracy: 0.9859 - val_loss: 1.2679 - val_accuracy: 0.6362\n",
            "Epoch 105/250\n",
            "499/499 [==============================] - 5s 11ms/step - loss: 0.0447 - accuracy: 0.9863 - val_loss: 1.2695 - val_accuracy: 0.6402\n",
            "Epoch 106/250\n",
            "499/499 [==============================] - 5s 11ms/step - loss: 0.0432 - accuracy: 0.9876 - val_loss: 1.2957 - val_accuracy: 0.6392\n",
            "Epoch 107/250\n",
            "499/499 [==============================] - 6s 11ms/step - loss: 0.0408 - accuracy: 0.9881 - val_loss: 1.3092 - val_accuracy: 0.6322\n",
            "Epoch 108/250\n",
            "499/499 [==============================] - 6s 11ms/step - loss: 0.0383 - accuracy: 0.9889 - val_loss: 1.3123 - val_accuracy: 0.6407\n",
            "Epoch 109/250\n",
            "499/499 [==============================] - 6s 11ms/step - loss: 0.0381 - accuracy: 0.9884 - val_loss: 1.3263 - val_accuracy: 0.6392\n",
            "Epoch 110/250\n",
            "499/499 [==============================] - 5s 11ms/step - loss: 0.0372 - accuracy: 0.9895 - val_loss: 1.3462 - val_accuracy: 0.6412\n",
            "Epoch 111/250\n",
            "499/499 [==============================] - 5s 11ms/step - loss: 0.0345 - accuracy: 0.9898 - val_loss: 1.3587 - val_accuracy: 0.6407\n",
            "Epoch 112/250\n",
            "499/499 [==============================] - 5s 11ms/step - loss: 0.0338 - accuracy: 0.9905 - val_loss: 1.3732 - val_accuracy: 0.6367\n",
            "Epoch 113/250\n",
            "499/499 [==============================] - 5s 11ms/step - loss: 0.0323 - accuracy: 0.9907 - val_loss: 1.3842 - val_accuracy: 0.6417\n",
            "Epoch 114/250\n",
            "499/499 [==============================] - 5s 11ms/step - loss: 0.0322 - accuracy: 0.9908 - val_loss: 1.3885 - val_accuracy: 0.6417\n",
            "Epoch 115/250\n",
            "499/499 [==============================] - 5s 11ms/step - loss: 0.0313 - accuracy: 0.9917 - val_loss: 1.4043 - val_accuracy: 0.6397\n",
            "Epoch 116/250\n",
            "499/499 [==============================] - 6s 11ms/step - loss: 0.0285 - accuracy: 0.9920 - val_loss: 1.4157 - val_accuracy: 0.6387\n",
            "Epoch 117/250\n",
            "499/499 [==============================] - 6s 11ms/step - loss: 0.0279 - accuracy: 0.9928 - val_loss: 1.4437 - val_accuracy: 0.6407\n",
            "Epoch 118/250\n",
            "499/499 [==============================] - 5s 11ms/step - loss: 0.0274 - accuracy: 0.9923 - val_loss: 1.4435 - val_accuracy: 0.6397\n",
            "Epoch 119/250\n",
            "499/499 [==============================] - 6s 11ms/step - loss: 0.0265 - accuracy: 0.9930 - val_loss: 1.4576 - val_accuracy: 0.6377\n",
            "Epoch 120/250\n",
            "499/499 [==============================] - 6s 11ms/step - loss: 0.0251 - accuracy: 0.9925 - val_loss: 1.4688 - val_accuracy: 0.6382\n",
            "Epoch 121/250\n",
            "499/499 [==============================] - 6s 11ms/step - loss: 0.0249 - accuracy: 0.9928 - val_loss: 1.4765 - val_accuracy: 0.6392\n",
            "Epoch 122/250\n",
            "499/499 [==============================] - 5s 11ms/step - loss: 0.0238 - accuracy: 0.9935 - val_loss: 1.5003 - val_accuracy: 0.6427\n",
            "Epoch 123/250\n",
            "499/499 [==============================] - 5s 11ms/step - loss: 0.0235 - accuracy: 0.9928 - val_loss: 1.5072 - val_accuracy: 0.6433\n",
            "Epoch 124/250\n",
            "499/499 [==============================] - 6s 11ms/step - loss: 0.0237 - accuracy: 0.9926 - val_loss: 1.5235 - val_accuracy: 0.6312\n",
            "Epoch 125/250\n",
            "499/499 [==============================] - 6s 11ms/step - loss: 0.0221 - accuracy: 0.9943 - val_loss: 1.5295 - val_accuracy: 0.6372\n",
            "Epoch 126/250\n",
            "499/499 [==============================] - 6s 11ms/step - loss: 0.0213 - accuracy: 0.9929 - val_loss: 1.5452 - val_accuracy: 0.6342\n",
            "Epoch 127/250\n",
            "499/499 [==============================] - 5s 11ms/step - loss: 0.0225 - accuracy: 0.9926 - val_loss: 1.5453 - val_accuracy: 0.6402\n",
            "Epoch 128/250\n",
            "499/499 [==============================] - 5s 11ms/step - loss: 0.0193 - accuracy: 0.9942 - val_loss: 1.5738 - val_accuracy: 0.6372\n",
            "Epoch 129/250\n",
            "499/499 [==============================] - 5s 11ms/step - loss: 0.0214 - accuracy: 0.9932 - val_loss: 1.5744 - val_accuracy: 0.6367\n",
            "Epoch 130/250\n",
            "499/499 [==============================] - 5s 11ms/step - loss: 0.0201 - accuracy: 0.9937 - val_loss: 1.5860 - val_accuracy: 0.6327\n",
            "Epoch 131/250\n",
            "499/499 [==============================] - 5s 11ms/step - loss: 0.0191 - accuracy: 0.9942 - val_loss: 1.5922 - val_accuracy: 0.6402\n",
            "Epoch 132/250\n",
            "499/499 [==============================] - 5s 11ms/step - loss: 0.0190 - accuracy: 0.9934 - val_loss: 1.5977 - val_accuracy: 0.6402\n",
            "Epoch 133/250\n",
            "499/499 [==============================] - 5s 11ms/step - loss: 0.0187 - accuracy: 0.9936 - val_loss: 1.6064 - val_accuracy: 0.6397\n",
            "Epoch 134/250\n",
            "499/499 [==============================] - 5s 11ms/step - loss: 0.0173 - accuracy: 0.9945 - val_loss: 1.6241 - val_accuracy: 0.6397\n",
            "Epoch 135/250\n",
            "499/499 [==============================] - 5s 11ms/step - loss: 0.0175 - accuracy: 0.9942 - val_loss: 1.6336 - val_accuracy: 0.6402\n",
            "Epoch 136/250\n",
            "499/499 [==============================] - 5s 11ms/step - loss: 0.0180 - accuracy: 0.9942 - val_loss: 1.6450 - val_accuracy: 0.6362\n",
            "Epoch 137/250\n",
            "499/499 [==============================] - 5s 11ms/step - loss: 0.0163 - accuracy: 0.9945 - val_loss: 1.6592 - val_accuracy: 0.6407\n",
            "Epoch 138/250\n",
            "499/499 [==============================] - 5s 11ms/step - loss: 0.0163 - accuracy: 0.9947 - val_loss: 1.6609 - val_accuracy: 0.6392\n",
            "Epoch 139/250\n",
            "499/499 [==============================] - 5s 11ms/step - loss: 0.0155 - accuracy: 0.9950 - val_loss: 1.6694 - val_accuracy: 0.6407\n",
            "Epoch 140/250\n",
            "499/499 [==============================] - 5s 11ms/step - loss: 0.0170 - accuracy: 0.9942 - val_loss: 1.6860 - val_accuracy: 0.6357\n",
            "Epoch 141/250\n",
            "499/499 [==============================] - 5s 11ms/step - loss: 0.0157 - accuracy: 0.9949 - val_loss: 1.6913 - val_accuracy: 0.6362\n",
            "Epoch 142/250\n",
            "499/499 [==============================] - 5s 11ms/step - loss: 0.0147 - accuracy: 0.9948 - val_loss: 1.6947 - val_accuracy: 0.6372\n",
            "Epoch 143/250\n",
            "499/499 [==============================] - 5s 11ms/step - loss: 0.0151 - accuracy: 0.9950 - val_loss: 1.6988 - val_accuracy: 0.6382\n",
            "Epoch 144/250\n",
            "499/499 [==============================] - 5s 11ms/step - loss: 0.0167 - accuracy: 0.9942 - val_loss: 1.7034 - val_accuracy: 0.6402\n",
            "Epoch 145/250\n",
            "499/499 [==============================] - 5s 11ms/step - loss: 0.0143 - accuracy: 0.9954 - val_loss: 1.7070 - val_accuracy: 0.6372\n",
            "Epoch 146/250\n",
            "499/499 [==============================] - 5s 11ms/step - loss: 0.0131 - accuracy: 0.9954 - val_loss: 1.7202 - val_accuracy: 0.6397\n",
            "Epoch 147/250\n",
            "499/499 [==============================] - 6s 11ms/step - loss: 0.0148 - accuracy: 0.9951 - val_loss: 1.7370 - val_accuracy: 0.6407\n",
            "Epoch 148/250\n",
            "499/499 [==============================] - 5s 11ms/step - loss: 0.0147 - accuracy: 0.9950 - val_loss: 1.7520 - val_accuracy: 0.6392\n",
            "Epoch 149/250\n",
            "499/499 [==============================] - 5s 11ms/step - loss: 0.0139 - accuracy: 0.9952 - val_loss: 1.7456 - val_accuracy: 0.6392\n",
            "Epoch 150/250\n",
            "499/499 [==============================] - 5s 11ms/step - loss: 0.0152 - accuracy: 0.9946 - val_loss: 1.7659 - val_accuracy: 0.6372\n",
            "Epoch 151/250\n",
            "499/499 [==============================] - 5s 11ms/step - loss: 0.0146 - accuracy: 0.9950 - val_loss: 1.7637 - val_accuracy: 0.6402\n",
            "Epoch 152/250\n",
            "499/499 [==============================] - 5s 11ms/step - loss: 0.0122 - accuracy: 0.9958 - val_loss: 1.7662 - val_accuracy: 0.6412\n",
            "Epoch 153/250\n",
            "499/499 [==============================] - 5s 11ms/step - loss: 0.0136 - accuracy: 0.9950 - val_loss: 1.7691 - val_accuracy: 0.6407\n",
            "Epoch 154/250\n",
            "499/499 [==============================] - 5s 11ms/step - loss: 0.0129 - accuracy: 0.9948 - val_loss: 1.7702 - val_accuracy: 0.6417\n",
            "Epoch 155/250\n",
            "499/499 [==============================] - 5s 11ms/step - loss: 0.0132 - accuracy: 0.9950 - val_loss: 1.7877 - val_accuracy: 0.6407\n",
            "Epoch 156/250\n",
            "499/499 [==============================] - 5s 11ms/step - loss: 0.0137 - accuracy: 0.9950 - val_loss: 1.7903 - val_accuracy: 0.6397\n",
            "Epoch 157/250\n",
            "499/499 [==============================] - 6s 11ms/step - loss: 0.0126 - accuracy: 0.9954 - val_loss: 1.8029 - val_accuracy: 0.6392\n",
            "Epoch 158/250\n",
            "499/499 [==============================] - 5s 11ms/step - loss: 0.0125 - accuracy: 0.9950 - val_loss: 1.7932 - val_accuracy: 0.6422\n",
            "Epoch 159/250\n",
            "499/499 [==============================] - 5s 11ms/step - loss: 0.0129 - accuracy: 0.9952 - val_loss: 1.7977 - val_accuracy: 0.6362\n",
            "Epoch 160/250\n",
            "499/499 [==============================] - 5s 11ms/step - loss: 0.0120 - accuracy: 0.9949 - val_loss: 1.8105 - val_accuracy: 0.6377\n",
            "Epoch 161/250\n",
            "499/499 [==============================] - 6s 11ms/step - loss: 0.0124 - accuracy: 0.9951 - val_loss: 1.8247 - val_accuracy: 0.6427\n",
            "Epoch 162/250\n",
            "499/499 [==============================] - 6s 11ms/step - loss: 0.0118 - accuracy: 0.9952 - val_loss: 1.8274 - val_accuracy: 0.6427\n",
            "Epoch 163/250\n",
            "499/499 [==============================] - 6s 11ms/step - loss: 0.0123 - accuracy: 0.9952 - val_loss: 1.8291 - val_accuracy: 0.6427\n",
            "Epoch 164/250\n",
            "499/499 [==============================] - 5s 11ms/step - loss: 0.0127 - accuracy: 0.9952 - val_loss: 1.8454 - val_accuracy: 0.6438\n",
            "Epoch 165/250\n",
            "499/499 [==============================] - 5s 11ms/step - loss: 0.0128 - accuracy: 0.9949 - val_loss: 1.8404 - val_accuracy: 0.6397\n",
            "Epoch 166/250\n",
            "499/499 [==============================] - 5s 11ms/step - loss: 0.0116 - accuracy: 0.9953 - val_loss: 1.8528 - val_accuracy: 0.6407\n",
            "Epoch 167/250\n",
            "499/499 [==============================] - 5s 11ms/step - loss: 0.0129 - accuracy: 0.9950 - val_loss: 1.8516 - val_accuracy: 0.6372\n",
            "Epoch 168/250\n",
            "499/499 [==============================] - 5s 11ms/step - loss: 0.0114 - accuracy: 0.9958 - val_loss: 1.8517 - val_accuracy: 0.6412\n",
            "Epoch 169/250\n",
            "499/499 [==============================] - 5s 11ms/step - loss: 0.0117 - accuracy: 0.9952 - val_loss: 1.8548 - val_accuracy: 0.6407\n",
            "Epoch 170/250\n",
            "499/499 [==============================] - 5s 11ms/step - loss: 0.0114 - accuracy: 0.9954 - val_loss: 1.8728 - val_accuracy: 0.6417\n",
            "Epoch 171/250\n",
            "499/499 [==============================] - 5s 11ms/step - loss: 0.0117 - accuracy: 0.9950 - val_loss: 1.8625 - val_accuracy: 0.6402\n",
            "Epoch 172/250\n",
            "499/499 [==============================] - 5s 11ms/step - loss: 0.0115 - accuracy: 0.9951 - val_loss: 1.8911 - val_accuracy: 0.6422\n",
            "Epoch 173/250\n",
            "499/499 [==============================] - 6s 11ms/step - loss: 0.0102 - accuracy: 0.9959 - val_loss: 1.8693 - val_accuracy: 0.6387\n",
            "Epoch 174/250\n",
            "499/499 [==============================] - 5s 11ms/step - loss: 0.0117 - accuracy: 0.9954 - val_loss: 1.8816 - val_accuracy: 0.6433\n",
            "Epoch 175/250\n",
            "499/499 [==============================] - 5s 11ms/step - loss: 0.0117 - accuracy: 0.9955 - val_loss: 1.8750 - val_accuracy: 0.6392\n",
            "Epoch 176/250\n",
            "499/499 [==============================] - 6s 11ms/step - loss: 0.0116 - accuracy: 0.9955 - val_loss: 1.8882 - val_accuracy: 0.6422\n",
            "Epoch 177/250\n",
            "499/499 [==============================] - 6s 11ms/step - loss: 0.0115 - accuracy: 0.9955 - val_loss: 1.8886 - val_accuracy: 0.6397\n",
            "Epoch 178/250\n",
            "499/499 [==============================] - 5s 11ms/step - loss: 0.0110 - accuracy: 0.9955 - val_loss: 1.8912 - val_accuracy: 0.6433\n",
            "Epoch 179/250\n",
            "499/499 [==============================] - 5s 11ms/step - loss: 0.0111 - accuracy: 0.9951 - val_loss: 1.9028 - val_accuracy: 0.6402\n",
            "Epoch 180/250\n",
            "499/499 [==============================] - 5s 11ms/step - loss: 0.0099 - accuracy: 0.9957 - val_loss: 1.9094 - val_accuracy: 0.6397\n",
            "Epoch 181/250\n",
            "499/499 [==============================] - 6s 11ms/step - loss: 0.0102 - accuracy: 0.9954 - val_loss: 1.9273 - val_accuracy: 0.6417\n",
            "Epoch 182/250\n",
            "499/499 [==============================] - 6s 11ms/step - loss: 0.0096 - accuracy: 0.9957 - val_loss: 1.9197 - val_accuracy: 0.6417\n",
            "Epoch 183/250\n",
            "499/499 [==============================] - 5s 11ms/step - loss: 0.0110 - accuracy: 0.9955 - val_loss: 1.9190 - val_accuracy: 0.6427\n",
            "Epoch 184/250\n",
            "499/499 [==============================] - 5s 11ms/step - loss: 0.0112 - accuracy: 0.9955 - val_loss: 1.9086 - val_accuracy: 0.6407\n",
            "Epoch 185/250\n",
            "499/499 [==============================] - 5s 11ms/step - loss: 0.0115 - accuracy: 0.9956 - val_loss: 1.9276 - val_accuracy: 0.6417\n",
            "Epoch 186/250\n",
            "499/499 [==============================] - 5s 11ms/step - loss: 0.0102 - accuracy: 0.9957 - val_loss: 1.9286 - val_accuracy: 0.6427\n",
            "Epoch 187/250\n",
            "499/499 [==============================] - 5s 11ms/step - loss: 0.0111 - accuracy: 0.9949 - val_loss: 1.9211 - val_accuracy: 0.6433\n",
            "Epoch 188/250\n",
            "499/499 [==============================] - 5s 11ms/step - loss: 0.0113 - accuracy: 0.9958 - val_loss: 1.9223 - val_accuracy: 0.6407\n",
            "Epoch 189/250\n",
            "499/499 [==============================] - 6s 11ms/step - loss: 0.0109 - accuracy: 0.9957 - val_loss: 1.9292 - val_accuracy: 0.6433\n",
            "Epoch 190/250\n",
            "499/499 [==============================] - 6s 11ms/step - loss: 0.0113 - accuracy: 0.9951 - val_loss: 1.9409 - val_accuracy: 0.6438\n",
            "Epoch 191/250\n",
            "499/499 [==============================] - 6s 11ms/step - loss: 0.0106 - accuracy: 0.9953 - val_loss: 1.9233 - val_accuracy: 0.6463\n",
            "Epoch 192/250\n",
            "499/499 [==============================] - 5s 11ms/step - loss: 0.0102 - accuracy: 0.9955 - val_loss: 1.9373 - val_accuracy: 0.6427\n",
            "Epoch 193/250\n",
            "499/499 [==============================] - 5s 11ms/step - loss: 0.0099 - accuracy: 0.9954 - val_loss: 1.9524 - val_accuracy: 0.6427\n",
            "Epoch 194/250\n",
            "499/499 [==============================] - 5s 11ms/step - loss: 0.0107 - accuracy: 0.9952 - val_loss: 1.9374 - val_accuracy: 0.6392\n",
            "Epoch 195/250\n",
            "499/499 [==============================] - 6s 11ms/step - loss: 0.0104 - accuracy: 0.9954 - val_loss: 1.9436 - val_accuracy: 0.6448\n",
            "Epoch 196/250\n",
            "499/499 [==============================] - 5s 11ms/step - loss: 0.0115 - accuracy: 0.9950 - val_loss: 1.9445 - val_accuracy: 0.6433\n",
            "Epoch 197/250\n",
            "499/499 [==============================] - 5s 11ms/step - loss: 0.0113 - accuracy: 0.9956 - val_loss: 1.9601 - val_accuracy: 0.6407\n",
            "Epoch 198/250\n",
            "499/499 [==============================] - 5s 11ms/step - loss: 0.0108 - accuracy: 0.9953 - val_loss: 1.9443 - val_accuracy: 0.6427\n",
            "Epoch 199/250\n",
            "499/499 [==============================] - 5s 11ms/step - loss: 0.0103 - accuracy: 0.9952 - val_loss: 1.9614 - val_accuracy: 0.6478\n",
            "Epoch 200/250\n",
            "499/499 [==============================] - 5s 11ms/step - loss: 0.0102 - accuracy: 0.9959 - val_loss: 1.9658 - val_accuracy: 0.6422\n",
            "Epoch 201/250\n",
            "499/499 [==============================] - 5s 11ms/step - loss: 0.0098 - accuracy: 0.9959 - val_loss: 1.9639 - val_accuracy: 0.6262\n",
            "Epoch 202/250\n",
            "499/499 [==============================] - 5s 11ms/step - loss: 0.0108 - accuracy: 0.9950 - val_loss: 1.9618 - val_accuracy: 0.6402\n",
            "Epoch 203/250\n",
            "499/499 [==============================] - 5s 11ms/step - loss: 0.0100 - accuracy: 0.9957 - val_loss: 1.9541 - val_accuracy: 0.6422\n",
            "Epoch 204/250\n",
            "499/499 [==============================] - 6s 11ms/step - loss: 0.0100 - accuracy: 0.9955 - val_loss: 1.9666 - val_accuracy: 0.6427\n",
            "Epoch 205/250\n",
            "499/499 [==============================] - 5s 11ms/step - loss: 0.0107 - accuracy: 0.9952 - val_loss: 1.9775 - val_accuracy: 0.6367\n",
            "Epoch 206/250\n",
            "499/499 [==============================] - 6s 11ms/step - loss: 0.0112 - accuracy: 0.9946 - val_loss: 1.9844 - val_accuracy: 0.6372\n",
            "Epoch 207/250\n",
            "499/499 [==============================] - 5s 11ms/step - loss: 0.0111 - accuracy: 0.9947 - val_loss: 1.9721 - val_accuracy: 0.6422\n",
            "Epoch 208/250\n",
            "499/499 [==============================] - 5s 11ms/step - loss: 0.0104 - accuracy: 0.9956 - val_loss: 1.9740 - val_accuracy: 0.6387\n",
            "Epoch 209/250\n",
            "499/499 [==============================] - 5s 11ms/step - loss: 0.0105 - accuracy: 0.9954 - val_loss: 1.9820 - val_accuracy: 0.6407\n",
            "Epoch 210/250\n",
            "499/499 [==============================] - 5s 11ms/step - loss: 0.0104 - accuracy: 0.9952 - val_loss: 1.9738 - val_accuracy: 0.6402\n",
            "Epoch 211/250\n",
            "499/499 [==============================] - 5s 11ms/step - loss: 0.0095 - accuracy: 0.9958 - val_loss: 1.9868 - val_accuracy: 0.6392\n",
            "Epoch 212/250\n",
            "499/499 [==============================] - 5s 11ms/step - loss: 0.0102 - accuracy: 0.9955 - val_loss: 1.9851 - val_accuracy: 0.6443\n",
            "Epoch 213/250\n",
            "499/499 [==============================] - 5s 11ms/step - loss: 0.0099 - accuracy: 0.9951 - val_loss: 1.9955 - val_accuracy: 0.6407\n",
            "Epoch 214/250\n",
            "499/499 [==============================] - 5s 11ms/step - loss: 0.0109 - accuracy: 0.9950 - val_loss: 1.9709 - val_accuracy: 0.6427\n",
            "Epoch 215/250\n",
            "499/499 [==============================] - 5s 11ms/step - loss: 0.0106 - accuracy: 0.9955 - val_loss: 1.9821 - val_accuracy: 0.6417\n",
            "Epoch 216/250\n",
            "499/499 [==============================] - 5s 10ms/step - loss: 0.0102 - accuracy: 0.9953 - val_loss: 1.9760 - val_accuracy: 0.6422\n",
            "Epoch 217/250\n",
            "499/499 [==============================] - 5s 11ms/step - loss: 0.0099 - accuracy: 0.9954 - val_loss: 1.9837 - val_accuracy: 0.6392\n",
            "Epoch 218/250\n",
            "499/499 [==============================] - 5s 11ms/step - loss: 0.0103 - accuracy: 0.9955 - val_loss: 1.9898 - val_accuracy: 0.6407\n",
            "Epoch 219/250\n",
            "499/499 [==============================] - 5s 11ms/step - loss: 0.0098 - accuracy: 0.9957 - val_loss: 1.9815 - val_accuracy: 0.6422\n",
            "Epoch 220/250\n",
            "499/499 [==============================] - 5s 11ms/step - loss: 0.0114 - accuracy: 0.9952 - val_loss: 1.9704 - val_accuracy: 0.6422\n",
            "Epoch 221/250\n",
            "499/499 [==============================] - 5s 11ms/step - loss: 0.0088 - accuracy: 0.9957 - val_loss: 1.9940 - val_accuracy: 0.6417\n",
            "Epoch 222/250\n",
            "499/499 [==============================] - 5s 11ms/step - loss: 0.0092 - accuracy: 0.9959 - val_loss: 1.9939 - val_accuracy: 0.6397\n",
            "Epoch 223/250\n",
            "499/499 [==============================] - 5s 11ms/step - loss: 0.0096 - accuracy: 0.9957 - val_loss: 2.0052 - val_accuracy: 0.6382\n",
            "Epoch 224/250\n",
            "499/499 [==============================] - 5s 10ms/step - loss: 0.0093 - accuracy: 0.9963 - val_loss: 2.0012 - val_accuracy: 0.6412\n",
            "Epoch 225/250\n",
            "499/499 [==============================] - 5s 11ms/step - loss: 0.0105 - accuracy: 0.9952 - val_loss: 1.9942 - val_accuracy: 0.6387\n",
            "Epoch 226/250\n",
            "499/499 [==============================] - 5s 11ms/step - loss: 0.0096 - accuracy: 0.9960 - val_loss: 2.0128 - val_accuracy: 0.6433\n",
            "Epoch 227/250\n",
            "499/499 [==============================] - 5s 11ms/step - loss: 0.0095 - accuracy: 0.9955 - val_loss: 2.0043 - val_accuracy: 0.6407\n",
            "Epoch 228/250\n",
            "499/499 [==============================] - 5s 11ms/step - loss: 0.0090 - accuracy: 0.9957 - val_loss: 2.0051 - val_accuracy: 0.6407\n",
            "Epoch 229/250\n",
            "499/499 [==============================] - 5s 11ms/step - loss: 0.0098 - accuracy: 0.9956 - val_loss: 2.0064 - val_accuracy: 0.6397\n",
            "Epoch 230/250\n",
            "499/499 [==============================] - 5s 11ms/step - loss: 0.0106 - accuracy: 0.9955 - val_loss: 1.9974 - val_accuracy: 0.6377\n",
            "Epoch 231/250\n",
            "499/499 [==============================] - 5s 11ms/step - loss: 0.0093 - accuracy: 0.9955 - val_loss: 2.0159 - val_accuracy: 0.6397\n",
            "Epoch 232/250\n",
            "499/499 [==============================] - 5s 11ms/step - loss: 0.0091 - accuracy: 0.9960 - val_loss: 1.9990 - val_accuracy: 0.6407\n",
            "Epoch 233/250\n",
            "499/499 [==============================] - 5s 11ms/step - loss: 0.0099 - accuracy: 0.9950 - val_loss: 2.0141 - val_accuracy: 0.6422\n",
            "Epoch 234/250\n",
            "499/499 [==============================] - 5s 11ms/step - loss: 0.0089 - accuracy: 0.9955 - val_loss: 2.0273 - val_accuracy: 0.6407\n",
            "Epoch 235/250\n",
            "499/499 [==============================] - 5s 11ms/step - loss: 0.0095 - accuracy: 0.9959 - val_loss: 2.0148 - val_accuracy: 0.6397\n",
            "Epoch 236/250\n",
            "499/499 [==============================] - 5s 11ms/step - loss: 0.0098 - accuracy: 0.9955 - val_loss: 2.0061 - val_accuracy: 0.6407\n",
            "Epoch 237/250\n",
            "499/499 [==============================] - 5s 11ms/step - loss: 0.0094 - accuracy: 0.9957 - val_loss: 2.0144 - val_accuracy: 0.6402\n",
            "Epoch 238/250\n",
            "499/499 [==============================] - 5s 11ms/step - loss: 0.0095 - accuracy: 0.9959 - val_loss: 2.0148 - val_accuracy: 0.6392\n",
            "Epoch 239/250\n",
            "499/499 [==============================] - 5s 11ms/step - loss: 0.0099 - accuracy: 0.9956 - val_loss: 2.0253 - val_accuracy: 0.6407\n",
            "Epoch 240/250\n",
            "499/499 [==============================] - 5s 11ms/step - loss: 0.0097 - accuracy: 0.9950 - val_loss: 2.0094 - val_accuracy: 0.6392\n",
            "Epoch 241/250\n",
            "499/499 [==============================] - 5s 11ms/step - loss: 0.0099 - accuracy: 0.9952 - val_loss: 2.0267 - val_accuracy: 0.6407\n",
            "Epoch 242/250\n",
            "499/499 [==============================] - 5s 11ms/step - loss: 0.0087 - accuracy: 0.9961 - val_loss: 2.0289 - val_accuracy: 0.6407\n",
            "Epoch 243/250\n",
            "499/499 [==============================] - 5s 11ms/step - loss: 0.0101 - accuracy: 0.9952 - val_loss: 2.0297 - val_accuracy: 0.6412\n",
            "Epoch 244/250\n",
            "499/499 [==============================] - 5s 11ms/step - loss: 0.0099 - accuracy: 0.9952 - val_loss: 2.0209 - val_accuracy: 0.6407\n",
            "Epoch 245/250\n",
            "499/499 [==============================] - 5s 11ms/step - loss: 0.0104 - accuracy: 0.9948 - val_loss: 2.0152 - val_accuracy: 0.6433\n",
            "Epoch 246/250\n",
            "499/499 [==============================] - 5s 11ms/step - loss: 0.0097 - accuracy: 0.9954 - val_loss: 2.0227 - val_accuracy: 0.6377\n",
            "Epoch 247/250\n",
            "499/499 [==============================] - 5s 11ms/step - loss: 0.0087 - accuracy: 0.9960 - val_loss: 2.0179 - val_accuracy: 0.6377\n",
            "Epoch 248/250\n",
            "499/499 [==============================] - 5s 11ms/step - loss: 0.0091 - accuracy: 0.9955 - val_loss: 2.0282 - val_accuracy: 0.6412\n",
            "Epoch 249/250\n",
            "499/499 [==============================] - 5s 11ms/step - loss: 0.0101 - accuracy: 0.9956 - val_loss: 2.0525 - val_accuracy: 0.6392\n",
            "Epoch 250/250\n",
            "499/499 [==============================] - 5s 11ms/step - loss: 0.0094 - accuracy: 0.9955 - val_loss: 2.0257 - val_accuracy: 0.6402\n"
          ]
        },
        {
          "output_type": "execute_result",
          "data": {
            "text/plain": [
              "<keras.callbacks.History at 0x7f99162b9dd0>"
            ]
          },
          "metadata": {},
          "execution_count": 31
        }
      ]
    },
    {
      "cell_type": "code",
      "source": [
        "y_prob = model.predict(test_padded)\n",
        "# y_pred = np.argmax(y_prob,axis=1)\n",
        "y_pred = np.where(y_prob >= 0.5, 1, 0)"
      ],
      "metadata": {
        "id": "_7_GXKWHJr2v"
      },
      "execution_count": 32,
      "outputs": []
    },
    {
      "cell_type": "code",
      "source": [
        "print(classification_report(y_test,y_pred, zero_division=0))"
      ],
      "metadata": {
        "colab": {
          "base_uri": "https://localhost:8080/"
        },
        "id": "ZBAGhl1jLAgi",
        "outputId": "1b229ecc-83c5-4797-c3cd-138c34df5198"
      },
      "execution_count": 33,
      "outputs": [
        {
          "output_type": "stream",
          "name": "stdout",
          "text": [
            "              precision    recall  f1-score   support\n",
            "\n",
            "           0       0.66      0.65      0.65      1017\n",
            "           1       0.64      0.65      0.64       976\n",
            "\n",
            "   micro avg       0.65      0.65      0.65      1993\n",
            "   macro avg       0.65      0.65      0.65      1993\n",
            "weighted avg       0.65      0.65      0.65      1993\n",
            " samples avg       0.65      0.65      0.65      1993\n",
            "\n"
          ]
        }
      ]
    }
  ]
}