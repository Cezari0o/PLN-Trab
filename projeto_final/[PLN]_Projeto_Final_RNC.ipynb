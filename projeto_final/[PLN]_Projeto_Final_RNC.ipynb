{
  "nbformat": 4,
  "nbformat_minor": 0,
  "metadata": {
    "colab": {
      "provenance": [],
      "authorship_tag": "ABX9TyM2xtb7Irlj+RUqupAdtVKp"
    },
    "kernelspec": {
      "name": "python3",
      "display_name": "Python 3"
    },
    "language_info": {
      "name": "python"
    },
    "accelerator": "GPU"
  },
  "cells": [
    {
      "cell_type": "code",
      "execution_count": 1,
      "metadata": {
        "colab": {
          "base_uri": "https://localhost:8080/"
        },
        "id": "JeZeikqMXoQy",
        "outputId": "161afdd5-bf2b-472e-dbe5-12de1e0fa0b4"
      },
      "outputs": [
        {
          "output_type": "stream",
          "name": "stdout",
          "text": [
            "Mounted at /content/drive\n"
          ]
        }
      ],
      "source": [
        "from google.colab import drive\n",
        "drive.mount('/content/drive')"
      ]
    },
    {
      "cell_type": "code",
      "source": [
        "!ln --symbolic /content/drive/MyDrive/UnB/PLN/projeto_final/ /dir\n",
        "%cd /dir/.\n",
        "!ls ."
      ],
      "metadata": {
        "colab": {
          "base_uri": "https://localhost:8080/"
        },
        "id": "9rMx-mlSZXBl",
        "outputId": "c2da39b4-da15-434f-c706-e022480e9ebf"
      },
      "execution_count": 2,
      "outputs": [
        {
          "output_type": "stream",
          "name": "stdout",
          "text": [
            "/content/drive/.shortcut-targets-by-id/1yd_wnDhuc_GPjRYs6OAA3jtLMaLl8SXF/UnB/PLN/projeto_final\n",
            "LSTM_Classifier\t\t       Mental-Health-Twitter-pre-processed.csv\n",
            "Mental-Health-Twitter.csv      projeto_final\n",
            "Mental-Health-Twitter.csv.zip\n"
          ]
        }
      ]
    },
    {
      "cell_type": "markdown",
      "source": [
        "# Imports"
      ],
      "metadata": {
        "id": "PjrSyn2yaTPO"
      }
    },
    {
      "cell_type": "code",
      "source": [
        "import pandas as pd\n",
        "import numpy as np\n",
        "from sklearn.model_selection import train_test_split\n",
        "from tensorflow.keras.preprocessing.text import Tokenizer\n",
        "from tensorflow.keras.preprocessing.sequence import pad_sequences\n",
        "\n",
        "import matplotlib.pyplot as plt\n",
        "\n",
        "from keras.models import Sequential\n",
        "from keras.layers import Dense, Embedding, Input, Conv1D, MaxPooling1D, GlobalMaxPooling1D, BatchNormalization\n",
        "from keras.utils.np_utils import to_categorical\n",
        "from tensorflow.keras.optimizers import Adam\n",
        "\n",
        "from keras.utils.np_utils import to_categorical\n",
        "from sklearn.metrics import classification_report"
      ],
      "metadata": {
        "id": "McG34Ow0aSuO"
      },
      "execution_count": 3,
      "outputs": []
    },
    {
      "cell_type": "code",
      "source": [
        "df = pd.read_csv('Mental-Health-Twitter-pre-processed.csv')\n",
        "df = df.drop('Unnamed: 0', axis=1)"
      ],
      "metadata": {
        "id": "2fAzWH7NuTv8"
      },
      "execution_count": 4,
      "outputs": []
    },
    {
      "cell_type": "code",
      "source": [
        "df.columns"
      ],
      "metadata": {
        "colab": {
          "base_uri": "https://localhost:8080/"
        },
        "id": "qAGByy5_yg8F",
        "outputId": "94bb24e0-dd3d-49fc-eaf6-dfe59a84bd6b"
      },
      "execution_count": 5,
      "outputs": [
        {
          "output_type": "execute_result",
          "data": {
            "text/plain": [
              "Index(['post_id', 'post_created', 'post_text', 'user_id', 'followers',\n",
              "       'friends', 'favourites', 'statuses', 'retweets', 'label', 'is_retweet',\n",
              "       'tweet_num_words'],\n",
              "      dtype='object')"
            ]
          },
          "metadata": {},
          "execution_count": 5
        }
      ]
    },
    {
      "cell_type": "code",
      "source": [
        "df.info()"
      ],
      "metadata": {
        "colab": {
          "base_uri": "https://localhost:8080/"
        },
        "id": "848HK2KIaiCu",
        "outputId": "4a14adaa-89f9-4b2e-c8c3-ab63f70c7dd9"
      },
      "execution_count": 6,
      "outputs": [
        {
          "output_type": "stream",
          "name": "stdout",
          "text": [
            "<class 'pandas.core.frame.DataFrame'>\n",
            "RangeIndex: 19929 entries, 0 to 19928\n",
            "Data columns (total 12 columns):\n",
            " #   Column           Non-Null Count  Dtype \n",
            "---  ------           --------------  ----- \n",
            " 0   post_id          19929 non-null  int64 \n",
            " 1   post_created     19929 non-null  object\n",
            " 2   post_text        19929 non-null  object\n",
            " 3   user_id          19929 non-null  int64 \n",
            " 4   followers        19929 non-null  int64 \n",
            " 5   friends          19929 non-null  int64 \n",
            " 6   favourites       19929 non-null  int64 \n",
            " 7   statuses         19929 non-null  int64 \n",
            " 8   retweets         19929 non-null  int64 \n",
            " 9   label            19929 non-null  int64 \n",
            " 10  is_retweet       19929 non-null  int64 \n",
            " 11  tweet_num_words  19929 non-null  int64 \n",
            "dtypes: int64(10), object(2)\n",
            "memory usage: 1.8+ MB\n"
          ]
        }
      ]
    },
    {
      "cell_type": "code",
      "source": [
        "random_seed = 168\n",
        "x_train, x_rest, y_train, y_rest = train_test_split(df['post_text'], df['label'], random_state = random_seed, test_size=0.2, shuffle=True)"
      ],
      "metadata": {
        "id": "1ZaJJj2Juk6N"
      },
      "execution_count": 7,
      "outputs": []
    },
    {
      "cell_type": "code",
      "source": [
        "x_valid, x_test, y_valid, y_test = train_test_split(x_rest, y_rest, random_state = random_seed, test_size=0.5, shuffle=True)"
      ],
      "metadata": {
        "id": "VxnckANSynzO"
      },
      "execution_count": 8,
      "outputs": []
    },
    {
      "cell_type": "code",
      "source": [
        "tokenizer = Tokenizer()\n",
        "tokenizer.fit_on_texts(x_train)"
      ],
      "metadata": {
        "id": "6bviqXevzAKl"
      },
      "execution_count": 9,
      "outputs": []
    },
    {
      "cell_type": "code",
      "source": [
        "train_sequences = tokenizer.texts_to_sequences(x_train)"
      ],
      "metadata": {
        "id": "jtqm8RiR_1KI"
      },
      "execution_count": 10,
      "outputs": []
    },
    {
      "cell_type": "markdown",
      "source": [
        "Em um notebook anterior, o tamanho estimado para os vetores na camada de embedding já tinha sido estimado (em 27), logo, o mesmo tamanho será usado aqui "
      ],
      "metadata": {
        "id": "CIE7IETWa3Te"
      }
    },
    {
      "cell_type": "code",
      "source": [
        "max_len = 27\n",
        "trunc_type = 'post'\n",
        "padding_type = 'post'\n",
        "train_padded = pad_sequences(train_sequences, maxlen= max_len, padding=padding_type, truncating=trunc_type)"
      ],
      "metadata": {
        "id": "-9xhwp7aBh9_"
      },
      "execution_count": 11,
      "outputs": []
    },
    {
      "cell_type": "code",
      "source": [
        "valid_sequences = tokenizer.texts_to_sequences(x_valid)\n",
        "test_sequences = tokenizer.texts_to_sequences(x_test)\n",
        "\n",
        "valid_padded = pad_sequences(valid_sequences, maxlen=max_len, padding=padding_type, truncating=trunc_type)\n",
        "test_padded = pad_sequences(test_sequences, maxlen=max_len, padding=padding_type, truncating=trunc_type)"
      ],
      "metadata": {
        "id": "PN0K_kikBqBu"
      },
      "execution_count": 12,
      "outputs": []
    },
    {
      "cell_type": "markdown",
      "source": [
        "## Tratando a saida"
      ],
      "metadata": {
        "id": "9apsZrCqSFOq"
      }
    },
    {
      "cell_type": "code",
      "source": [
        "y_train = pd.Categorical(y_train)\n",
        "y_train_int = y_train.codes\n",
        "\n",
        "y_valid = pd.Categorical(y_valid)\n",
        "y_valid_int = y_valid.codes\n",
        "\n",
        "y_test = pd.Categorical(y_test)\n",
        "y_test_int = y_test.codes"
      ],
      "metadata": {
        "id": "gYb29aqdSEr2"
      },
      "execution_count": 13,
      "outputs": []
    },
    {
      "cell_type": "code",
      "source": [
        "y_train = to_categorical(y_train_int)\n",
        "y_valid = to_categorical(y_valid_int)\n",
        "y_test = to_categorical(y_test_int)"
      ],
      "metadata": {
        "id": "ju3v1byASZuY"
      },
      "execution_count": 14,
      "outputs": []
    },
    {
      "cell_type": "markdown",
      "source": [
        "# Construindo e Treinando a Rede"
      ],
      "metadata": {
        "id": "YhDPRqGgbR_q"
      }
    },
    {
      "cell_type": "code",
      "source": [
        "model = Sequential(layers = [\n",
        "    Input(shape=[max_len]),\n",
        "    Embedding(input_dim = len(tokenizer.word_counts), output_dim = 512),\n",
        "    Conv1D(kernel_size = 3, filters = 128, activation='relu', padding='same', strides=4),\n",
        "    BatchNormalization(),\n",
        "    MaxPooling1D(pool_size=3, strides=2),\n",
        "\n",
        "    Conv1D(kernel_size = 6, filters = 128, activation='relu', padding='same'),\n",
        "    BatchNormalization(),\n",
        "    MaxPooling1D(pool_size=3, strides=2),\n",
        "\n",
        "    Conv1D(kernel_size = 12, filters = 128, activation='relu', padding='same'),\n",
        "    # MaxPooling1D(pool_size=3, strides=2),\n",
        "    GlobalMaxPooling1D(),\n",
        "\n",
        "    Dense(units=512, activation='relu'),\n",
        "    Dense(units=256, activation='relu'),\n",
        "    Dense(units=16,  activation='relu'),\n",
        "    Dense(units=2,   activation='softmax'),\n",
        "], name = \"RNN_Classifier\")\n",
        "\n",
        "model.summary()"
      ],
      "metadata": {
        "colab": {
          "base_uri": "https://localhost:8080/"
        },
        "id": "mN23UIA6bRCZ",
        "outputId": "18026fc8-5b5f-4680-964e-db34102672c0"
      },
      "execution_count": 34,
      "outputs": [
        {
          "output_type": "stream",
          "name": "stdout",
          "text": [
            "Model: \"RNN_Classifier\"\n",
            "_________________________________________________________________\n",
            " Layer (type)                Output Shape              Param #   \n",
            "=================================================================\n",
            " embedding_10 (Embedding)    (None, 27, 512)           8287744   \n",
            "                                                                 \n",
            " conv1d_30 (Conv1D)          (None, 7, 128)            196736    \n",
            "                                                                 \n",
            " batch_normalization_20 (Bat  (None, 7, 128)           512       \n",
            " chNormalization)                                                \n",
            "                                                                 \n",
            " max_pooling1d_20 (MaxPoolin  (None, 3, 128)           0         \n",
            " g1D)                                                            \n",
            "                                                                 \n",
            " conv1d_31 (Conv1D)          (None, 3, 128)            98432     \n",
            "                                                                 \n",
            " batch_normalization_21 (Bat  (None, 3, 128)           512       \n",
            " chNormalization)                                                \n",
            "                                                                 \n",
            " max_pooling1d_21 (MaxPoolin  (None, 1, 128)           0         \n",
            " g1D)                                                            \n",
            "                                                                 \n",
            " conv1d_32 (Conv1D)          (None, 1, 128)            196736    \n",
            "                                                                 \n",
            " global_max_pooling1d_10 (Gl  (None, 128)              0         \n",
            " obalMaxPooling1D)                                               \n",
            "                                                                 \n",
            " dense_40 (Dense)            (None, 512)               66048     \n",
            "                                                                 \n",
            " dense_41 (Dense)            (None, 256)               131328    \n",
            "                                                                 \n",
            " dense_42 (Dense)            (None, 16)                4112      \n",
            "                                                                 \n",
            " dense_43 (Dense)            (None, 2)                 34        \n",
            "                                                                 \n",
            "=================================================================\n",
            "Total params: 8,982,194\n",
            "Trainable params: 8,981,682\n",
            "Non-trainable params: 512\n",
            "_________________________________________________________________\n"
          ]
        }
      ]
    },
    {
      "cell_type": "code",
      "source": [
        "adam_optimizer = Adam(learning_rate=0.002)\n",
        "model.compile(loss=\"categorical_crossentropy\",optimizer=adam_optimizer,metrics=['accuracy'])\n",
        "model.fit(train_padded, y_train, validation_data=(valid_padded, y_valid), epochs=100)"
      ],
      "metadata": {
        "colab": {
          "base_uri": "https://localhost:8080/"
        },
        "id": "cIx7J-7qhM2G",
        "outputId": "fdbab860-070f-474b-e5cb-2e5d20f24f3b"
      },
      "execution_count": 35,
      "outputs": [
        {
          "output_type": "stream",
          "name": "stdout",
          "text": [
            "Epoch 1/100\n",
            "499/499 [==============================] - 7s 12ms/step - loss: 0.5617 - accuracy: 0.6911 - val_loss: 0.4850 - val_accuracy: 0.7501\n",
            "Epoch 2/100\n",
            "499/499 [==============================] - 5s 11ms/step - loss: 0.3136 - accuracy: 0.8646 - val_loss: 0.5708 - val_accuracy: 0.7260\n",
            "Epoch 3/100\n",
            "499/499 [==============================] - 5s 10ms/step - loss: 0.1736 - accuracy: 0.9293 - val_loss: 0.6919 - val_accuracy: 0.7316\n",
            "Epoch 4/100\n",
            "499/499 [==============================] - 5s 10ms/step - loss: 0.1125 - accuracy: 0.9546 - val_loss: 0.8803 - val_accuracy: 0.7306\n",
            "Epoch 5/100\n",
            "499/499 [==============================] - 5s 11ms/step - loss: 0.0889 - accuracy: 0.9645 - val_loss: 1.1239 - val_accuracy: 0.7396\n",
            "Epoch 6/100\n",
            "499/499 [==============================] - 5s 11ms/step - loss: 0.0781 - accuracy: 0.9696 - val_loss: 0.9352 - val_accuracy: 0.7371\n",
            "Epoch 7/100\n",
            "499/499 [==============================] - 7s 13ms/step - loss: 0.0676 - accuracy: 0.9742 - val_loss: 0.9066 - val_accuracy: 0.7326\n",
            "Epoch 8/100\n",
            "499/499 [==============================] - 9s 18ms/step - loss: 0.0577 - accuracy: 0.9775 - val_loss: 1.2078 - val_accuracy: 0.7421\n",
            "Epoch 9/100\n",
            "499/499 [==============================] - 7s 15ms/step - loss: 0.0481 - accuracy: 0.9819 - val_loss: 1.3642 - val_accuracy: 0.7391\n",
            "Epoch 10/100\n",
            "499/499 [==============================] - 6s 12ms/step - loss: 0.0418 - accuracy: 0.9837 - val_loss: 1.5716 - val_accuracy: 0.7386\n",
            "Epoch 11/100\n",
            "499/499 [==============================] - 5s 11ms/step - loss: 0.0410 - accuracy: 0.9831 - val_loss: 1.7115 - val_accuracy: 0.7311\n",
            "Epoch 12/100\n",
            "499/499 [==============================] - 5s 11ms/step - loss: 0.0395 - accuracy: 0.9844 - val_loss: 1.6749 - val_accuracy: 0.7296\n",
            "Epoch 13/100\n",
            "499/499 [==============================] - 5s 10ms/step - loss: 0.0446 - accuracy: 0.9840 - val_loss: 1.4277 - val_accuracy: 0.7376\n",
            "Epoch 14/100\n",
            "499/499 [==============================] - 5s 10ms/step - loss: 0.0341 - accuracy: 0.9856 - val_loss: 1.6404 - val_accuracy: 0.7391\n",
            "Epoch 15/100\n",
            "499/499 [==============================] - 5s 11ms/step - loss: 0.0297 - accuracy: 0.9883 - val_loss: 2.0118 - val_accuracy: 0.7346\n",
            "Epoch 16/100\n",
            "499/499 [==============================] - 5s 10ms/step - loss: 0.0268 - accuracy: 0.9893 - val_loss: 1.2625 - val_accuracy: 0.7421\n",
            "Epoch 17/100\n",
            "499/499 [==============================] - 5s 11ms/step - loss: 0.0318 - accuracy: 0.9878 - val_loss: 1.6563 - val_accuracy: 0.7175\n",
            "Epoch 18/100\n",
            "499/499 [==============================] - 5s 10ms/step - loss: 0.0290 - accuracy: 0.9885 - val_loss: 1.7482 - val_accuracy: 0.7125\n",
            "Epoch 19/100\n",
            "499/499 [==============================] - 5s 10ms/step - loss: 0.0245 - accuracy: 0.9891 - val_loss: 1.5377 - val_accuracy: 0.7341\n",
            "Epoch 20/100\n",
            "499/499 [==============================] - 5s 11ms/step - loss: 0.0283 - accuracy: 0.9885 - val_loss: 1.4804 - val_accuracy: 0.7466\n",
            "Epoch 21/100\n",
            "499/499 [==============================] - 5s 11ms/step - loss: 0.0281 - accuracy: 0.9896 - val_loss: 2.3803 - val_accuracy: 0.7346\n",
            "Epoch 22/100\n",
            "499/499 [==============================] - 5s 10ms/step - loss: 0.0239 - accuracy: 0.9902 - val_loss: 1.9525 - val_accuracy: 0.7406\n",
            "Epoch 23/100\n",
            "499/499 [==============================] - 5s 11ms/step - loss: 0.0195 - accuracy: 0.9919 - val_loss: 1.8229 - val_accuracy: 0.7411\n",
            "Epoch 24/100\n",
            "499/499 [==============================] - 5s 11ms/step - loss: 0.0228 - accuracy: 0.9904 - val_loss: 2.6889 - val_accuracy: 0.7175\n",
            "Epoch 25/100\n",
            "499/499 [==============================] - 5s 10ms/step - loss: 0.0249 - accuracy: 0.9901 - val_loss: 1.7229 - val_accuracy: 0.7175\n",
            "Epoch 26/100\n",
            "499/499 [==============================] - 5s 11ms/step - loss: 0.0257 - accuracy: 0.9898 - val_loss: 2.0528 - val_accuracy: 0.7331\n",
            "Epoch 27/100\n",
            "499/499 [==============================] - 5s 10ms/step - loss: 0.0221 - accuracy: 0.9904 - val_loss: 2.9683 - val_accuracy: 0.7336\n",
            "Epoch 28/100\n",
            "499/499 [==============================] - 5s 11ms/step - loss: 0.0217 - accuracy: 0.9908 - val_loss: 3.0750 - val_accuracy: 0.7341\n",
            "Epoch 29/100\n",
            "499/499 [==============================] - 6s 11ms/step - loss: 0.0243 - accuracy: 0.9891 - val_loss: 1.3390 - val_accuracy: 0.7205\n",
            "Epoch 30/100\n",
            "499/499 [==============================] - 5s 11ms/step - loss: 0.0201 - accuracy: 0.9908 - val_loss: 3.0218 - val_accuracy: 0.7466\n",
            "Epoch 31/100\n",
            "499/499 [==============================] - 5s 10ms/step - loss: 0.0180 - accuracy: 0.9916 - val_loss: 2.8441 - val_accuracy: 0.7431\n",
            "Epoch 32/100\n",
            "499/499 [==============================] - 5s 10ms/step - loss: 0.0202 - accuracy: 0.9916 - val_loss: 1.8884 - val_accuracy: 0.7316\n",
            "Epoch 33/100\n",
            "499/499 [==============================] - 5s 11ms/step - loss: 0.0167 - accuracy: 0.9930 - val_loss: 2.3797 - val_accuracy: 0.7356\n",
            "Epoch 34/100\n",
            "499/499 [==============================] - 5s 11ms/step - loss: 0.0175 - accuracy: 0.9929 - val_loss: 2.1161 - val_accuracy: 0.7301\n",
            "Epoch 35/100\n",
            "499/499 [==============================] - 5s 10ms/step - loss: 0.0190 - accuracy: 0.9928 - val_loss: 3.1091 - val_accuracy: 0.7476\n",
            "Epoch 36/100\n",
            "499/499 [==============================] - 6s 12ms/step - loss: 0.0204 - accuracy: 0.9917 - val_loss: 1.7981 - val_accuracy: 0.7436\n",
            "Epoch 37/100\n",
            "499/499 [==============================] - 5s 11ms/step - loss: 0.0163 - accuracy: 0.9926 - val_loss: 2.4175 - val_accuracy: 0.7451\n",
            "Epoch 38/100\n",
            "499/499 [==============================] - 5s 11ms/step - loss: 0.0168 - accuracy: 0.9936 - val_loss: 5.3163 - val_accuracy: 0.7406\n",
            "Epoch 39/100\n",
            "499/499 [==============================] - 5s 11ms/step - loss: 0.0194 - accuracy: 0.9930 - val_loss: 2.3849 - val_accuracy: 0.7411\n",
            "Epoch 40/100\n",
            "499/499 [==============================] - 6s 12ms/step - loss: 0.0212 - accuracy: 0.9911 - val_loss: 2.5201 - val_accuracy: 0.7240\n",
            "Epoch 41/100\n",
            "499/499 [==============================] - 5s 11ms/step - loss: 0.0180 - accuracy: 0.9928 - val_loss: 2.4192 - val_accuracy: 0.7331\n",
            "Epoch 42/100\n",
            "499/499 [==============================] - 5s 11ms/step - loss: 0.0150 - accuracy: 0.9934 - val_loss: 3.7728 - val_accuracy: 0.7416\n",
            "Epoch 43/100\n",
            "499/499 [==============================] - 6s 11ms/step - loss: 0.0162 - accuracy: 0.9938 - val_loss: 2.7161 - val_accuracy: 0.7371\n",
            "Epoch 44/100\n",
            "499/499 [==============================] - 6s 11ms/step - loss: 0.0173 - accuracy: 0.9930 - val_loss: 1.8991 - val_accuracy: 0.7265\n",
            "Epoch 45/100\n",
            "499/499 [==============================] - 5s 11ms/step - loss: 0.0153 - accuracy: 0.9934 - val_loss: 2.8527 - val_accuracy: 0.7366\n",
            "Epoch 46/100\n",
            "499/499 [==============================] - 5s 11ms/step - loss: 0.0125 - accuracy: 0.9941 - val_loss: 3.6653 - val_accuracy: 0.7396\n",
            "Epoch 47/100\n",
            "499/499 [==============================] - 5s 11ms/step - loss: 0.0117 - accuracy: 0.9940 - val_loss: 2.4930 - val_accuracy: 0.7235\n",
            "Epoch 48/100\n",
            "499/499 [==============================] - 5s 11ms/step - loss: 0.0161 - accuracy: 0.9925 - val_loss: 2.4255 - val_accuracy: 0.7331\n",
            "Epoch 49/100\n",
            "499/499 [==============================] - 5s 11ms/step - loss: 0.0135 - accuracy: 0.9937 - val_loss: 2.9966 - val_accuracy: 0.7270\n",
            "Epoch 50/100\n",
            "499/499 [==============================] - 5s 11ms/step - loss: 0.0141 - accuracy: 0.9930 - val_loss: 2.4625 - val_accuracy: 0.7306\n",
            "Epoch 51/100\n",
            "499/499 [==============================] - 5s 11ms/step - loss: 0.0148 - accuracy: 0.9936 - val_loss: 4.0034 - val_accuracy: 0.7280\n",
            "Epoch 52/100\n",
            "499/499 [==============================] - 5s 11ms/step - loss: 0.0158 - accuracy: 0.9930 - val_loss: 4.4180 - val_accuracy: 0.7280\n",
            "Epoch 53/100\n",
            "499/499 [==============================] - 6s 11ms/step - loss: 0.0162 - accuracy: 0.9928 - val_loss: 3.8558 - val_accuracy: 0.7336\n",
            "Epoch 54/100\n",
            "499/499 [==============================] - 6s 11ms/step - loss: 0.0141 - accuracy: 0.9940 - val_loss: 3.1884 - val_accuracy: 0.7316\n",
            "Epoch 55/100\n",
            "499/499 [==============================] - 5s 10ms/step - loss: 0.0098 - accuracy: 0.9944 - val_loss: 3.5202 - val_accuracy: 0.7336\n",
            "Epoch 56/100\n",
            "499/499 [==============================] - 5s 10ms/step - loss: 0.0160 - accuracy: 0.9935 - val_loss: 2.4970 - val_accuracy: 0.7321\n",
            "Epoch 57/100\n",
            "499/499 [==============================] - 5s 10ms/step - loss: 0.0133 - accuracy: 0.9936 - val_loss: 2.9115 - val_accuracy: 0.7280\n",
            "Epoch 58/100\n",
            "499/499 [==============================] - 5s 10ms/step - loss: 0.0159 - accuracy: 0.9943 - val_loss: 3.3825 - val_accuracy: 0.7291\n",
            "Epoch 59/100\n",
            "499/499 [==============================] - 5s 10ms/step - loss: 0.0178 - accuracy: 0.9932 - val_loss: 3.1918 - val_accuracy: 0.7255\n",
            "Epoch 60/100\n",
            "499/499 [==============================] - 5s 10ms/step - loss: 0.0222 - accuracy: 0.9924 - val_loss: 6.4053 - val_accuracy: 0.7316\n",
            "Epoch 61/100\n",
            "499/499 [==============================] - 5s 10ms/step - loss: 0.0168 - accuracy: 0.9921 - val_loss: 7.9068 - val_accuracy: 0.7311\n",
            "Epoch 62/100\n",
            "499/499 [==============================] - 5s 10ms/step - loss: 0.0163 - accuracy: 0.9932 - val_loss: 4.4815 - val_accuracy: 0.7285\n",
            "Epoch 63/100\n",
            "499/499 [==============================] - 5s 11ms/step - loss: 0.0155 - accuracy: 0.9935 - val_loss: 4.5560 - val_accuracy: 0.7301\n",
            "Epoch 64/100\n",
            "499/499 [==============================] - 5s 11ms/step - loss: 0.0151 - accuracy: 0.9935 - val_loss: 4.0125 - val_accuracy: 0.7255\n",
            "Epoch 65/100\n",
            "499/499 [==============================] - 5s 10ms/step - loss: 0.0136 - accuracy: 0.9950 - val_loss: 4.4908 - val_accuracy: 0.7341\n",
            "Epoch 66/100\n",
            "499/499 [==============================] - 5s 10ms/step - loss: 0.0098 - accuracy: 0.9947 - val_loss: 14.7632 - val_accuracy: 0.7296\n",
            "Epoch 67/100\n",
            "499/499 [==============================] - 5s 11ms/step - loss: 0.0118 - accuracy: 0.9948 - val_loss: 7.1160 - val_accuracy: 0.7145\n",
            "Epoch 68/100\n",
            "499/499 [==============================] - 5s 11ms/step - loss: 0.0223 - accuracy: 0.9925 - val_loss: 4.3114 - val_accuracy: 0.7195\n",
            "Epoch 69/100\n",
            "499/499 [==============================] - 5s 11ms/step - loss: 0.0193 - accuracy: 0.9920 - val_loss: 3.0674 - val_accuracy: 0.7215\n",
            "Epoch 70/100\n",
            "499/499 [==============================] - 5s 11ms/step - loss: 0.0143 - accuracy: 0.9940 - val_loss: 4.3055 - val_accuracy: 0.7250\n",
            "Epoch 71/100\n",
            "499/499 [==============================] - 5s 11ms/step - loss: 0.0115 - accuracy: 0.9939 - val_loss: 4.5674 - val_accuracy: 0.7270\n",
            "Epoch 72/100\n",
            "499/499 [==============================] - 6s 12ms/step - loss: 0.0114 - accuracy: 0.9945 - val_loss: 4.7858 - val_accuracy: 0.7311\n",
            "Epoch 73/100\n",
            "499/499 [==============================] - 5s 11ms/step - loss: 0.0137 - accuracy: 0.9939 - val_loss: 4.1810 - val_accuracy: 0.7321\n",
            "Epoch 74/100\n",
            "499/499 [==============================] - 5s 10ms/step - loss: 0.0145 - accuracy: 0.9939 - val_loss: 5.0949 - val_accuracy: 0.7291\n",
            "Epoch 75/100\n",
            "499/499 [==============================] - 5s 11ms/step - loss: 0.0113 - accuracy: 0.9940 - val_loss: 6.6987 - val_accuracy: 0.7130\n",
            "Epoch 76/100\n",
            "499/499 [==============================] - 5s 11ms/step - loss: 0.0120 - accuracy: 0.9947 - val_loss: 6.3925 - val_accuracy: 0.7311\n",
            "Epoch 77/100\n",
            "499/499 [==============================] - 5s 10ms/step - loss: 0.0165 - accuracy: 0.9933 - val_loss: 4.6621 - val_accuracy: 0.7311\n",
            "Epoch 78/100\n",
            "499/499 [==============================] - 5s 11ms/step - loss: 0.0106 - accuracy: 0.9942 - val_loss: 4.8230 - val_accuracy: 0.7280\n",
            "Epoch 79/100\n",
            "499/499 [==============================] - 5s 11ms/step - loss: 0.0104 - accuracy: 0.9950 - val_loss: 5.3706 - val_accuracy: 0.7145\n",
            "Epoch 80/100\n",
            "499/499 [==============================] - 6s 13ms/step - loss: 0.0122 - accuracy: 0.9940 - val_loss: 5.3744 - val_accuracy: 0.7316\n",
            "Epoch 81/100\n",
            "499/499 [==============================] - 5s 11ms/step - loss: 0.0157 - accuracy: 0.9933 - val_loss: 3.3234 - val_accuracy: 0.7356\n",
            "Epoch 82/100\n",
            "499/499 [==============================] - 5s 11ms/step - loss: 0.0151 - accuracy: 0.9942 - val_loss: 4.0122 - val_accuracy: 0.7336\n",
            "Epoch 83/100\n",
            "499/499 [==============================] - 5s 11ms/step - loss: 0.0166 - accuracy: 0.9935 - val_loss: 3.8381 - val_accuracy: 0.7285\n",
            "Epoch 84/100\n",
            "499/499 [==============================] - 5s 11ms/step - loss: 0.0119 - accuracy: 0.9940 - val_loss: 4.1777 - val_accuracy: 0.7316\n",
            "Epoch 85/100\n",
            "499/499 [==============================] - 5s 11ms/step - loss: 0.0124 - accuracy: 0.9941 - val_loss: 5.0684 - val_accuracy: 0.7411\n",
            "Epoch 86/100\n",
            "499/499 [==============================] - 5s 11ms/step - loss: 0.0174 - accuracy: 0.9940 - val_loss: 2.8442 - val_accuracy: 0.7316\n",
            "Epoch 87/100\n",
            "499/499 [==============================] - 5s 11ms/step - loss: 0.0106 - accuracy: 0.9948 - val_loss: 2.9508 - val_accuracy: 0.7361\n",
            "Epoch 88/100\n",
            "499/499 [==============================] - 5s 11ms/step - loss: 0.0101 - accuracy: 0.9950 - val_loss: 3.0417 - val_accuracy: 0.7291\n",
            "Epoch 89/100\n",
            "499/499 [==============================] - 5s 11ms/step - loss: 0.0112 - accuracy: 0.9947 - val_loss: 3.8286 - val_accuracy: 0.7220\n",
            "Epoch 90/100\n",
            "499/499 [==============================] - 5s 10ms/step - loss: 0.0114 - accuracy: 0.9942 - val_loss: 3.5890 - val_accuracy: 0.7306\n",
            "Epoch 91/100\n",
            "499/499 [==============================] - 5s 11ms/step - loss: 0.0140 - accuracy: 0.9943 - val_loss: 3.0762 - val_accuracy: 0.7230\n",
            "Epoch 92/100\n",
            "499/499 [==============================] - 5s 11ms/step - loss: 0.0107 - accuracy: 0.9951 - val_loss: 3.9438 - val_accuracy: 0.7351\n",
            "Epoch 93/100\n",
            "499/499 [==============================] - 5s 11ms/step - loss: 0.0094 - accuracy: 0.9949 - val_loss: 3.4518 - val_accuracy: 0.7316\n",
            "Epoch 94/100\n",
            "499/499 [==============================] - 5s 11ms/step - loss: 0.0125 - accuracy: 0.9942 - val_loss: 3.4046 - val_accuracy: 0.7260\n",
            "Epoch 95/100\n",
            "499/499 [==============================] - 5s 11ms/step - loss: 0.0114 - accuracy: 0.9940 - val_loss: 5.0271 - val_accuracy: 0.7240\n",
            "Epoch 96/100\n",
            "499/499 [==============================] - 5s 11ms/step - loss: 0.0114 - accuracy: 0.9938 - val_loss: 19.1215 - val_accuracy: 0.7301\n",
            "Epoch 97/100\n",
            "499/499 [==============================] - 5s 11ms/step - loss: 0.0174 - accuracy: 0.9933 - val_loss: 8.2116 - val_accuracy: 0.7220\n",
            "Epoch 98/100\n",
            "499/499 [==============================] - 5s 11ms/step - loss: 0.0373 - accuracy: 0.9905 - val_loss: 3.2285 - val_accuracy: 0.7210\n",
            "Epoch 99/100\n",
            "499/499 [==============================] - 5s 11ms/step - loss: 0.0161 - accuracy: 0.9932 - val_loss: 3.5645 - val_accuracy: 0.7215\n",
            "Epoch 100/100\n",
            "499/499 [==============================] - 5s 11ms/step - loss: 0.0116 - accuracy: 0.9947 - val_loss: 7.0800 - val_accuracy: 0.7260\n"
          ]
        },
        {
          "output_type": "execute_result",
          "data": {
            "text/plain": [
              "<keras.callbacks.History at 0x7f990cf53690>"
            ]
          },
          "metadata": {},
          "execution_count": 35
        }
      ]
    },
    {
      "cell_type": "code",
      "source": [
        "y_prob = model.predict(test_padded)\n",
        "# y_pred = np.argmax(y_prob,axis=1)\n",
        "y_pred = np.where(y_prob >= 0.5, 1, 0)"
      ],
      "metadata": {
        "id": "_7_GXKWHJr2v"
      },
      "execution_count": 36,
      "outputs": []
    },
    {
      "cell_type": "code",
      "source": [
        "print(classification_report(y_test,y_pred, zero_division=0))"
      ],
      "metadata": {
        "colab": {
          "base_uri": "https://localhost:8080/"
        },
        "id": "ZBAGhl1jLAgi",
        "outputId": "d0bb9804-ff12-4a7e-8b40-9717ea124ac6"
      },
      "execution_count": 37,
      "outputs": [
        {
          "output_type": "stream",
          "name": "stdout",
          "text": [
            "              precision    recall  f1-score   support\n",
            "\n",
            "           0       0.73      0.74      0.74      1017\n",
            "           1       0.73      0.71      0.72       976\n",
            "\n",
            "   micro avg       0.73      0.73      0.73      1993\n",
            "   macro avg       0.73      0.73      0.73      1993\n",
            "weighted avg       0.73      0.73      0.73      1993\n",
            " samples avg       0.73      0.73      0.73      1993\n",
            "\n"
          ]
        }
      ]
    },
    {
      "cell_type": "markdown",
      "source": [
        "## Salvando o modelo"
      ],
      "metadata": {
        "id": "yY9U9NhWfpk4"
      }
    },
    {
      "cell_type": "code",
      "source": [
        "model.save(filepath='RNN_Classifier/.')"
      ],
      "metadata": {
        "id": "6h8eD-sYd3Qc"
      },
      "execution_count": 38,
      "outputs": []
    }
  ]
}